{
 "cells": [
  {
   "cell_type": "markdown",
   "metadata": {},
   "source": [
    "#1 Music Recommendation and Prediction\n",
    "\n",
    "#2 Tweet Power"
   ]
  },
  {
   "cell_type": "markdown",
   "metadata": {},
   "source": [
    "#1 Idea: I'd like to look at various music sources of listening history, music sales, concert venues. Depending on the avaiailable data. First, I'd like to make a recommendation algorithm (depending on the data available). Second, I'd like to see if I can incorpoarte sales tickets, concert reviews, and tour sales to predict and recommend good concert venues and shows to attend\n",
    "\n",
    "Data:\n",
    "Spotify API - https://developer.spotify.com/web-api/tutorial/\n",
    "\n",
    "Last fm API - http://www.last.fm/pl/api\n",
    "\n",
    "Billboard - http://www.compciv.org/recipes/data/touring-the-spotify-api/\n",
    "\n",
    "Musicbrainz - https://musicbrainz.org/doc/MusicBrainz_Database\n",
    "\n",
    "http://atchai.com/blog/2016-05-03-in-search-of-the-perfect-music-dataset/\n",
    "\n",
    "Million Song Data Set - https://www.kaggle.com/c/msdchallenge/\n",
    "\n",
    "Pandora scrapy - https://github.com/sinanuozdemir/SF_DAT_15/blob/1bee6fc76f64b66010571dff93b9b063e35e2264/code/10_scrape_pandora.py (from Dave)\n",
    "\n",
    "Music Recommendation - http://mtg.upf.edu/files/publications/7126eb-DEA-2006-Celma.pdf\n",
    "\n",
    "#2 Idea: Predict stockmarket reactions to presidential (or important cabinet members) social media presence. Can we predict and observe market reactions that are pointed intime to tweets or posts\n",
    "\n",
    "Twitter Scrapping: https://dev.twitter.com/overview/api\n",
    "\n",
    "Yahoo Finance Data: \n",
    "\n",
    "http://meumobi.github.io/stocks%20apis/2016/03/13/get-realtime-stock-quotes-yahoo-finance-api.html\n",
    "\n"
   ]
  },
  {
   "cell_type": "code",
   "execution_count": null,
   "metadata": {
    "collapsed": true
   },
   "outputs": [],
   "source": []
  }
 ],
 "metadata": {
  "anaconda-cloud": {},
  "kernelspec": {
   "display_name": "Python [conda env:dsi]",
   "language": "python",
   "name": "conda-env-dsi-py"
  },
  "language_info": {
   "codemirror_mode": {
    "name": "ipython",
    "version": 2
   },
   "file_extension": ".py",
   "mimetype": "text/x-python",
   "name": "python",
   "nbconvert_exporter": "python",
   "pygments_lexer": "ipython2",
   "version": "2.7.12"
  }
 },
 "nbformat": 4,
 "nbformat_minor": 1
}
