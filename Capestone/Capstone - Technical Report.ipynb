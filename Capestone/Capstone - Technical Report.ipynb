{
 "cells": [
  {
   "cell_type": "markdown",
   "metadata": {},
   "source": [
    "Music Popularity"
   ]
  },
  {
   "cell_type": "markdown",
   "metadata": {},
   "source": [
    "Table of Contents:\n",
    "1. Problem Statement\n",
    "2. Data Collection\n",
    "3. EDA\n",
    "4. EDA Summary\n",
    "5. Model\n",
    "6. Model Evaluation\n",
    "7. Conclusion\n",
    "8. Follow ups/Next Steps\n",
    "\n"
   ]
  },
  {
   "cell_type": "markdown",
   "metadata": {},
   "source": [
    "1. Problem Statement"
   ]
  },
  {
   "cell_type": "markdown",
   "metadata": {},
   "source": [
    "A key component of marketing a product is being able to stand out in front of the \n",
    "masses. The best chance of having success is to make sure you get your message or product is presented in front of the most eyes as possible. Once that is done succesfully, the goal is to have potential customer interact with what you are offering and let the product's value speak for itself.\n",
    "\n",
    "As a fan of all different types of music, I'm always excited to find new artist that I enjoy. When I'm interesting in finding new music as a consumer, I either rely on recommendations from music services (Pandora, Spotify, Soundcloud), or I manually search for music based on different features (genre, decade, friend's music tastes, geographic location, recording labels). \n",
    "\n",
    "Trying to understand the other side for artists and music creators, are there certain things \n",
    "\n",
    "With a large and saturated music landscape, many great artists are always unidentified or acknowledged. "
   ]
  },
  {
   "cell_type": "code",
   "execution_count": null,
   "metadata": {
    "collapsed": true
   },
   "outputs": [],
   "source": []
  }
 ],
 "metadata": {
  "kernelspec": {
   "display_name": "Python [conda env:dsi]",
   "language": "python",
   "name": "conda-env-dsi-py"
  },
  "language_info": {
   "codemirror_mode": {
    "name": "ipython",
    "version": 2
   },
   "file_extension": ".py",
   "mimetype": "text/x-python",
   "name": "python",
   "nbconvert_exporter": "python",
   "pygments_lexer": "ipython2",
   "version": "2.7.12"
  }
 },
 "nbformat": 4,
 "nbformat_minor": 1
}
