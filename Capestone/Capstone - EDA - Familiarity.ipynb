{
 "cells": [
  {
   "cell_type": "code",
   "execution_count": 30,
   "metadata": {
    "collapsed": false
   },
   "outputs": [],
   "source": [
    "####Imports and Setup\n",
    "import os\n",
    "import sys\n",
    "import time\n",
    "import glob\n",
    "import datetime\n",
    "import sqlite3\n",
    "import numpy as np\n",
    "import pandas as pd\n",
    "import matplotlib\n",
    "import matplotlib.pyplot as plt\n",
    "import sklearn\n",
    "import patsy\n",
    "import numpy as np\n",
    "import pandas as pd\n",
    "from scipy import stats\n",
    "import seaborn as sns\n",
    "from sklearn import datasets, linear_model\n",
    "from sklearn.model_selection import train_test_split\n",
    "###########################\n",
    "import numpy as np\n",
    "import scipy \n",
    "from scipy.interpolate import interp1d\n",
    "import seaborn as sns\n",
    "import pandas as pd\n",
    "from sklearn.preprocessing import StandardScaler\n",
    "# We are using the BernoulliNB version of Naive Bayes, which assumes predictors are binary encoded.\n",
    "from sklearn.naive_bayes import BernoulliNB\n",
    "from sklearn.cross_validation import cross_val_score, train_test_split\n",
    "\n",
    "from sklearn.feature_extraction.text import CountVectorizer\n",
    "\n",
    "from sklearn.linear_model import LogisticRegression\n",
    "\n",
    "from sklearn.linear_model import Ridge, Lasso, ElasticNet, LinearRegression, RidgeCV, LassoCV, ElasticNetCV\n",
    "from sklearn.cross_validation import cross_val_score\n",
    "\n",
    "from sklearn.linear_model import LogisticRegressionCV\n",
    "\n",
    "%config InlineBackend.figure_format = 'retina'\n",
    "%matplotlib inline"
   ]
  },
  {
   "cell_type": "code",
   "execution_count": 31,
   "metadata": {
    "collapsed": true
   },
   "outputs": [],
   "source": [
    "def correlation_heat_map(df):\n",
    "    corrs = df.corr()\n",
    "\n",
    "    # Set the default matplotlib figure size:\n",
    "    fig, ax = plt.subplots(figsize=(12,12))\n",
    "\n",
    "    # Generate a mask for the upper triangle (taken from seaborn example gallery)\n",
    "    mask = np.zeros_like(corrs, dtype=np.bool)\n",
    "    mask[np.triu_indices_from(mask)] = True\n",
    "\n",
    "    # Plot the heatmap with seaborn.\n",
    "    # Assign the matplotlib axis the function returns. This will let us resize the labels.\n",
    "    ax = sns.heatmap(corrs, mask=mask, annot=True)\n",
    "\n",
    "    # Resize the labels.\n",
    "    ax.set_xticklabels(ax.xaxis.get_ticklabels(), fontsize=14, rotation=30)\n",
    "    ax.set_yticklabels(ax.yaxis.get_ticklabels(), fontsize=14, rotation=0)\n",
    "\n",
    "    # If you put plt.show() at the bottom, it prevents those useless printouts from matplotlib.\n",
    "    plt.show()\n",
    "\n",
    "def update_columns(col_names, label):\n",
    "    new_names = []\n",
    "    new_names.append(col_names[0])\n",
    "    for name in col_names[1:]:\n",
    "        name = label + name\n",
    "        new_names.append(name)\n",
    "    return new_names\n",
    "\n",
    "def is_ascii(column):\n",
    "    column_list = []\n",
    "    for col in column:\n",
    "        for letter in col:\n",
    "            if ord(letter) > 128:\n",
    "                column_list.append(col)\n",
    "                continue\n",
    "    return column_list\n",
    "\n",
    "def del_cols(df):\n",
    "    cols = list(df.columns.values)\n",
    "    cols_del = []\n",
    "    for x in cols:\n",
    "        for ch in x:\n",
    "            if ch not in 'abcdefghijklmnopqrstuvwxyz_0123456789-':\n",
    "                cols_del.append(x)\n",
    "                continue\n",
    "    return cols_del"
   ]
  },
  {
   "cell_type": "code",
   "execution_count": 32,
   "metadata": {
    "collapsed": true
   },
   "outputs": [],
   "source": [
    "conn_addf_metadata = sqlite3.connect('../../Capstone/MillionSongSubset/AdditionalFiles/subset_track_metadata.db')\n",
    "conn_lyric = sqlite3.connect('../../Capstone/mxm_dataset.db')"
   ]
  },
  {
   "cell_type": "code",
   "execution_count": 33,
   "metadata": {
    "collapsed": true
   },
   "outputs": [],
   "source": [
    "#Combined data set on lyrics and genres (no sub-genres in the data set)\n",
    "df_lyric_comb = pd.read_csv('../Capestone/df_lyric_genre_metadata.csv')\n",
    "\n",
    "#Combined data with sub-genres (no lyrics in the data set)\n",
    "df_tags_comb = pd.read_csv('../Capestone/df_sub_genre_metadata.csv')\n",
    "\n",
    "###Original datasets\n",
    "df_songs = pd.read_sql(\"SELECT * FROM songs\", con=conn_addf_metadata)\n",
    "df_lyric = pd.read_csv('../Capestone/df_lyric_metadata.csv')\n",
    "df_lyric_original = pd.read_sql(\"SELECT * FROM lyrics\", con=conn_lyric)\n",
    "df_genre_wide = pd.read_csv('../Capestone/df_genre_wide.csv') #key is 'track_id'\n",
    "df_genre = pd.read_csv('../../Capstone/genre.csv')\n",
    "#Original sub-genre/tag datasets\n",
    "df_mbtag = pd.read_csv('../Capestone/df_term_artist_mbtag_wide.csv') #key is 'artist_id'\n",
    "df_term = pd.read_csv('../Capestone/df_term_artist_term_wide.csv') #key is 'artist_id'\n",
    "#Combined sub-genre/tag dataset\n",
    "df_sub_genre = pd.read_csv('../Capestone/df_sub_genre.csv') #key is 'artist_id'"
   ]
  },
  {
   "cell_type": "code",
   "execution_count": 34,
   "metadata": {
    "collapsed": true
   },
   "outputs": [],
   "source": [
    "####Additional Cleaning\n",
    "\n",
    "df_genre_wide = df_genre_wide.drop('Unnamed: 0', axis=1)\n",
    "df_genre['genre_value'] = df_genre['genre_A'].map(lambda x: 1 if type(x) == str else 0)\n",
    "\n"
   ]
  },
  {
   "cell_type": "code",
   "execution_count": null,
   "metadata": {
    "collapsed": false
   },
   "outputs": [],
   "source": []
  },
  {
   "cell_type": "code",
   "execution_count": 35,
   "metadata": {
    "collapsed": true
   },
   "outputs": [],
   "source": [
    "###Removing any non ascii characters/features from the dataframe\n",
    "sub_genre_del_columns = del_cols(df_sub_genre)\n",
    "term_del_columns = del_cols(df_term)\n",
    "mbtag_del_columns = del_cols(df_mbtag)\n",
    "tags_combo_columns = del_cols(df_tags_comb)"
   ]
  },
  {
   "cell_type": "code",
   "execution_count": 36,
   "metadata": {
    "collapsed": true
   },
   "outputs": [],
   "source": [
    "###Drop the columns that don't have ascii characters\n",
    "df_sub_genre = df_sub_genre.drop(sub_genre_del_columns, axis=1)\n",
    "df_term =  df_term.drop(term_del_columns, axis=1)\n",
    "df_mbtag =  df_mbtag.drop(mbtag_del_columns, axis=1)\n",
    "df_tags_comb = df_tags_comb.drop(tags_combo_columns, axis=1)"
   ]
  },
  {
   "cell_type": "code",
   "execution_count": 37,
   "metadata": {
    "collapsed": false
   },
   "outputs": [
    {
     "data": {
      "text/plain": [
       "(3710, 218)"
      ]
     },
     "execution_count": 37,
     "metadata": {},
     "output_type": "execute_result"
    }
   ],
   "source": [
    "df_tags_comb.shape"
   ]
  },
  {
   "cell_type": "code",
   "execution_count": 38,
   "metadata": {
    "collapsed": true
   },
   "outputs": [],
   "source": [
    "df_tags_comb = df_tags_comb[(df_tags_comb['year'] != 0)]"
   ]
  },
  {
   "cell_type": "code",
   "execution_count": 39,
   "metadata": {
    "collapsed": false
   },
   "outputs": [
    {
     "data": {
      "text/plain": [
       "(2562, 218)"
      ]
     },
     "execution_count": 39,
     "metadata": {},
     "output_type": "execute_result"
    }
   ],
   "source": [
    "df_tags_comb.shape"
   ]
  },
  {
   "cell_type": "code",
   "execution_count": null,
   "metadata": {
    "collapsed": true
   },
   "outputs": [],
   "source": []
  },
  {
   "cell_type": "code",
   "execution_count": null,
   "metadata": {
    "collapsed": true
   },
   "outputs": [],
   "source": [
    "###Familiarity Logistic Regressionb"
   ]
  },
  {
   "cell_type": "code",
   "execution_count": 40,
   "metadata": {
    "collapsed": true
   },
   "outputs": [],
   "source": [
    "remove_cols = ['track_id', 'title', 'song_id', 'release', 'artist_id', 'artist_mbid', \n",
    "              'artist_name', 'artist_hotttnesss']"
   ]
  },
  {
   "cell_type": "code",
   "execution_count": 41,
   "metadata": {
    "collapsed": false
   },
   "outputs": [],
   "source": [
    "###remove columns for modleing\n",
    "df_tags_comb_fam = df_tags_comb.drop(remove_cols, axis=1)"
   ]
  },
  {
   "cell_type": "code",
   "execution_count": 42,
   "metadata": {
    "collapsed": false
   },
   "outputs": [
    {
     "data": {
      "text/plain": [
       "count    2562.000000\n",
       "mean        0.693674\n",
       "std         0.123950\n",
       "min         0.023504\n",
       "25%         0.609124\n",
       "50%         0.693009\n",
       "75%         0.791762\n",
       "max         1.000000\n",
       "Name: artist_familiarity, dtype: float64"
      ]
     },
     "execution_count": 42,
     "metadata": {},
     "output_type": "execute_result"
    }
   ],
   "source": [
    "###Defining what is populuar or not\n",
    "df_tags_comb_fam['artist_familiarity'].describe()"
   ]
  },
  {
   "cell_type": "code",
   "execution_count": 43,
   "metadata": {
    "collapsed": true
   },
   "outputs": [],
   "source": [
    "###Categorizing anything with a score above .6 as popular\n",
    "df_tags_comb_fam['familiarity'] = df_tags_comb_fam['artist_familiarity'].map(lambda x: 1 if x >= .82 else 0)"
   ]
  },
  {
   "cell_type": "code",
   "execution_count": 44,
   "metadata": {
    "collapsed": true
   },
   "outputs": [],
   "source": [
    "##Drop the 'artist_hottnesss' data\n",
    "df_tags_comb_fam = df_tags_comb_fam.drop('artist_familiarity', axis=1)"
   ]
  },
  {
   "cell_type": "code",
   "execution_count": 45,
   "metadata": {
    "collapsed": false
   },
   "outputs": [
    {
     "data": {
      "text/html": [
       "<div>\n",
       "<table border=\"1\" class=\"dataframe\">\n",
       "  <thead>\n",
       "    <tr style=\"text-align: right;\">\n",
       "      <th></th>\n",
       "      <th>duration</th>\n",
       "      <th>year</th>\n",
       "      <th>mbtag_00s</th>\n",
       "      <th>mbtag_60s</th>\n",
       "      <th>mbtag_acid_rock</th>\n",
       "      <th>mbtag_adult_contemporary</th>\n",
       "      <th>mbtag_alternative_dance</th>\n",
       "      <th>mbtag_alternative_hip-hop</th>\n",
       "      <th>mbtag_argentina</th>\n",
       "      <th>mbtag_art_punk</th>\n",
       "      <th>...</th>\n",
       "      <th>term_technical</th>\n",
       "      <th>term_traditional_folk</th>\n",
       "      <th>term_traditional_pop</th>\n",
       "      <th>term_twee_pop</th>\n",
       "      <th>term_uk</th>\n",
       "      <th>term_virtuoso</th>\n",
       "      <th>term_vocal_house</th>\n",
       "      <th>term_western</th>\n",
       "      <th>term_zouk</th>\n",
       "      <th>familiarity</th>\n",
       "    </tr>\n",
       "  </thead>\n",
       "  <tbody>\n",
       "    <tr>\n",
       "      <th>0</th>\n",
       "      <td>280.21506</td>\n",
       "      <td>2001</td>\n",
       "      <td>0</td>\n",
       "      <td>0</td>\n",
       "      <td>0</td>\n",
       "      <td>0</td>\n",
       "      <td>0</td>\n",
       "      <td>0</td>\n",
       "      <td>0</td>\n",
       "      <td>0</td>\n",
       "      <td>...</td>\n",
       "      <td>1</td>\n",
       "      <td>0</td>\n",
       "      <td>0</td>\n",
       "      <td>0</td>\n",
       "      <td>0</td>\n",
       "      <td>0</td>\n",
       "      <td>0</td>\n",
       "      <td>0</td>\n",
       "      <td>0</td>\n",
       "      <td>0</td>\n",
       "    </tr>\n",
       "    <tr>\n",
       "      <th>1</th>\n",
       "      <td>262.89587</td>\n",
       "      <td>2004</td>\n",
       "      <td>0</td>\n",
       "      <td>0</td>\n",
       "      <td>0</td>\n",
       "      <td>0</td>\n",
       "      <td>0</td>\n",
       "      <td>0</td>\n",
       "      <td>0</td>\n",
       "      <td>0</td>\n",
       "      <td>...</td>\n",
       "      <td>1</td>\n",
       "      <td>0</td>\n",
       "      <td>0</td>\n",
       "      <td>0</td>\n",
       "      <td>0</td>\n",
       "      <td>0</td>\n",
       "      <td>0</td>\n",
       "      <td>0</td>\n",
       "      <td>0</td>\n",
       "      <td>0</td>\n",
       "    </tr>\n",
       "    <tr>\n",
       "      <th>2</th>\n",
       "      <td>654.28853</td>\n",
       "      <td>2009</td>\n",
       "      <td>0</td>\n",
       "      <td>0</td>\n",
       "      <td>0</td>\n",
       "      <td>0</td>\n",
       "      <td>0</td>\n",
       "      <td>0</td>\n",
       "      <td>0</td>\n",
       "      <td>0</td>\n",
       "      <td>...</td>\n",
       "      <td>1</td>\n",
       "      <td>0</td>\n",
       "      <td>0</td>\n",
       "      <td>0</td>\n",
       "      <td>0</td>\n",
       "      <td>0</td>\n",
       "      <td>0</td>\n",
       "      <td>0</td>\n",
       "      <td>0</td>\n",
       "      <td>0</td>\n",
       "    </tr>\n",
       "    <tr>\n",
       "      <th>3</th>\n",
       "      <td>233.58649</td>\n",
       "      <td>2001</td>\n",
       "      <td>0</td>\n",
       "      <td>0</td>\n",
       "      <td>0</td>\n",
       "      <td>0</td>\n",
       "      <td>0</td>\n",
       "      <td>0</td>\n",
       "      <td>0</td>\n",
       "      <td>0</td>\n",
       "      <td>...</td>\n",
       "      <td>1</td>\n",
       "      <td>0</td>\n",
       "      <td>0</td>\n",
       "      <td>0</td>\n",
       "      <td>0</td>\n",
       "      <td>0</td>\n",
       "      <td>0</td>\n",
       "      <td>0</td>\n",
       "      <td>0</td>\n",
       "      <td>0</td>\n",
       "    </tr>\n",
       "    <tr>\n",
       "      <th>4</th>\n",
       "      <td>197.19791</td>\n",
       "      <td>2000</td>\n",
       "      <td>0</td>\n",
       "      <td>0</td>\n",
       "      <td>0</td>\n",
       "      <td>0</td>\n",
       "      <td>0</td>\n",
       "      <td>0</td>\n",
       "      <td>0</td>\n",
       "      <td>0</td>\n",
       "      <td>...</td>\n",
       "      <td>0</td>\n",
       "      <td>0</td>\n",
       "      <td>0</td>\n",
       "      <td>0</td>\n",
       "      <td>0</td>\n",
       "      <td>0</td>\n",
       "      <td>0</td>\n",
       "      <td>0</td>\n",
       "      <td>0</td>\n",
       "      <td>0</td>\n",
       "    </tr>\n",
       "  </tbody>\n",
       "</table>\n",
       "<p>5 rows × 210 columns</p>\n",
       "</div>"
      ],
      "text/plain": [
       "    duration  year  mbtag_00s  mbtag_60s  mbtag_acid_rock  \\\n",
       "0  280.21506  2001          0          0                0   \n",
       "1  262.89587  2004          0          0                0   \n",
       "2  654.28853  2009          0          0                0   \n",
       "3  233.58649  2001          0          0                0   \n",
       "4  197.19791  2000          0          0                0   \n",
       "\n",
       "   mbtag_adult_contemporary  mbtag_alternative_dance  \\\n",
       "0                         0                        0   \n",
       "1                         0                        0   \n",
       "2                         0                        0   \n",
       "3                         0                        0   \n",
       "4                         0                        0   \n",
       "\n",
       "   mbtag_alternative_hip-hop  mbtag_argentina  mbtag_art_punk     ...       \\\n",
       "0                          0                0               0     ...        \n",
       "1                          0                0               0     ...        \n",
       "2                          0                0               0     ...        \n",
       "3                          0                0               0     ...        \n",
       "4                          0                0               0     ...        \n",
       "\n",
       "   term_technical  term_traditional_folk  term_traditional_pop  term_twee_pop  \\\n",
       "0               1                      0                     0              0   \n",
       "1               1                      0                     0              0   \n",
       "2               1                      0                     0              0   \n",
       "3               1                      0                     0              0   \n",
       "4               0                      0                     0              0   \n",
       "\n",
       "   term_uk  term_virtuoso  term_vocal_house  term_western  term_zouk  \\\n",
       "0        0              0                 0             0          0   \n",
       "1        0              0                 0             0          0   \n",
       "2        0              0                 0             0          0   \n",
       "3        0              0                 0             0          0   \n",
       "4        0              0                 0             0          0   \n",
       "\n",
       "   familiarity  \n",
       "0            0  \n",
       "1            0  \n",
       "2            0  \n",
       "3            0  \n",
       "4            0  \n",
       "\n",
       "[5 rows x 210 columns]"
      ]
     },
     "execution_count": 45,
     "metadata": {},
     "output_type": "execute_result"
    }
   ],
   "source": [
    "df_tags_comb_fam.head()"
   ]
  },
  {
   "cell_type": "code",
   "execution_count": 46,
   "metadata": {
    "collapsed": true
   },
   "outputs": [],
   "source": [
    "###Move the target column to the front of the table\n",
    "cols = df_tags_comb_fam.columns.tolist()\n",
    "cols = cols[-1:] + cols[:-1]\n",
    "df_tags_comb_fam = df_tags_comb_fam[cols]"
   ]
  },
  {
   "cell_type": "code",
   "execution_count": 47,
   "metadata": {
    "collapsed": false
   },
   "outputs": [
    {
     "data": {
      "text/html": [
       "<div>\n",
       "<table border=\"1\" class=\"dataframe\">\n",
       "  <thead>\n",
       "    <tr style=\"text-align: right;\">\n",
       "      <th></th>\n",
       "      <th>familiarity</th>\n",
       "      <th>duration</th>\n",
       "      <th>year</th>\n",
       "      <th>mbtag_00s</th>\n",
       "      <th>mbtag_60s</th>\n",
       "      <th>mbtag_acid_rock</th>\n",
       "      <th>mbtag_adult_contemporary</th>\n",
       "      <th>mbtag_alternative_dance</th>\n",
       "      <th>mbtag_alternative_hip-hop</th>\n",
       "      <th>mbtag_argentina</th>\n",
       "      <th>...</th>\n",
       "      <th>term_taiwan</th>\n",
       "      <th>term_technical</th>\n",
       "      <th>term_traditional_folk</th>\n",
       "      <th>term_traditional_pop</th>\n",
       "      <th>term_twee_pop</th>\n",
       "      <th>term_uk</th>\n",
       "      <th>term_virtuoso</th>\n",
       "      <th>term_vocal_house</th>\n",
       "      <th>term_western</th>\n",
       "      <th>term_zouk</th>\n",
       "    </tr>\n",
       "  </thead>\n",
       "  <tbody>\n",
       "    <tr>\n",
       "      <th>0</th>\n",
       "      <td>0</td>\n",
       "      <td>280.21506</td>\n",
       "      <td>2001</td>\n",
       "      <td>0</td>\n",
       "      <td>0</td>\n",
       "      <td>0</td>\n",
       "      <td>0</td>\n",
       "      <td>0</td>\n",
       "      <td>0</td>\n",
       "      <td>0</td>\n",
       "      <td>...</td>\n",
       "      <td>0</td>\n",
       "      <td>1</td>\n",
       "      <td>0</td>\n",
       "      <td>0</td>\n",
       "      <td>0</td>\n",
       "      <td>0</td>\n",
       "      <td>0</td>\n",
       "      <td>0</td>\n",
       "      <td>0</td>\n",
       "      <td>0</td>\n",
       "    </tr>\n",
       "    <tr>\n",
       "      <th>1</th>\n",
       "      <td>0</td>\n",
       "      <td>262.89587</td>\n",
       "      <td>2004</td>\n",
       "      <td>0</td>\n",
       "      <td>0</td>\n",
       "      <td>0</td>\n",
       "      <td>0</td>\n",
       "      <td>0</td>\n",
       "      <td>0</td>\n",
       "      <td>0</td>\n",
       "      <td>...</td>\n",
       "      <td>0</td>\n",
       "      <td>1</td>\n",
       "      <td>0</td>\n",
       "      <td>0</td>\n",
       "      <td>0</td>\n",
       "      <td>0</td>\n",
       "      <td>0</td>\n",
       "      <td>0</td>\n",
       "      <td>0</td>\n",
       "      <td>0</td>\n",
       "    </tr>\n",
       "    <tr>\n",
       "      <th>2</th>\n",
       "      <td>0</td>\n",
       "      <td>654.28853</td>\n",
       "      <td>2009</td>\n",
       "      <td>0</td>\n",
       "      <td>0</td>\n",
       "      <td>0</td>\n",
       "      <td>0</td>\n",
       "      <td>0</td>\n",
       "      <td>0</td>\n",
       "      <td>0</td>\n",
       "      <td>...</td>\n",
       "      <td>0</td>\n",
       "      <td>1</td>\n",
       "      <td>0</td>\n",
       "      <td>0</td>\n",
       "      <td>0</td>\n",
       "      <td>0</td>\n",
       "      <td>0</td>\n",
       "      <td>0</td>\n",
       "      <td>0</td>\n",
       "      <td>0</td>\n",
       "    </tr>\n",
       "    <tr>\n",
       "      <th>3</th>\n",
       "      <td>0</td>\n",
       "      <td>233.58649</td>\n",
       "      <td>2001</td>\n",
       "      <td>0</td>\n",
       "      <td>0</td>\n",
       "      <td>0</td>\n",
       "      <td>0</td>\n",
       "      <td>0</td>\n",
       "      <td>0</td>\n",
       "      <td>0</td>\n",
       "      <td>...</td>\n",
       "      <td>0</td>\n",
       "      <td>1</td>\n",
       "      <td>0</td>\n",
       "      <td>0</td>\n",
       "      <td>0</td>\n",
       "      <td>0</td>\n",
       "      <td>0</td>\n",
       "      <td>0</td>\n",
       "      <td>0</td>\n",
       "      <td>0</td>\n",
       "    </tr>\n",
       "    <tr>\n",
       "      <th>4</th>\n",
       "      <td>0</td>\n",
       "      <td>197.19791</td>\n",
       "      <td>2000</td>\n",
       "      <td>0</td>\n",
       "      <td>0</td>\n",
       "      <td>0</td>\n",
       "      <td>0</td>\n",
       "      <td>0</td>\n",
       "      <td>0</td>\n",
       "      <td>0</td>\n",
       "      <td>...</td>\n",
       "      <td>0</td>\n",
       "      <td>0</td>\n",
       "      <td>0</td>\n",
       "      <td>0</td>\n",
       "      <td>0</td>\n",
       "      <td>0</td>\n",
       "      <td>0</td>\n",
       "      <td>0</td>\n",
       "      <td>0</td>\n",
       "      <td>0</td>\n",
       "    </tr>\n",
       "  </tbody>\n",
       "</table>\n",
       "<p>5 rows × 210 columns</p>\n",
       "</div>"
      ],
      "text/plain": [
       "   familiarity   duration  year  mbtag_00s  mbtag_60s  mbtag_acid_rock  \\\n",
       "0            0  280.21506  2001          0          0                0   \n",
       "1            0  262.89587  2004          0          0                0   \n",
       "2            0  654.28853  2009          0          0                0   \n",
       "3            0  233.58649  2001          0          0                0   \n",
       "4            0  197.19791  2000          0          0                0   \n",
       "\n",
       "   mbtag_adult_contemporary  mbtag_alternative_dance  \\\n",
       "0                         0                        0   \n",
       "1                         0                        0   \n",
       "2                         0                        0   \n",
       "3                         0                        0   \n",
       "4                         0                        0   \n",
       "\n",
       "   mbtag_alternative_hip-hop  mbtag_argentina    ...      term_taiwan  \\\n",
       "0                          0                0    ...                0   \n",
       "1                          0                0    ...                0   \n",
       "2                          0                0    ...                0   \n",
       "3                          0                0    ...                0   \n",
       "4                          0                0    ...                0   \n",
       "\n",
       "   term_technical  term_traditional_folk  term_traditional_pop  term_twee_pop  \\\n",
       "0               1                      0                     0              0   \n",
       "1               1                      0                     0              0   \n",
       "2               1                      0                     0              0   \n",
       "3               1                      0                     0              0   \n",
       "4               0                      0                     0              0   \n",
       "\n",
       "   term_uk  term_virtuoso  term_vocal_house  term_western  term_zouk  \n",
       "0        0              0                 0             0          0  \n",
       "1        0              0                 0             0          0  \n",
       "2        0              0                 0             0          0  \n",
       "3        0              0                 0             0          0  \n",
       "4        0              0                 0             0          0  \n",
       "\n",
       "[5 rows x 210 columns]"
      ]
     },
     "execution_count": 47,
     "metadata": {},
     "output_type": "execute_result"
    }
   ],
   "source": [
    "df_tags_comb_fam.head()"
   ]
  },
  {
   "cell_type": "code",
   "execution_count": 48,
   "metadata": {
    "collapsed": true
   },
   "outputs": [],
   "source": [
    "###Start to model the data frame for familiarity based on a linear regression\n",
    "y = df_tags_comb_fam['familiarity'].values\n",
    "X = df_tags_comb_fam.iloc[:,1:]"
   ]
  },
  {
   "cell_type": "code",
   "execution_count": 26,
   "metadata": {
    "collapsed": false,
    "scrolled": true
   },
   "outputs": [
    {
     "data": {
      "text/plain": [
       "Index([u'duration', u'year', u'mbtag_00s', u'mbtag_60s', u'mbtag_acid_rock',\n",
       "       u'mbtag_adult_contemporary', u'mbtag_alternative_dance',\n",
       "       u'mbtag_alternative_hip-hop', u'mbtag_argentina', u'mbtag_art_punk',\n",
       "       ...\n",
       "       u'term_taiwan', u'term_technical', u'term_traditional_folk',\n",
       "       u'term_traditional_pop', u'term_twee_pop', u'term_uk', u'term_virtuoso',\n",
       "       u'term_vocal_house', u'term_western', u'term_zouk'],\n",
       "      dtype='object', length=209)"
      ]
     },
     "execution_count": 26,
     "metadata": {},
     "output_type": "execute_result"
    }
   ],
   "source": [
    "X.columns"
   ]
  },
  {
   "cell_type": "code",
   "execution_count": 50,
   "metadata": {
    "collapsed": false
   },
   "outputs": [
    {
     "data": {
      "text/html": [
       "<div>\n",
       "<table border=\"1\" class=\"dataframe\">\n",
       "  <thead>\n",
       "    <tr style=\"text-align: right;\">\n",
       "      <th></th>\n",
       "      <th>duration</th>\n",
       "      <th>year</th>\n",
       "      <th>mbtag_00s</th>\n",
       "      <th>mbtag_60s</th>\n",
       "      <th>mbtag_acid_rock</th>\n",
       "      <th>mbtag_adult_contemporary</th>\n",
       "      <th>mbtag_alternative_dance</th>\n",
       "      <th>mbtag_alternative_hip-hop</th>\n",
       "      <th>mbtag_argentina</th>\n",
       "      <th>mbtag_art_punk</th>\n",
       "      <th>...</th>\n",
       "      <th>term_taiwan</th>\n",
       "      <th>term_technical</th>\n",
       "      <th>term_traditional_folk</th>\n",
       "      <th>term_traditional_pop</th>\n",
       "      <th>term_twee_pop</th>\n",
       "      <th>term_uk</th>\n",
       "      <th>term_virtuoso</th>\n",
       "      <th>term_vocal_house</th>\n",
       "      <th>term_western</th>\n",
       "      <th>term_zouk</th>\n",
       "    </tr>\n",
       "  </thead>\n",
       "  <tbody>\n",
       "    <tr>\n",
       "      <th>0</th>\n",
       "      <td>280.21506</td>\n",
       "      <td>2001</td>\n",
       "      <td>0</td>\n",
       "      <td>0</td>\n",
       "      <td>0</td>\n",
       "      <td>0</td>\n",
       "      <td>0</td>\n",
       "      <td>0</td>\n",
       "      <td>0</td>\n",
       "      <td>0</td>\n",
       "      <td>...</td>\n",
       "      <td>0</td>\n",
       "      <td>1</td>\n",
       "      <td>0</td>\n",
       "      <td>0</td>\n",
       "      <td>0</td>\n",
       "      <td>0</td>\n",
       "      <td>0</td>\n",
       "      <td>0</td>\n",
       "      <td>0</td>\n",
       "      <td>0</td>\n",
       "    </tr>\n",
       "  </tbody>\n",
       "</table>\n",
       "<p>1 rows × 209 columns</p>\n",
       "</div>"
      ],
      "text/plain": [
       "    duration  year  mbtag_00s  mbtag_60s  mbtag_acid_rock  \\\n",
       "0  280.21506  2001          0          0                0   \n",
       "\n",
       "   mbtag_adult_contemporary  mbtag_alternative_dance  \\\n",
       "0                         0                        0   \n",
       "\n",
       "   mbtag_alternative_hip-hop  mbtag_argentina  mbtag_art_punk    ...      \\\n",
       "0                          0                0               0    ...       \n",
       "\n",
       "   term_taiwan  term_technical  term_traditional_folk  term_traditional_pop  \\\n",
       "0            0               1                      0                     0   \n",
       "\n",
       "   term_twee_pop  term_uk  term_virtuoso  term_vocal_house  term_western  \\\n",
       "0              0        0              0                 0             0   \n",
       "\n",
       "   term_zouk  \n",
       "0          0  \n",
       "\n",
       "[1 rows x 209 columns]"
      ]
     },
     "execution_count": 50,
     "metadata": {},
     "output_type": "execute_result"
    }
   ],
   "source": [
    "X.head(1)"
   ]
  },
  {
   "cell_type": "code",
   "execution_count": 51,
   "metadata": {
    "collapsed": false
   },
   "outputs": [],
   "source": [
    "ss = StandardScaler()\n",
    "lrcv = LogisticRegressionCV(Cs=100, solver='liblinear', penalty='l1', cv=5)"
   ]
  },
  {
   "cell_type": "code",
   "execution_count": 52,
   "metadata": {
    "collapsed": true
   },
   "outputs": [],
   "source": [
    "Xn = ss.fit_transform(X)"
   ]
  },
  {
   "cell_type": "code",
   "execution_count": 53,
   "metadata": {
    "collapsed": true
   },
   "outputs": [],
   "source": [
    "X_train, X_test, y_train, y_test = train_test_split(Xn, y, test_size=0.33)"
   ]
  },
  {
   "cell_type": "code",
   "execution_count": 54,
   "metadata": {
    "collapsed": false
   },
   "outputs": [
    {
     "data": {
      "text/plain": [
       "LogisticRegressionCV(Cs=100, class_weight=None, cv=5, dual=False,\n",
       "           fit_intercept=True, intercept_scaling=1.0, max_iter=100,\n",
       "           multi_class='ovr', n_jobs=1, penalty='l1', random_state=None,\n",
       "           refit=True, scoring=None, solver='liblinear', tol=0.0001,\n",
       "           verbose=0)"
      ]
     },
     "execution_count": 54,
     "metadata": {},
     "output_type": "execute_result"
    }
   ],
   "source": [
    "#Fit the logestic model based on the parameters - for familiarity\n",
    "lrcv.fit(X_train, y_train)"
   ]
  },
  {
   "cell_type": "code",
   "execution_count": 55,
   "metadata": {
    "collapsed": false
   },
   "outputs": [
    {
     "name": "stdout",
     "output_type": "stream",
     "text": [
      "0.809692671395\n",
      "0.886524822695\n"
     ]
    }
   ],
   "source": [
    "print 1-np.mean(y_test)\n",
    "print lrcv.score(X_test, y_test)"
   ]
  },
  {
   "cell_type": "code",
   "execution_count": 56,
   "metadata": {
    "collapsed": true
   },
   "outputs": [],
   "source": [
    "coefs = pd.DataFrame({'coef':lrcv.coef_[0], 'abs_coef':np.abs(lrcv.coef_[0]),\n",
    "                      'variable':X.columns})\n",
    "coefs.sort_values('coef', ascending=False, inplace=True)"
   ]
  },
  {
   "cell_type": "code",
   "execution_count": 57,
   "metadata": {
    "collapsed": false
   },
   "outputs": [
    {
     "data": {
      "text/plain": [
       "(209, 3)"
      ]
     },
     "execution_count": 57,
     "metadata": {},
     "output_type": "execute_result"
    }
   ],
   "source": [
    "coefs.shape"
   ]
  },
  {
   "cell_type": "code",
   "execution_count": 58,
   "metadata": {
    "collapsed": false
   },
   "outputs": [
    {
     "data": {
      "text/html": [
       "<div>\n",
       "<table border=\"1\" class=\"dataframe\">\n",
       "  <thead>\n",
       "    <tr style=\"text-align: right;\">\n",
       "      <th></th>\n",
       "      <th>abs_coef</th>\n",
       "      <th>coef</th>\n",
       "      <th>variable</th>\n",
       "    </tr>\n",
       "  </thead>\n",
       "  <tbody>\n",
       "    <tr>\n",
       "      <th>90</th>\n",
       "      <td>1.185276</td>\n",
       "      <td>1.185276</td>\n",
       "      <td>mbtag_post-grunge</td>\n",
       "    </tr>\n",
       "    <tr>\n",
       "      <th>67</th>\n",
       "      <td>0.938767</td>\n",
       "      <td>0.938767</td>\n",
       "      <td>mbtag_industrial</td>\n",
       "    </tr>\n",
       "    <tr>\n",
       "      <th>84</th>\n",
       "      <td>0.834958</td>\n",
       "      <td>0.834958</td>\n",
       "      <td>mbtag_nu_metal</td>\n",
       "    </tr>\n",
       "    <tr>\n",
       "      <th>1</th>\n",
       "      <td>0.658778</td>\n",
       "      <td>0.658778</td>\n",
       "      <td>year</td>\n",
       "    </tr>\n",
       "    <tr>\n",
       "      <th>71</th>\n",
       "      <td>0.621373</td>\n",
       "      <td>0.621373</td>\n",
       "      <td>mbtag_irish</td>\n",
       "    </tr>\n",
       "    <tr>\n",
       "      <th>87</th>\n",
       "      <td>0.508281</td>\n",
       "      <td>0.508281</td>\n",
       "      <td>mbtag_parlophone</td>\n",
       "    </tr>\n",
       "    <tr>\n",
       "      <th>56</th>\n",
       "      <td>0.508033</td>\n",
       "      <td>0.508033</td>\n",
       "      <td>mbtag_glam_metal</td>\n",
       "    </tr>\n",
       "    <tr>\n",
       "      <th>22</th>\n",
       "      <td>0.507361</td>\n",
       "      <td>0.507361</td>\n",
       "      <td>mbtag_chanteur</td>\n",
       "    </tr>\n",
       "    <tr>\n",
       "      <th>57</th>\n",
       "      <td>0.470584</td>\n",
       "      <td>0.470584</td>\n",
       "      <td>mbtag_glam_rock</td>\n",
       "    </tr>\n",
       "    <tr>\n",
       "      <th>93</th>\n",
       "      <td>0.422565</td>\n",
       "      <td>0.422565</td>\n",
       "      <td>mbtag_power_pop</td>\n",
       "    </tr>\n",
       "  </tbody>\n",
       "</table>\n",
       "</div>"
      ],
      "text/plain": [
       "    abs_coef      coef           variable\n",
       "90  1.185276  1.185276  mbtag_post-grunge\n",
       "67  0.938767  0.938767   mbtag_industrial\n",
       "84  0.834958  0.834958     mbtag_nu_metal\n",
       "1   0.658778  0.658778               year\n",
       "71  0.621373  0.621373        mbtag_irish\n",
       "87  0.508281  0.508281   mbtag_parlophone\n",
       "56  0.508033  0.508033   mbtag_glam_metal\n",
       "22  0.507361  0.507361     mbtag_chanteur\n",
       "57  0.470584  0.470584    mbtag_glam_rock\n",
       "93  0.422565  0.422565    mbtag_power_pop"
      ]
     },
     "execution_count": 58,
     "metadata": {},
     "output_type": "execute_result"
    }
   ],
   "source": [
    "coefs.head(10)"
   ]
  },
  {
   "cell_type": "code",
   "execution_count": 59,
   "metadata": {
    "collapsed": false
   },
   "outputs": [
    {
     "data": {
      "text/html": [
       "<div>\n",
       "<table border=\"1\" class=\"dataframe\">\n",
       "  <thead>\n",
       "    <tr style=\"text-align: right;\">\n",
       "      <th></th>\n",
       "      <th>abs_coef</th>\n",
       "      <th>coef</th>\n",
       "      <th>variable</th>\n",
       "    </tr>\n",
       "  </thead>\n",
       "  <tbody>\n",
       "    <tr>\n",
       "      <th>142</th>\n",
       "      <td>0.475796</td>\n",
       "      <td>-0.475796</td>\n",
       "      <td>term_electric</td>\n",
       "    </tr>\n",
       "    <tr>\n",
       "      <th>169</th>\n",
       "      <td>0.485519</td>\n",
       "      <td>-0.485519</td>\n",
       "      <td>term_movie_score_composer</td>\n",
       "    </tr>\n",
       "    <tr>\n",
       "      <th>7</th>\n",
       "      <td>0.571223</td>\n",
       "      <td>-0.571223</td>\n",
       "      <td>mbtag_alternative_hip-hop</td>\n",
       "    </tr>\n",
       "    <tr>\n",
       "      <th>167</th>\n",
       "      <td>0.608747</td>\n",
       "      <td>-0.608747</td>\n",
       "      <td>term_melodic_rock</td>\n",
       "    </tr>\n",
       "    <tr>\n",
       "      <th>203</th>\n",
       "      <td>0.669434</td>\n",
       "      <td>-0.669434</td>\n",
       "      <td>term_twee_pop</td>\n",
       "    </tr>\n",
       "    <tr>\n",
       "      <th>52</th>\n",
       "      <td>0.671602</td>\n",
       "      <td>-0.671602</td>\n",
       "      <td>mbtag_francophone</td>\n",
       "    </tr>\n",
       "    <tr>\n",
       "      <th>96</th>\n",
       "      <td>0.752293</td>\n",
       "      <td>-0.752293</td>\n",
       "      <td>mbtag_protopunk</td>\n",
       "    </tr>\n",
       "    <tr>\n",
       "      <th>159</th>\n",
       "      <td>0.777513</td>\n",
       "      <td>-0.777513</td>\n",
       "      <td>term_jam_band</td>\n",
       "    </tr>\n",
       "    <tr>\n",
       "      <th>11</th>\n",
       "      <td>1.043854</td>\n",
       "      <td>-1.043854</td>\n",
       "      <td>mbtag_australian</td>\n",
       "    </tr>\n",
       "    <tr>\n",
       "      <th>41</th>\n",
       "      <td>1.116096</td>\n",
       "      <td>-1.116096</td>\n",
       "      <td>mbtag_electro</td>\n",
       "    </tr>\n",
       "  </tbody>\n",
       "</table>\n",
       "</div>"
      ],
      "text/plain": [
       "     abs_coef      coef                   variable\n",
       "142  0.475796 -0.475796              term_electric\n",
       "169  0.485519 -0.485519  term_movie_score_composer\n",
       "7    0.571223 -0.571223  mbtag_alternative_hip-hop\n",
       "167  0.608747 -0.608747          term_melodic_rock\n",
       "203  0.669434 -0.669434              term_twee_pop\n",
       "52   0.671602 -0.671602          mbtag_francophone\n",
       "96   0.752293 -0.752293            mbtag_protopunk\n",
       "159  0.777513 -0.777513              term_jam_band\n",
       "11   1.043854 -1.043854           mbtag_australian\n",
       "41   1.116096 -1.116096              mbtag_electro"
      ]
     },
     "execution_count": 59,
     "metadata": {},
     "output_type": "execute_result"
    }
   ],
   "source": [
    "coefs.tail(10)"
   ]
  },
  {
   "cell_type": "code",
   "execution_count": null,
   "metadata": {
    "collapsed": true
   },
   "outputs": [],
   "source": []
  },
  {
   "cell_type": "code",
   "execution_count": null,
   "metadata": {
    "collapsed": true
   },
   "outputs": [],
   "source": []
  }
 ],
 "metadata": {
  "anaconda-cloud": {},
  "kernelspec": {
   "display_name": "Python [conda env:dsi]",
   "language": "python",
   "name": "conda-env-dsi-py"
  },
  "language_info": {
   "codemirror_mode": {
    "name": "ipython",
    "version": 2
   },
   "file_extension": ".py",
   "mimetype": "text/x-python",
   "name": "python",
   "nbconvert_exporter": "python",
   "pygments_lexer": "ipython2",
   "version": "2.7.12"
  }
 },
 "nbformat": 4,
 "nbformat_minor": 1
}
