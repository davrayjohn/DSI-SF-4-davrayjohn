{
 "cells": [
  {
   "cell_type": "code",
   "execution_count": 440,
   "metadata": {
    "collapsed": false
   },
   "outputs": [],
   "source": [
    "####Imports and Setup\n",
    "import os\n",
    "import sys\n",
    "import time\n",
    "import glob\n",
    "import datetime\n",
    "import sqlite3\n",
    "import numpy as np\n",
    "import pandas as pd\n",
    "import matplotlib\n",
    "import matplotlib.pyplot as plt\n",
    "import sklearn\n",
    "import patsy\n",
    "import numpy as np\n",
    "import pandas as pd\n",
    "from scipy import stats\n",
    "import seaborn as sns\n",
    "from sklearn import datasets, linear_model\n",
    "from sklearn.model_selection import train_test_split\n",
    "###########################\n",
    "import numpy as np\n",
    "import scipy \n",
    "from scipy.interpolate import interp1d\n",
    "import seaborn as sns\n",
    "import pandas as pd\n",
    "from sklearn.preprocessing import StandardScaler\n",
    "# We are using the BernoulliNB version of Naive Bayes, which assumes predictors are binary encoded.\n",
    "from sklearn.naive_bayes import BernoulliNB\n",
    "from sklearn.cross_validation import cross_val_score, train_test_split\n",
    "\n",
    "from sklearn.feature_extraction.text import CountVectorizer\n",
    "\n",
    "from sklearn.linear_model import LogisticRegression\n",
    "\n",
    "from sklearn.linear_model import Ridge, Lasso, ElasticNet, LinearRegression, RidgeCV, LassoCV, ElasticNetCV\n",
    "from sklearn.cross_validation import cross_val_score\n",
    "\n",
    "from sklearn.linear_model import LogisticRegressionCV\n",
    "\n",
    "from nltk.corpus import stopwords\n",
    "\n",
    "from sklearn.feature_extraction.text import CountVectorizer, TfidfVectorizer\n",
    "\n",
    "import enchant\n",
    "\n",
    "from sklearn.linear_model import LogisticRegression\n",
    "from sklearn.neighbors import KNeighborsClassifier\n",
    "from sklearn.cross_validation import cross_val_score, StratifiedKFold\n",
    "from sklearn.grid_search import GridSearchCV\n",
    "\n",
    "%config InlineBackend.figure_format = 'retina'\n",
    "%matplotlib inline"
   ]
  },
  {
   "cell_type": "code",
   "execution_count": 441,
   "metadata": {
    "collapsed": true
   },
   "outputs": [],
   "source": [
    "def correlation_heat_map(df):\n",
    "    corrs = df.corr()\n",
    "\n",
    "    # Set the default matplotlib figure size:\n",
    "    fig, ax = plt.subplots(figsize=(12,12))\n",
    "\n",
    "    # Generate a mask for the upper triangle (taken from seaborn example gallery)\n",
    "    mask = np.zeros_like(corrs, dtype=np.bool)\n",
    "    mask[np.triu_indices_from(mask)] = True\n",
    "\n",
    "    # Plot the heatmap with seaborn.\n",
    "    # Assign the matplotlib axis the function returns. This will let us resize the labels.\n",
    "    ax = sns.heatmap(corrs, mask=mask, annot=True)\n",
    "\n",
    "    # Resize the labels.\n",
    "    ax.set_xticklabels(ax.xaxis.get_ticklabels(), fontsize=14, rotation=30)\n",
    "    ax.set_yticklabels(ax.yaxis.get_ticklabels(), fontsize=14, rotation=0)\n",
    "\n",
    "    # If you put plt.show() at the bottom, it prevents those useless printouts from matplotlib.\n",
    "    plt.show()\n",
    "\n",
    "def update_columns(col_names, label):\n",
    "    new_names = []\n",
    "    new_names.append(col_names[0])\n",
    "    for name in col_names[1:]:\n",
    "        name = label + name\n",
    "        new_names.append(name)\n",
    "    return new_names\n",
    "\n",
    "def is_ascii(column):\n",
    "    column_list = []\n",
    "    for col in column:\n",
    "        for letter in col:\n",
    "            if ord(letter) > 128:\n",
    "                column_list.append(col)\n",
    "                continue\n",
    "    return column_list\n",
    "\n",
    "def del_cols(df):\n",
    "    cols = list(df.columns.values)\n",
    "    cols_del = []\n",
    "    for x in cols:\n",
    "        for ch in x:\n",
    "            if ch not in 'abcdefghijklmnopqrstuvwxyz_0123456789-':\n",
    "                cols_del.append(x)\n",
    "                continue\n",
    "    return cols_del\n",
    "\n",
    "def del_cols_lyric(df):\n",
    "    cols = list(df.columns.values)\n",
    "    cols_del = []\n",
    "    for x in cols:\n",
    "        for ch in x:\n",
    "            if ch not in 'abcdefghijklmnopqrstuvwxyz_-':\n",
    "                cols_del.append(x)\n",
    "                continue\n",
    "    return cols_del\n",
    "\n",
    "def del_stopwords(df):\n",
    "    stop = stopwords.words('english')\n",
    "    cols = list(df.columns.values)\n",
    "    cols_del = []\n",
    "    for x in cols:\n",
    "        if x in stop:\n",
    "            cols_del.append(x)\n",
    "    return cols_del"
   ]
  },
  {
   "cell_type": "code",
   "execution_count": 442,
   "metadata": {
    "collapsed": true
   },
   "outputs": [],
   "source": [
    "conn_addf_metadata = sqlite3.connect('../../Capstone/MillionSongSubset/AdditionalFiles/subset_track_metadata.db')\n",
    "conn_lyric = sqlite3.connect('../../Capstone/mxm_dataset.db')"
   ]
  },
  {
   "cell_type": "code",
   "execution_count": 443,
   "metadata": {
    "collapsed": true
   },
   "outputs": [],
   "source": [
    "#Combined data set on lyrics and genres (no sub-genres in the data set)\n",
    "df_lyric_comb = pd.read_csv('../Capestone/df_lyric_genre_metadata.csv')\n",
    "\n",
    "#Combined data with sub-genres (no lyrics in the data set)\n",
    "df_tags_comb = pd.read_csv('../Capestone/df_sub_genre_metadata.csv')\n",
    "\n",
    "###Original datasets\n",
    "df_songs = pd.read_sql(\"SELECT * FROM songs\", con=conn_addf_metadata)\n",
    "df_lyric = pd.read_csv('../Capestone/df_lyric_metadata.csv')\n",
    "df_lyric_original = pd.read_sql(\"SELECT * FROM lyrics\", con=conn_lyric) #key is 'track_id'\n",
    "df_genre_wide = pd.read_csv('../Capestone/df_genre_wide.csv') #key is 'track_id'\n",
    "df_genre = pd.read_csv('../../Capstone/genre.csv')\n",
    "#Original sub-genre/tag datasets\n",
    "df_mbtag = pd.read_csv('../Capestone/df_term_artist_mbtag_wide.csv') #key is 'artist_id'\n",
    "df_term = pd.read_csv('../Capestone/df_term_artist_term_wide.csv') #key is 'artist_id'\n",
    "#Combined sub-genre/tag dataset\n",
    "df_sub_genre = pd.read_csv('../Capestone/df_sub_genre.csv') #key is 'artist_id'"
   ]
  },
  {
   "cell_type": "code",
   "execution_count": 444,
   "metadata": {
    "collapsed": false
   },
   "outputs": [],
   "source": [
    "# ##Cleaning up extra data\n",
    "df_lyric = df_lyric.drop('Unnamed: 0', axis=1)\n",
    "df_lyric_comb = df_lyric_comb.drop('Unnamed: 0', axis=1)\n",
    "df_lyric_original = df_lyric_original.drop('is_test', axis=1)\n",
    "df_genre_wide = df_genre_wide.drop('Unnamed: 0', axis=1)"
   ]
  },
  {
   "cell_type": "code",
   "execution_count": null,
   "metadata": {
    "collapsed": false
   },
   "outputs": [],
   "source": []
  },
  {
   "cell_type": "code",
   "execution_count": null,
   "metadata": {
    "collapsed": true
   },
   "outputs": [],
   "source": [
    "###Create a new lyric dataframe so we can update and manipulate it to remove noise"
   ]
  },
  {
   "cell_type": "code",
   "execution_count": 445,
   "metadata": {
    "collapsed": true
   },
   "outputs": [],
   "source": [
    "df_lyric_updated = df_lyric\n",
    "df_lyric_comb_updated = df_lyric_comb"
   ]
  },
  {
   "cell_type": "code",
   "execution_count": null,
   "metadata": {
    "collapsed": true
   },
   "outputs": [],
   "source": []
  },
  {
   "cell_type": "code",
   "execution_count": null,
   "metadata": {
    "collapsed": true
   },
   "outputs": [],
   "source": []
  },
  {
   "cell_type": "code",
   "execution_count": null,
   "metadata": {
    "collapsed": true
   },
   "outputs": [],
   "source": [
    "##Lyric Data for \"popularity\" & \"Familiarity\""
   ]
  },
  {
   "cell_type": "code",
   "execution_count": 446,
   "metadata": {
    "collapsed": false
   },
   "outputs": [
    {
     "data": {
      "text/plain": [
       "(2350, 5011)"
      ]
     },
     "execution_count": 446,
     "metadata": {},
     "output_type": "execute_result"
    }
   ],
   "source": [
    "df_lyric_updated.shape"
   ]
  },
  {
   "cell_type": "code",
   "execution_count": 447,
   "metadata": {
    "collapsed": false
   },
   "outputs": [],
   "source": [
    "df_lyric_updated['popularity'] = df_lyric_updated['artist_hotttnesss'].map(lambda x: 1 if x >= .6 else 0)\n",
    "df_lyric_updated['familiarity'] = df_lyric_updated['artist_familiarity'].map(lambda x: 1 if x >= .82 else 0)"
   ]
  },
  {
   "cell_type": "code",
   "execution_count": 448,
   "metadata": {
    "collapsed": true
   },
   "outputs": [],
   "source": [
    "pop_cols_del = ['track_id', 'title', 'song_id', 'release', 'artist_id', 'artist_mbid', \n",
    "              'artist_name', 'duration', 'year_x', 'artist_familiarity', 'artist_hotttnesss', 'familiarity']\n",
    "fam_cols_del = ['track_id', 'title', 'song_id', 'release', 'artist_id', 'artist_mbid', \n",
    "              'artist_name', 'duration', 'year_x', 'artist_familiarity','artist_hotttnesss', 'popularity']"
   ]
  },
  {
   "cell_type": "code",
   "execution_count": 449,
   "metadata": {
    "collapsed": false
   },
   "outputs": [],
   "source": [
    "###Removing any non ascii characters/features from the dataframe\n",
    "lyric_columns = del_cols_lyric(df_lyric_updated)"
   ]
  },
  {
   "cell_type": "code",
   "execution_count": 450,
   "metadata": {
    "collapsed": false
   },
   "outputs": [],
   "source": [
    "##Drop the columns that don't have ascii characters\n",
    "df_lyric_updated = df_lyric_updated.drop(lyric_columns, axis=1)"
   ]
  },
  {
   "cell_type": "code",
   "execution_count": 451,
   "metadata": {
    "collapsed": false
   },
   "outputs": [
    {
     "data": {
      "text/plain": [
       "(2350, 4812)"
      ]
     },
     "execution_count": 451,
     "metadata": {},
     "output_type": "execute_result"
    }
   ],
   "source": [
    "df_lyric_updated.shape"
   ]
  },
  {
   "cell_type": "code",
   "execution_count": 452,
   "metadata": {
    "collapsed": false
   },
   "outputs": [
    {
     "data": {
      "text/html": [
       "<div>\n",
       "<table border=\"1\" class=\"dataframe\">\n",
       "  <thead>\n",
       "    <tr style=\"text-align: right;\">\n",
       "      <th></th>\n",
       "      <th>track_id</th>\n",
       "      <th>title</th>\n",
       "      <th>song_id</th>\n",
       "      <th>release</th>\n",
       "      <th>artist_id</th>\n",
       "      <th>artist_mbid</th>\n",
       "      <th>artist_name</th>\n",
       "      <th>duration</th>\n",
       "      <th>artist_familiarity</th>\n",
       "      <th>artist_hotttnesss</th>\n",
       "      <th>...</th>\n",
       "      <th>zo</th>\n",
       "      <th>zombi</th>\n",
       "      <th>zone</th>\n",
       "      <th>zoo</th>\n",
       "      <th>zu</th>\n",
       "      <th>zum</th>\n",
       "      <th>zur</th>\n",
       "      <th>zwei</th>\n",
       "      <th>popularity</th>\n",
       "      <th>familiarity</th>\n",
       "    </tr>\n",
       "  </thead>\n",
       "  <tbody>\n",
       "    <tr>\n",
       "      <th>0</th>\n",
       "      <td>TRACCVZ128F4291A8A</td>\n",
       "      <td>Deep Sea Creature</td>\n",
       "      <td>SOVLGJY12A8C13FBED</td>\n",
       "      <td>Call of the Mastodon</td>\n",
       "      <td>ARMQHX71187B9890D3</td>\n",
       "      <td>bc5e2ad6-0a4a-4d90-b911-e9a7e6861727</td>\n",
       "      <td>Mastodon</td>\n",
       "      <td>280.21506</td>\n",
       "      <td>0.780462</td>\n",
       "      <td>0.574275</td>\n",
       "      <td>...</td>\n",
       "      <td>0</td>\n",
       "      <td>0</td>\n",
       "      <td>0</td>\n",
       "      <td>0</td>\n",
       "      <td>0</td>\n",
       "      <td>0</td>\n",
       "      <td>0</td>\n",
       "      <td>0</td>\n",
       "      <td>0</td>\n",
       "      <td>0</td>\n",
       "    </tr>\n",
       "  </tbody>\n",
       "</table>\n",
       "<p>1 rows × 4812 columns</p>\n",
       "</div>"
      ],
      "text/plain": [
       "             track_id              title             song_id  \\\n",
       "0  TRACCVZ128F4291A8A  Deep Sea Creature  SOVLGJY12A8C13FBED   \n",
       "\n",
       "                release           artist_id  \\\n",
       "0  Call of the Mastodon  ARMQHX71187B9890D3   \n",
       "\n",
       "                            artist_mbid artist_name   duration  \\\n",
       "0  bc5e2ad6-0a4a-4d90-b911-e9a7e6861727    Mastodon  280.21506   \n",
       "\n",
       "   artist_familiarity  artist_hotttnesss     ...       zo  zombi  zone  zoo  \\\n",
       "0            0.780462           0.574275     ...        0      0     0    0   \n",
       "\n",
       "   zu  zum  zur  zwei  popularity  familiarity  \n",
       "0   0    0    0     0           0            0  \n",
       "\n",
       "[1 rows x 4812 columns]"
      ]
     },
     "execution_count": 452,
     "metadata": {},
     "output_type": "execute_result"
    }
   ],
   "source": [
    "df_lyric_updated.head(1)"
   ]
  },
  {
   "cell_type": "code",
   "execution_count": null,
   "metadata": {
    "collapsed": true
   },
   "outputs": [],
   "source": []
  },
  {
   "cell_type": "code",
   "execution_count": null,
   "metadata": {
    "collapsed": true
   },
   "outputs": [],
   "source": []
  },
  {
   "cell_type": "markdown",
   "metadata": {},
   "source": [
    "###Popularity mdoeling with lyrics"
   ]
  },
  {
   "cell_type": "code",
   "execution_count": 453,
   "metadata": {
    "collapsed": false
   },
   "outputs": [],
   "source": [
    "###Look at Popularity first in relation to lyrics\n",
    "df_lyrics_popularity = df_lyric_updated.drop(pop_cols_del, axis=1)"
   ]
  },
  {
   "cell_type": "code",
   "execution_count": 454,
   "metadata": {
    "collapsed": false
   },
   "outputs": [
    {
     "data": {
      "text/plain": [
       "(2350, 4800)"
      ]
     },
     "execution_count": 454,
     "metadata": {},
     "output_type": "execute_result"
    }
   ],
   "source": [
    "df_lyrics_popularity.shape"
   ]
  },
  {
   "cell_type": "code",
   "execution_count": 455,
   "metadata": {
    "collapsed": false
   },
   "outputs": [
    {
     "data": {
      "text/html": [
       "<div>\n",
       "<table border=\"1\" class=\"dataframe\">\n",
       "  <thead>\n",
       "    <tr style=\"text-align: right;\">\n",
       "      <th></th>\n",
       "      <th>a</th>\n",
       "      <th>aaah</th>\n",
       "      <th>aah</th>\n",
       "      <th>aan</th>\n",
       "      <th>ab</th>\n",
       "      <th>abandon</th>\n",
       "      <th>aber</th>\n",
       "      <th>abl</th>\n",
       "      <th>aboard</th>\n",
       "      <th>about</th>\n",
       "      <th>...</th>\n",
       "      <th>zijn</th>\n",
       "      <th>zo</th>\n",
       "      <th>zombi</th>\n",
       "      <th>zone</th>\n",
       "      <th>zoo</th>\n",
       "      <th>zu</th>\n",
       "      <th>zum</th>\n",
       "      <th>zur</th>\n",
       "      <th>zwei</th>\n",
       "      <th>popularity</th>\n",
       "    </tr>\n",
       "  </thead>\n",
       "  <tbody>\n",
       "    <tr>\n",
       "      <th>0</th>\n",
       "      <td>0</td>\n",
       "      <td>0</td>\n",
       "      <td>0</td>\n",
       "      <td>0</td>\n",
       "      <td>0</td>\n",
       "      <td>0</td>\n",
       "      <td>0</td>\n",
       "      <td>0</td>\n",
       "      <td>0</td>\n",
       "      <td>0</td>\n",
       "      <td>...</td>\n",
       "      <td>0</td>\n",
       "      <td>0</td>\n",
       "      <td>0</td>\n",
       "      <td>0</td>\n",
       "      <td>0</td>\n",
       "      <td>0</td>\n",
       "      <td>0</td>\n",
       "      <td>0</td>\n",
       "      <td>0</td>\n",
       "      <td>0</td>\n",
       "    </tr>\n",
       "  </tbody>\n",
       "</table>\n",
       "<p>1 rows × 4800 columns</p>\n",
       "</div>"
      ],
      "text/plain": [
       "   a  aaah  aah  aan  ab  abandon  aber  abl  aboard  about     ...      zijn  \\\n",
       "0  0     0    0    0   0        0     0    0       0      0     ...         0   \n",
       "\n",
       "   zo  zombi  zone  zoo  zu  zum  zur  zwei  popularity  \n",
       "0   0      0     0    0   0    0    0     0           0  \n",
       "\n",
       "[1 rows x 4800 columns]"
      ]
     },
     "execution_count": 455,
     "metadata": {},
     "output_type": "execute_result"
    }
   ],
   "source": [
    "df_lyrics_popularity.head(1)"
   ]
  },
  {
   "cell_type": "code",
   "execution_count": 456,
   "metadata": {
    "collapsed": true
   },
   "outputs": [],
   "source": [
    "##Find stop words in columns\n",
    "stop_cols = del_stopwords(df_lyrics_popularity)"
   ]
  },
  {
   "cell_type": "code",
   "execution_count": 457,
   "metadata": {
    "collapsed": true
   },
   "outputs": [],
   "source": [
    "##Delete stop words from dataset\n",
    "df_lyrics_popularity = df_lyrics_popularity.drop(stop_cols, axis=1)"
   ]
  },
  {
   "cell_type": "code",
   "execution_count": 458,
   "metadata": {
    "collapsed": false
   },
   "outputs": [
    {
     "data": {
      "text/plain": [
       "(2350, 4684)"
      ]
     },
     "execution_count": 458,
     "metadata": {},
     "output_type": "execute_result"
    }
   ],
   "source": [
    "df_lyrics_popularity.shape"
   ]
  },
  {
   "cell_type": "code",
   "execution_count": 459,
   "metadata": {
    "collapsed": false
   },
   "outputs": [],
   "source": [
    "###Move the target column to the front of the table\n",
    "cols = df_lyrics_popularity.columns.tolist()\n",
    "cols = cols[-1:] + cols[:-1]\n",
    "df_lyrics_popularity = df_lyrics_popularity[cols]"
   ]
  },
  {
   "cell_type": "code",
   "execution_count": 460,
   "metadata": {
    "collapsed": false
   },
   "outputs": [
    {
     "data": {
      "text/html": [
       "<div>\n",
       "<table border=\"1\" class=\"dataframe\">\n",
       "  <thead>\n",
       "    <tr style=\"text-align: right;\">\n",
       "      <th></th>\n",
       "      <th>popularity</th>\n",
       "      <th>aaah</th>\n",
       "      <th>aah</th>\n",
       "      <th>aan</th>\n",
       "      <th>ab</th>\n",
       "      <th>abandon</th>\n",
       "      <th>aber</th>\n",
       "      <th>abl</th>\n",
       "      <th>aboard</th>\n",
       "      <th>abov</th>\n",
       "      <th>...</th>\n",
       "      <th>zero</th>\n",
       "      <th>zijn</th>\n",
       "      <th>zo</th>\n",
       "      <th>zombi</th>\n",
       "      <th>zone</th>\n",
       "      <th>zoo</th>\n",
       "      <th>zu</th>\n",
       "      <th>zum</th>\n",
       "      <th>zur</th>\n",
       "      <th>zwei</th>\n",
       "    </tr>\n",
       "  </thead>\n",
       "  <tbody>\n",
       "    <tr>\n",
       "      <th>0</th>\n",
       "      <td>0</td>\n",
       "      <td>0</td>\n",
       "      <td>0</td>\n",
       "      <td>0</td>\n",
       "      <td>0</td>\n",
       "      <td>0</td>\n",
       "      <td>0</td>\n",
       "      <td>0</td>\n",
       "      <td>0</td>\n",
       "      <td>0</td>\n",
       "      <td>...</td>\n",
       "      <td>0</td>\n",
       "      <td>0</td>\n",
       "      <td>0</td>\n",
       "      <td>0</td>\n",
       "      <td>0</td>\n",
       "      <td>0</td>\n",
       "      <td>0</td>\n",
       "      <td>0</td>\n",
       "      <td>0</td>\n",
       "      <td>0</td>\n",
       "    </tr>\n",
       "  </tbody>\n",
       "</table>\n",
       "<p>1 rows × 4684 columns</p>\n",
       "</div>"
      ],
      "text/plain": [
       "   popularity  aaah  aah  aan  ab  abandon  aber  abl  aboard  abov  ...   \\\n",
       "0           0     0    0    0   0        0     0    0       0     0  ...    \n",
       "\n",
       "   zero  zijn  zo  zombi  zone  zoo  zu  zum  zur  zwei  \n",
       "0     0     0   0      0     0    0   0    0    0     0  \n",
       "\n",
       "[1 rows x 4684 columns]"
      ]
     },
     "execution_count": 460,
     "metadata": {},
     "output_type": "execute_result"
    }
   ],
   "source": [
    "df_lyrics_popularity.head(1)"
   ]
  },
  {
   "cell_type": "code",
   "execution_count": 461,
   "metadata": {
    "collapsed": false
   },
   "outputs": [],
   "source": [
    "df_test = df_lyrics_popularity.drop('popularity', axis=1)"
   ]
  },
  {
   "cell_type": "code",
   "execution_count": 462,
   "metadata": {
    "collapsed": false
   },
   "outputs": [
    {
     "data": {
      "text/html": [
       "<div>\n",
       "<table border=\"1\" class=\"dataframe\">\n",
       "  <thead>\n",
       "    <tr style=\"text-align: right;\">\n",
       "      <th></th>\n",
       "      <th>aaah</th>\n",
       "      <th>aah</th>\n",
       "      <th>aan</th>\n",
       "      <th>ab</th>\n",
       "      <th>abandon</th>\n",
       "      <th>aber</th>\n",
       "      <th>abl</th>\n",
       "      <th>aboard</th>\n",
       "      <th>abov</th>\n",
       "      <th>abr</th>\n",
       "      <th>...</th>\n",
       "      <th>zero</th>\n",
       "      <th>zijn</th>\n",
       "      <th>zo</th>\n",
       "      <th>zombi</th>\n",
       "      <th>zone</th>\n",
       "      <th>zoo</th>\n",
       "      <th>zu</th>\n",
       "      <th>zum</th>\n",
       "      <th>zur</th>\n",
       "      <th>zwei</th>\n",
       "    </tr>\n",
       "  </thead>\n",
       "  <tbody>\n",
       "    <tr>\n",
       "      <th>0</th>\n",
       "      <td>0</td>\n",
       "      <td>0</td>\n",
       "      <td>0</td>\n",
       "      <td>0</td>\n",
       "      <td>0</td>\n",
       "      <td>0</td>\n",
       "      <td>0</td>\n",
       "      <td>0</td>\n",
       "      <td>0</td>\n",
       "      <td>0</td>\n",
       "      <td>...</td>\n",
       "      <td>0</td>\n",
       "      <td>0</td>\n",
       "      <td>0</td>\n",
       "      <td>0</td>\n",
       "      <td>0</td>\n",
       "      <td>0</td>\n",
       "      <td>0</td>\n",
       "      <td>0</td>\n",
       "      <td>0</td>\n",
       "      <td>0</td>\n",
       "    </tr>\n",
       "  </tbody>\n",
       "</table>\n",
       "<p>1 rows × 4683 columns</p>\n",
       "</div>"
      ],
      "text/plain": [
       "   aaah  aah  aan  ab  abandon  aber  abl  aboard  abov  abr  ...   zero  \\\n",
       "0     0    0    0   0        0     0    0       0     0    0  ...      0   \n",
       "\n",
       "   zijn  zo  zombi  zone  zoo  zu  zum  zur  zwei  \n",
       "0     0   0      0     0    0   0    0    0     0  \n",
       "\n",
       "[1 rows x 4683 columns]"
      ]
     },
     "execution_count": 462,
     "metadata": {},
     "output_type": "execute_result"
    }
   ],
   "source": [
    "df_test.head(1)"
   ]
  },
  {
   "cell_type": "code",
   "execution_count": null,
   "metadata": {
    "collapsed": true
   },
   "outputs": [],
   "source": []
  },
  {
   "cell_type": "code",
   "execution_count": null,
   "metadata": {
    "collapsed": true
   },
   "outputs": [],
   "source": []
  },
  {
   "cell_type": "code",
   "execution_count": null,
   "metadata": {
    "collapsed": true
   },
   "outputs": [],
   "source": []
  },
  {
   "cell_type": "code",
   "execution_count": null,
   "metadata": {
    "collapsed": true
   },
   "outputs": [],
   "source": [
    "####Remove any columns that don't have any value/counts to the songs"
   ]
  },
  {
   "cell_type": "code",
   "execution_count": 463,
   "metadata": {
    "collapsed": false,
    "scrolled": false
   },
   "outputs": [
    {
     "data": {
      "text/plain": [
       "cu          0\n",
       "sig         0\n",
       "saben       0\n",
       "rocknrol    0\n",
       "coraz       0\n",
       "dtype: int64"
      ]
     },
     "execution_count": 463,
     "metadata": {},
     "output_type": "execute_result"
    }
   ],
   "source": [
    "df_test[df_test.columns].sum().sort_values(ascending=True).head(5)"
   ]
  },
  {
   "cell_type": "code",
   "execution_count": 464,
   "metadata": {
    "collapsed": false
   },
   "outputs": [
    {
     "data": {
      "text/plain": [
       "(2350, 4683)"
      ]
     },
     "execution_count": 464,
     "metadata": {},
     "output_type": "execute_result"
    }
   ],
   "source": [
    "df_test.shape"
   ]
  },
  {
   "cell_type": "code",
   "execution_count": 465,
   "metadata": {
    "collapsed": false
   },
   "outputs": [],
   "source": [
    "###Didn't want any lyrics that had a count of less than 5\n",
    "cols = list(df_test.columns.values)\n",
    "cols_use, cols_del = [], []\n",
    "for x in cols:\n",
    "    if df_test[x].sum() > 0:\n",
    "        cols_use.append(x)\n",
    "    else:\n",
    "        cols_del.append(x)"
   ]
  },
  {
   "cell_type": "code",
   "execution_count": 466,
   "metadata": {
    "collapsed": false
   },
   "outputs": [],
   "source": [
    "df_test = df_test.drop(cols_del, axis=1)"
   ]
  },
  {
   "cell_type": "code",
   "execution_count": 467,
   "metadata": {
    "collapsed": false
   },
   "outputs": [
    {
     "data": {
      "text/plain": [
       "(2350, 4553)"
      ]
     },
     "execution_count": 467,
     "metadata": {},
     "output_type": "execute_result"
    }
   ],
   "source": [
    "df_test.shape"
   ]
  },
  {
   "cell_type": "code",
   "execution_count": 468,
   "metadata": {
    "collapsed": false
   },
   "outputs": [
    {
     "data": {
      "text/html": [
       "<div>\n",
       "<table border=\"1\" class=\"dataframe\">\n",
       "  <thead>\n",
       "    <tr style=\"text-align: right;\">\n",
       "      <th></th>\n",
       "      <th>aaah</th>\n",
       "      <th>aah</th>\n",
       "      <th>ab</th>\n",
       "      <th>abandon</th>\n",
       "      <th>aber</th>\n",
       "      <th>abl</th>\n",
       "      <th>aboard</th>\n",
       "      <th>abov</th>\n",
       "      <th>abr</th>\n",
       "      <th>absenc</th>\n",
       "      <th>...</th>\n",
       "      <th>za</th>\n",
       "      <th>zeit</th>\n",
       "      <th>zero</th>\n",
       "      <th>zombi</th>\n",
       "      <th>zone</th>\n",
       "      <th>zoo</th>\n",
       "      <th>zu</th>\n",
       "      <th>zum</th>\n",
       "      <th>zur</th>\n",
       "      <th>zwei</th>\n",
       "    </tr>\n",
       "  </thead>\n",
       "  <tbody>\n",
       "    <tr>\n",
       "      <th>0</th>\n",
       "      <td>0</td>\n",
       "      <td>0</td>\n",
       "      <td>0</td>\n",
       "      <td>0</td>\n",
       "      <td>0</td>\n",
       "      <td>0</td>\n",
       "      <td>0</td>\n",
       "      <td>0</td>\n",
       "      <td>0</td>\n",
       "      <td>0</td>\n",
       "      <td>...</td>\n",
       "      <td>0</td>\n",
       "      <td>0</td>\n",
       "      <td>0</td>\n",
       "      <td>0</td>\n",
       "      <td>0</td>\n",
       "      <td>0</td>\n",
       "      <td>0</td>\n",
       "      <td>0</td>\n",
       "      <td>0</td>\n",
       "      <td>0</td>\n",
       "    </tr>\n",
       "    <tr>\n",
       "      <th>1</th>\n",
       "      <td>0</td>\n",
       "      <td>0</td>\n",
       "      <td>0</td>\n",
       "      <td>0</td>\n",
       "      <td>0</td>\n",
       "      <td>0</td>\n",
       "      <td>0</td>\n",
       "      <td>0</td>\n",
       "      <td>0</td>\n",
       "      <td>0</td>\n",
       "      <td>...</td>\n",
       "      <td>0</td>\n",
       "      <td>0</td>\n",
       "      <td>0</td>\n",
       "      <td>0</td>\n",
       "      <td>0</td>\n",
       "      <td>0</td>\n",
       "      <td>0</td>\n",
       "      <td>0</td>\n",
       "      <td>0</td>\n",
       "      <td>0</td>\n",
       "    </tr>\n",
       "    <tr>\n",
       "      <th>2</th>\n",
       "      <td>0</td>\n",
       "      <td>0</td>\n",
       "      <td>0</td>\n",
       "      <td>0</td>\n",
       "      <td>0</td>\n",
       "      <td>0</td>\n",
       "      <td>0</td>\n",
       "      <td>0</td>\n",
       "      <td>0</td>\n",
       "      <td>0</td>\n",
       "      <td>...</td>\n",
       "      <td>0</td>\n",
       "      <td>0</td>\n",
       "      <td>0</td>\n",
       "      <td>0</td>\n",
       "      <td>0</td>\n",
       "      <td>0</td>\n",
       "      <td>0</td>\n",
       "      <td>0</td>\n",
       "      <td>0</td>\n",
       "      <td>0</td>\n",
       "    </tr>\n",
       "    <tr>\n",
       "      <th>3</th>\n",
       "      <td>0</td>\n",
       "      <td>0</td>\n",
       "      <td>0</td>\n",
       "      <td>0</td>\n",
       "      <td>0</td>\n",
       "      <td>0</td>\n",
       "      <td>0</td>\n",
       "      <td>0</td>\n",
       "      <td>0</td>\n",
       "      <td>0</td>\n",
       "      <td>...</td>\n",
       "      <td>0</td>\n",
       "      <td>0</td>\n",
       "      <td>0</td>\n",
       "      <td>0</td>\n",
       "      <td>0</td>\n",
       "      <td>0</td>\n",
       "      <td>0</td>\n",
       "      <td>0</td>\n",
       "      <td>0</td>\n",
       "      <td>0</td>\n",
       "    </tr>\n",
       "    <tr>\n",
       "      <th>4</th>\n",
       "      <td>0</td>\n",
       "      <td>0</td>\n",
       "      <td>0</td>\n",
       "      <td>0</td>\n",
       "      <td>0</td>\n",
       "      <td>0</td>\n",
       "      <td>0</td>\n",
       "      <td>0</td>\n",
       "      <td>0</td>\n",
       "      <td>0</td>\n",
       "      <td>...</td>\n",
       "      <td>0</td>\n",
       "      <td>0</td>\n",
       "      <td>0</td>\n",
       "      <td>0</td>\n",
       "      <td>0</td>\n",
       "      <td>0</td>\n",
       "      <td>0</td>\n",
       "      <td>0</td>\n",
       "      <td>0</td>\n",
       "      <td>0</td>\n",
       "    </tr>\n",
       "  </tbody>\n",
       "</table>\n",
       "<p>5 rows × 4553 columns</p>\n",
       "</div>"
      ],
      "text/plain": [
       "   aaah  aah  ab  abandon  aber  abl  aboard  abov  abr  absenc  ...   za  \\\n",
       "0     0    0   0        0     0    0       0     0    0       0  ...    0   \n",
       "1     0    0   0        0     0    0       0     0    0       0  ...    0   \n",
       "2     0    0   0        0     0    0       0     0    0       0  ...    0   \n",
       "3     0    0   0        0     0    0       0     0    0       0  ...    0   \n",
       "4     0    0   0        0     0    0       0     0    0       0  ...    0   \n",
       "\n",
       "   zeit  zero  zombi  zone  zoo  zu  zum  zur  zwei  \n",
       "0     0     0      0     0    0   0    0    0     0  \n",
       "1     0     0      0     0    0   0    0    0     0  \n",
       "2     0     0      0     0    0   0    0    0     0  \n",
       "3     0     0      0     0    0   0    0    0     0  \n",
       "4     0     0      0     0    0   0    0    0     0  \n",
       "\n",
       "[5 rows x 4553 columns]"
      ]
     },
     "execution_count": 468,
     "metadata": {},
     "output_type": "execute_result"
    }
   ],
   "source": [
    "df_test.head()"
   ]
  },
  {
   "cell_type": "code",
   "execution_count": null,
   "metadata": {
    "collapsed": true
   },
   "outputs": [],
   "source": []
  },
  {
   "cell_type": "code",
   "execution_count": null,
   "metadata": {
    "collapsed": true
   },
   "outputs": [],
   "source": []
  },
  {
   "cell_type": "code",
   "execution_count": null,
   "metadata": {
    "collapsed": true
   },
   "outputs": [],
   "source": [
    "##Check if the word is in the english language"
   ]
  },
  {
   "cell_type": "code",
   "execution_count": 469,
   "metadata": {
    "collapsed": true
   },
   "outputs": [],
   "source": [
    "e_dict = enchant.Dict(\"en_US\")"
   ]
  },
  {
   "cell_type": "code",
   "execution_count": 470,
   "metadata": {
    "collapsed": false
   },
   "outputs": [],
   "source": [
    "cols_dict = list(df_test.columns.values)\n",
    "cols_use_dict, cols_del_dict = [], []\n",
    "for x in cols_dict:\n",
    "    \n",
    "    if e_dict.check(x) == True:\n",
    "        cols_use_dict.append(x)\n",
    "    else:\n",
    "        cols_del_dict.append(x)"
   ]
  },
  {
   "cell_type": "code",
   "execution_count": 471,
   "metadata": {
    "collapsed": false
   },
   "outputs": [
    {
     "name": "stdout",
     "output_type": "stream",
     "text": [
      "2455\n",
      "2098\n"
     ]
    }
   ],
   "source": [
    "print len(cols_use_dict)\n",
    "print len(cols_del_dict)"
   ]
  },
  {
   "cell_type": "code",
   "execution_count": 472,
   "metadata": {
    "collapsed": true
   },
   "outputs": [],
   "source": [
    "df_test = df_test.drop(cols_del_dict, axis=1)"
   ]
  },
  {
   "cell_type": "code",
   "execution_count": 473,
   "metadata": {
    "collapsed": false
   },
   "outputs": [
    {
     "data": {
      "text/plain": [
       "(2350, 2455)"
      ]
     },
     "execution_count": 473,
     "metadata": {},
     "output_type": "execute_result"
    }
   ],
   "source": [
    "df_test.shape"
   ]
  },
  {
   "cell_type": "code",
   "execution_count": 474,
   "metadata": {
    "collapsed": false
   },
   "outputs": [
    {
     "data": {
      "text/html": [
       "<div>\n",
       "<table border=\"1\" class=\"dataframe\">\n",
       "  <thead>\n",
       "    <tr style=\"text-align: right;\">\n",
       "      <th></th>\n",
       "      <th>ab</th>\n",
       "      <th>abandon</th>\n",
       "      <th>aboard</th>\n",
       "      <th>absurd</th>\n",
       "      <th>abyss</th>\n",
       "      <th>accept</th>\n",
       "      <th>ace</th>\n",
       "      <th>acid</th>\n",
       "      <th>across</th>\n",
       "      <th>act</th>\n",
       "      <th>...</th>\n",
       "      <th>yet</th>\n",
       "      <th>yo</th>\n",
       "      <th>yonder</th>\n",
       "      <th>young</th>\n",
       "      <th>younger</th>\n",
       "      <th>youth</th>\n",
       "      <th>z</th>\n",
       "      <th>zero</th>\n",
       "      <th>zone</th>\n",
       "      <th>zoo</th>\n",
       "    </tr>\n",
       "  </thead>\n",
       "  <tbody>\n",
       "    <tr>\n",
       "      <th>0</th>\n",
       "      <td>0</td>\n",
       "      <td>0</td>\n",
       "      <td>0</td>\n",
       "      <td>0</td>\n",
       "      <td>0</td>\n",
       "      <td>0</td>\n",
       "      <td>0</td>\n",
       "      <td>0</td>\n",
       "      <td>0</td>\n",
       "      <td>0</td>\n",
       "      <td>...</td>\n",
       "      <td>0</td>\n",
       "      <td>0</td>\n",
       "      <td>0</td>\n",
       "      <td>0</td>\n",
       "      <td>0</td>\n",
       "      <td>0</td>\n",
       "      <td>0</td>\n",
       "      <td>0</td>\n",
       "      <td>0</td>\n",
       "      <td>0</td>\n",
       "    </tr>\n",
       "  </tbody>\n",
       "</table>\n",
       "<p>1 rows × 2455 columns</p>\n",
       "</div>"
      ],
      "text/plain": [
       "   ab  abandon  aboard  absurd  abyss  accept  ace  acid  across  act ...   \\\n",
       "0   0        0       0       0      0       0    0     0       0    0 ...    \n",
       "\n",
       "   yet  yo  yonder  young  younger  youth  z  zero  zone  zoo  \n",
       "0    0   0       0      0        0      0  0     0     0    0  \n",
       "\n",
       "[1 rows x 2455 columns]"
      ]
     },
     "execution_count": 474,
     "metadata": {},
     "output_type": "execute_result"
    }
   ],
   "source": [
    "df_test.head(1)"
   ]
  },
  {
   "cell_type": "code",
   "execution_count": null,
   "metadata": {
    "collapsed": true
   },
   "outputs": [],
   "source": []
  },
  {
   "cell_type": "code",
   "execution_count": null,
   "metadata": {
    "collapsed": true
   },
   "outputs": [],
   "source": [
    "###Take the word count around the average and a standard deviation away from the mean\n",
    "###Basically, chopping off the ends of the dataset"
   ]
  },
  {
   "cell_type": "code",
   "execution_count": 481,
   "metadata": {
    "collapsed": false
   },
   "outputs": [],
   "source": [
    "df_test_columns = df_test[df_test.columns].sum().sort_values(ascending=False)"
   ]
  },
  {
   "cell_type": "code",
   "execution_count": 487,
   "metadata": {
    "collapsed": false
   },
   "outputs": [
    {
     "data": {
      "text/plain": [
       "<matplotlib.axes._subplots.AxesSubplot at 0x30fbb1190>"
      ]
     },
     "execution_count": 487,
     "metadata": {},
     "output_type": "execute_result"
    },
    {
     "data": {
      "image/png": "[encoded data removed]",
      "text/plain": [
       "<matplotlib.figure.Figure at 0x312e2a450>"
      ]
     },
     "metadata": {
      "image/png": {
       "height": 359,
       "width": 540
      }
     },
     "output_type": "display_data"
    }
   ],
   "source": [
    "df_test_columns.hist(bins=150, alpha=.5, color='darkred')"
   ]
  },
  {
   "cell_type": "code",
   "execution_count": 490,
   "metadata": {
    "collapsed": false,
    "scrolled": false
   },
   "outputs": [
    {
     "data": {
      "text/plain": [
       "count    2455.000000\n",
       "mean       81.340937\n",
       "std       222.306601\n",
       "min         1.000000\n",
       "25%         9.000000\n",
       "50%        20.000000\n",
       "75%        57.000000\n",
       "max      3280.000000\n",
       "dtype: float64"
      ]
     },
     "execution_count": 490,
     "metadata": {},
     "output_type": "execute_result"
    }
   ],
   "source": [
    "df_test_columns.describe()"
   ]
  },
  {
   "cell_type": "code",
   "execution_count": 495,
   "metadata": {
    "collapsed": false
   },
   "outputs": [],
   "source": [
    "###Take the middle 50% of the column values (one standard deviation from the mean) - in order\n",
    "###to pick features that are more unique across the various artists\n",
    "cols = list(df_test.columns.values)\n",
    "cols_use, cols_del = [], []\n",
    "for x in cols:\n",
    "    if df_test[x].sum() >= 40 and df_test[x].sum() <= 300:\n",
    "        cols_use.append(x)\n",
    "    else:\n",
    "        cols_del.append(x)"
   ]
  },
  {
   "cell_type": "code",
   "execution_count": 499,
   "metadata": {
    "collapsed": false
   },
   "outputs": [
    {
     "name": "stdout",
     "output_type": "stream",
     "text": [
      "646\n",
      "1809\n"
     ]
    }
   ],
   "source": [
    "print len(cols_use)\n",
    "print len(cols_del)"
   ]
  },
  {
   "cell_type": "code",
   "execution_count": 500,
   "metadata": {
    "collapsed": true
   },
   "outputs": [],
   "source": [
    "df_test = df_test.drop(cols_del, axis=1)"
   ]
  },
  {
   "cell_type": "code",
   "execution_count": 501,
   "metadata": {
    "collapsed": false
   },
   "outputs": [
    {
     "data": {
      "text/plain": [
       "(2350, 646)"
      ]
     },
     "execution_count": 501,
     "metadata": {},
     "output_type": "execute_result"
    }
   ],
   "source": [
    "df_test.shape"
   ]
  },
  {
   "cell_type": "code",
   "execution_count": null,
   "metadata": {
    "collapsed": true
   },
   "outputs": [],
   "source": []
  },
  {
   "cell_type": "code",
   "execution_count": null,
   "metadata": {
    "collapsed": true
   },
   "outputs": [],
   "source": [
    "####Look at count and tdidf of the words"
   ]
  },
  {
   "cell_type": "code",
   "execution_count": null,
   "metadata": {
    "collapsed": false
   },
   "outputs": [],
   "source": []
  },
  {
   "cell_type": "code",
   "execution_count": 502,
   "metadata": {
    "collapsed": true
   },
   "outputs": [],
   "source": [
    "from sklearn.feature_extraction.text import TfidfTransformer"
   ]
  },
  {
   "cell_type": "code",
   "execution_count": 503,
   "metadata": {
    "collapsed": true
   },
   "outputs": [],
   "source": [
    "tfidf = TfidfTransformer()\n",
    "count = CountVectorizer()"
   ]
  },
  {
   "cell_type": "code",
   "execution_count": 504,
   "metadata": {
    "collapsed": false
   },
   "outputs": [],
   "source": [
    "X_tfidf = tfidf.fit_transform(df_test)"
   ]
  },
  {
   "cell_type": "code",
   "execution_count": 505,
   "metadata": {
    "collapsed": false
   },
   "outputs": [
    {
     "data": {
      "text/plain": [
       "matrix([[ 0.00401873,  0.00434965,  0.00258089,  0.00580242,  0.00285779,\n",
       "          0.00344245,  0.0093802 ,  0.00284722,  0.0064281 ,  0.00565563,\n",
       "          0.00701714,  0.00799403,  0.0074316 ,  0.0061064 ,  0.0029896 ,\n",
       "          0.00333361,  0.00719812,  0.00845096,  0.00220909,  0.0106694 ,\n",
       "          0.00531165,  0.00431074,  0.0020603 ,  0.00348992,  0.00225824,\n",
       "          0.002255  ,  0.00411608,  0.00273854,  0.00158034,  0.00254825,\n",
       "          0.00910024,  0.00606646,  0.00354834,  0.00537674,  0.00811609,\n",
       "          0.00398577,  0.00424682,  0.00320724,  0.00348674,  0.00827651,\n",
       "          0.00327734,  0.01008077,  0.00259196,  0.00387225,  0.00315635,\n",
       "          0.00482638,  0.00546111,  0.00238961,  0.00790952,  0.00433112,\n",
       "          0.00546282,  0.00474301,  0.00713156,  0.00348454,  0.00894247,\n",
       "          0.00597233,  0.01058628,  0.0045916 ,  0.00246983,  0.0023436 ,\n",
       "          0.00569897,  0.00271683,  0.0029498 ,  0.0070165 ,  0.00250925,\n",
       "          0.00356232,  0.00227288,  0.00804239,  0.00473478,  0.01115389,\n",
       "          0.00363056,  0.0078602 ,  0.0053722 ,  0.00269427,  0.00228952,\n",
       "          0.00441357,  0.00305507,  0.00214125,  0.00466159,  0.00196332,\n",
       "          0.00925358,  0.00551121,  0.00188501,  0.00589079,  0.00220202,\n",
       "          0.00176389,  0.00304691,  0.00417194,  0.00537921,  0.00421556,\n",
       "          0.00184274,  0.00313883,  0.00381863,  0.00479136,  0.00354618,\n",
       "          0.00329909,  0.00643309,  0.00242972,  0.01279664,  0.00284746,\n",
       "          0.00381958,  0.00238381,  0.00912114,  0.00293202,  0.00528943,\n",
       "          0.01472211,  0.00705268,  0.00611858,  0.0026911 ,  0.00231111,\n",
       "          0.00442684,  0.00351955,  0.00496159,  0.00417104,  0.00348693,\n",
       "          0.0018944 ,  0.00494964,  0.00366968,  0.00593063,  0.00462052,\n",
       "          0.00307968,  0.01031267,  0.00230562,  0.00342532,  0.01000253,\n",
       "          0.00284768,  0.0060385 ,  0.00859803,  0.00800029,  0.00376535,\n",
       "          0.00630962,  0.00323674,  0.00253983,  0.00484548,  0.00243099,\n",
       "          0.00342838,  0.00209352,  0.00530864,  0.00347983,  0.00322591,\n",
       "          0.00302016,  0.00951434,  0.0036825 ,  0.00202552,  0.01135134,\n",
       "          0.01060297,  0.00164887,  0.00385603,  0.00312459,  0.00210952,\n",
       "          0.00217853,  0.00389435,  0.00588589,  0.00501945,  0.00571643,\n",
       "          0.00396105,  0.00165875,  0.00234577,  0.0024027 ,  0.00320274,\n",
       "          0.00910422,  0.00313504,  0.00740542,  0.0038778 ,  0.00245036,\n",
       "          0.00439901,  0.008011  ,  0.01137425,  0.00305418,  0.0086085 ,\n",
       "          0.00460483,  0.00363104,  0.00400768,  0.00384371,  0.00270386,\n",
       "          0.00675022,  0.00399644,  0.00605784,  0.00356231,  0.00230937,\n",
       "          0.01202923,  0.00594941,  0.00182228,  0.00506726,  0.00417867,\n",
       "          0.00253418,  0.00867149,  0.0030221 ,  0.00595218,  0.00398841,\n",
       "          0.00608448,  0.00988017,  0.00687327,  0.00621022,  0.00599139,\n",
       "          0.00356784,  0.00963087,  0.00896515,  0.00372132,  0.00301647,\n",
       "          0.00210083,  0.00386998,  0.00347274,  0.00149378,  0.00202654,\n",
       "          0.00573766,  0.00358468,  0.0027917 ,  0.00711077,  0.0078728 ,\n",
       "          0.00990292,  0.00949421,  0.0031812 ,  0.00287712,  0.00238476,\n",
       "          0.00361935,  0.00539851,  0.00585131,  0.00173723,  0.00302524,\n",
       "          0.00275562,  0.00688335,  0.00641328,  0.00180968,  0.00311004,\n",
       "          0.00311935,  0.0027704 ,  0.00300933,  0.00276394,  0.00349633,\n",
       "          0.00373349,  0.00342859,  0.00401426,  0.00519   ,  0.00277534,\n",
       "          0.00697833,  0.00718249,  0.00308119,  0.0071215 ,  0.00281952,\n",
       "          0.00499379,  0.00395576,  0.00655264,  0.00510628,  0.00347057,\n",
       "          0.00651489,  0.00578313,  0.00350444,  0.00843573,  0.0032073 ,\n",
       "          0.00691257,  0.00289889,  0.00780465,  0.00350102,  0.00774064,\n",
       "          0.00251061,  0.00839951,  0.00222967,  0.01054412,  0.00947036,\n",
       "          0.00985366,  0.00296744,  0.00227461,  0.00213441,  0.00686784,\n",
       "          0.00194063,  0.00351137,  0.00543351,  0.00172218,  0.00243878,\n",
       "          0.00659741,  0.00491584,  0.00391177,  0.00150289,  0.00335194,\n",
       "          0.00741268,  0.00230997,  0.00169766,  0.00308472,  0.00205413,\n",
       "          0.00273812,  0.00206294,  0.00254202,  0.00208903,  0.00407116,\n",
       "          0.0037099 ,  0.00282069,  0.00381605,  0.00455154,  0.00769113,\n",
       "          0.01042218,  0.00790067,  0.00313172,  0.00567351,  0.01089334,\n",
       "          0.00511015,  0.00815965,  0.00343618,  0.0041425 ,  0.00320502,\n",
       "          0.0058788 ,  0.01018911,  0.00820037,  0.002103  ,  0.00612331,\n",
       "          0.00263296,  0.00796582,  0.00728344,  0.00158702,  0.0082675 ,\n",
       "          0.0024981 ,  0.00307221,  0.00218618,  0.00260177,  0.00882563,\n",
       "          0.00564941,  0.0103848 ,  0.00356834,  0.00826096,  0.00536655,\n",
       "          0.00927153,  0.0117295 ,  0.00684199,  0.00254097,  0.00663936,\n",
       "          0.00551415,  0.00253596,  0.00301838,  0.00430307,  0.00338111,\n",
       "          0.00292655,  0.00504706,  0.00877308,  0.00238387,  0.00816472,\n",
       "          0.00987289,  0.01149454,  0.0045285 ,  0.00532573,  0.00631166,\n",
       "          0.00328677,  0.00457151,  0.00470305,  0.00208128,  0.01041736,\n",
       "          0.00412471,  0.00318217,  0.01207072,  0.00488051,  0.00838881,\n",
       "          0.00601808,  0.00758603,  0.00664415,  0.00844067,  0.00511152,\n",
       "          0.00390078,  0.00422626,  0.0021268 ,  0.00869971,  0.00324332,\n",
       "          0.00268216,  0.00476148,  0.00128558,  0.00319295,  0.00609149,\n",
       "          0.00400495,  0.00201461,  0.0023042 ,  0.00491873,  0.00286646,\n",
       "          0.00393467,  0.00357043,  0.0035638 ,  0.01116869,  0.00861496,\n",
       "          0.00261098,  0.0026632 ,  0.01126877,  0.00266829,  0.00272943,\n",
       "          0.00237628,  0.01287887,  0.00809039,  0.00914784,  0.00766723,\n",
       "          0.00322722,  0.00627432,  0.00359422,  0.00594618,  0.00524201,\n",
       "          0.00293501,  0.00429205,  0.00548867,  0.00286551,  0.00582786,\n",
       "          0.00704468,  0.0048451 ,  0.00319486,  0.00259519,  0.00242184,\n",
       "          0.008058  ,  0.00494326,  0.00432817,  0.00295121,  0.00180027,\n",
       "          0.00367568,  0.00306104,  0.00459893,  0.00340862,  0.00316894,\n",
       "          0.00209577,  0.00563341,  0.0028072 ,  0.00431561,  0.00410116,\n",
       "          0.00390091,  0.0026405 ,  0.00384481,  0.00305038,  0.00374495,\n",
       "          0.00267031,  0.00237349,  0.00268664,  0.00437376,  0.00168519,\n",
       "          0.00403992,  0.0068531 ,  0.00395485,  0.01064826,  0.00940387,\n",
       "          0.00311693,  0.00634024,  0.00388568,  0.00385731,  0.00517986,\n",
       "          0.00201801,  0.00617399,  0.0042915 ,  0.00388586,  0.00242706,\n",
       "          0.00195878,  0.00752866,  0.00412644,  0.00250108,  0.00570878,\n",
       "          0.00550805,  0.00890685,  0.01001654,  0.00548588,  0.00397317,\n",
       "          0.00893603,  0.00405115,  0.00314077,  0.00501987,  0.00341378,\n",
       "          0.00295372,  0.00307295,  0.01008545,  0.00177248,  0.0080841 ,\n",
       "          0.00439138,  0.00353797,  0.00213178,  0.00469223,  0.00731782,\n",
       "          0.00459905,  0.00413834,  0.00328247,  0.00203059,  0.00258393,\n",
       "          0.01077984,  0.00950332,  0.00252262,  0.00463926,  0.00485733,\n",
       "          0.00387381,  0.00857591,  0.00241764,  0.00272413,  0.00495026,\n",
       "          0.00466035,  0.00568418,  0.00304387,  0.00494762,  0.00982257,\n",
       "          0.00409924,  0.00285896,  0.00411741,  0.00305476,  0.00286234,\n",
       "          0.00379966,  0.00510209,  0.0099635 ,  0.00415212,  0.00585351,\n",
       "          0.00372059,  0.01274197,  0.00329358,  0.00372176,  0.00811333,\n",
       "          0.0020921 ,  0.00535911,  0.01155686,  0.00224782,  0.00843686,\n",
       "          0.00345839,  0.00507363,  0.00297438,  0.00297403,  0.00996116,\n",
       "          0.00432895,  0.00329028,  0.00317652,  0.0078987 ,  0.00431417,\n",
       "          0.00397122,  0.00960422,  0.00568045,  0.00360756,  0.00901328,\n",
       "          0.00513497,  0.00376606,  0.00605406,  0.00327178,  0.00189282,\n",
       "          0.00468245,  0.0032864 ,  0.00251124,  0.00362964,  0.00288674,\n",
       "          0.00216726,  0.00243503,  0.00971018,  0.00335614,  0.00281543,\n",
       "          0.00346078,  0.00616566,  0.00187751,  0.00555834,  0.00271774,\n",
       "          0.00331084,  0.00387061,  0.00365848,  0.00427163,  0.00204933,\n",
       "          0.00735875,  0.00217044,  0.00354013,  0.00297536,  0.00361536,\n",
       "          0.00434222,  0.00986314,  0.00264461,  0.00344959,  0.00993826,\n",
       "          0.00408613,  0.00452955,  0.0019158 ,  0.01025729,  0.00405789,\n",
       "          0.00198499,  0.00436278,  0.00888817,  0.00360533,  0.00530767,\n",
       "          0.00512539,  0.00917351,  0.00354016,  0.0046918 ,  0.00859852,\n",
       "          0.00177169,  0.00483752,  0.00906297,  0.00867861,  0.00695705,\n",
       "          0.00281515,  0.00943914,  0.00588761,  0.01049093,  0.00185055,\n",
       "          0.00544322,  0.00834454,  0.0031356 ,  0.00222911,  0.00435669,\n",
       "          0.00388611,  0.00532619,  0.00228439,  0.00246453,  0.00478051,\n",
       "          0.00820425,  0.00252586,  0.00346335,  0.00166728,  0.00383375,\n",
       "          0.00505031,  0.0038452 ,  0.00823229,  0.00765878,  0.00378342,\n",
       "          0.00280442,  0.00720714,  0.00779464,  0.00628477,  0.00386747,\n",
       "          0.00395496,  0.00590443,  0.00685483,  0.00410802,  0.00385665,\n",
       "          0.00492088,  0.00265891,  0.00220325,  0.002584  ,  0.00715106,\n",
       "          0.00303565,  0.00362782,  0.00522128,  0.00541209,  0.00713469,\n",
       "          0.00343053,  0.00252543,  0.00525609,  0.00451737,  0.00714652,\n",
       "          0.0037989 ,  0.00308847,  0.00499405,  0.00196897,  0.01059696,\n",
       "          0.00574353,  0.00449654,  0.0086683 ,  0.00236509,  0.00917848,\n",
       "          0.00918182,  0.00444408,  0.00352181,  0.00294596,  0.00303045,\n",
       "          0.00176438,  0.00420673,  0.00227179,  0.00318946,  0.00550642,\n",
       "          0.0060027 ]])"
      ]
     },
     "execution_count": 505,
     "metadata": {},
     "output_type": "execute_result"
    }
   ],
   "source": [
    "X_tfidf.todense().mean(axis=0)"
   ]
  },
  {
   "cell_type": "code",
   "execution_count": 506,
   "metadata": {
    "collapsed": false
   },
   "outputs": [],
   "source": [
    "x_df_tfidf = pd.DataFrame(X_tfidf.todense(), columns=df_test.columns)"
   ]
  },
  {
   "cell_type": "code",
   "execution_count": 507,
   "metadata": {
    "collapsed": true
   },
   "outputs": [],
   "source": [
    "tf_df_tfidf = pd.DataFrame(x_df_tfidf.mean(), columns=[\"freq\"])"
   ]
  },
  {
   "cell_type": "code",
   "execution_count": 508,
   "metadata": {
    "collapsed": true
   },
   "outputs": [],
   "source": [
    "title  =  \"Frequency - Top 20: %s, Stopwords: %s\" % (\"tfidf\", \"none\")"
   ]
  },
  {
   "cell_type": "code",
   "execution_count": 509,
   "metadata": {
    "collapsed": false,
    "scrolled": false
   },
   "outputs": [
    {
     "data": {
      "text/plain": [
       "<matplotlib.axes._subplots.AxesSubplot at 0x2f59e7390>"
      ]
     },
     "execution_count": 509,
     "metadata": {},
     "output_type": "execute_result"
    },
    {
     "data": {
      "image/png": "[encoded data removed]",
      "text/plain": [
       "<matplotlib.figure.Figure at 0x3097dd450>"
      ]
     },
     "metadata": {
      "image/png": {
       "height": 449,
       "width": 868
      }
     },
     "output_type": "display_data"
    }
   ],
   "source": [
    "tf_df_tfidf.sort_values(\"freq\").tail(20).plot(kind=\"barh\", title=title, figsize=(10,5))"
   ]
  },
  {
   "cell_type": "code",
   "execution_count": 418,
   "metadata": {
    "collapsed": false
   },
   "outputs": [
    {
     "data": {
      "text/plain": [
       "array([ 0.00064202,  0.00050124,  0.0002648 , ...,  0.00083888,\n",
       "        0.00099937,  0.00036589])"
      ]
     },
     "execution_count": 418,
     "metadata": {},
     "output_type": "execute_result"
    }
   ],
   "source": [
    "tf_df_tfidf['freq'].unique()"
   ]
  },
  {
   "cell_type": "code",
   "execution_count": null,
   "metadata": {
    "collapsed": true
   },
   "outputs": [],
   "source": []
  },
  {
   "cell_type": "code",
   "execution_count": null,
   "metadata": {
    "collapsed": true
   },
   "outputs": [],
   "source": []
  },
  {
   "cell_type": "code",
   "execution_count": null,
   "metadata": {
    "collapsed": true
   },
   "outputs": [],
   "source": []
  },
  {
   "cell_type": "code",
   "execution_count": null,
   "metadata": {
    "collapsed": true
   },
   "outputs": [],
   "source": [
    "###Look at the count of words"
   ]
  },
  {
   "cell_type": "code",
   "execution_count": 511,
   "metadata": {
    "collapsed": false
   },
   "outputs": [
    {
     "data": {
      "text/plain": [
       "<matplotlib.axes._subplots.AxesSubplot at 0x2f3807ad0>"
      ]
     },
     "execution_count": 511,
     "metadata": {},
     "output_type": "execute_result"
    },
    {
     "data": {
      "image/png": "[encoded data removed]",
      "text/plain": [
       "<matplotlib.figure.Figure at 0x2f5236ed0>"
      ]
     },
     "metadata": {
      "image/png": {
       "height": 352,
       "width": 541
      }
     },
     "output_type": "display_data"
    }
   ],
   "source": [
    "df_test[df_test.columns].sum().sort_values(ascending=False).head(15).plot(kind='barh')"
   ]
  },
  {
   "cell_type": "code",
   "execution_count": null,
   "metadata": {
    "collapsed": false
   },
   "outputs": [],
   "source": []
  },
  {
   "cell_type": "code",
   "execution_count": null,
   "metadata": {
    "collapsed": true
   },
   "outputs": [],
   "source": []
  },
  {
   "cell_type": "code",
   "execution_count": null,
   "metadata": {
    "collapsed": true
   },
   "outputs": [],
   "source": [
    "##Add popularity back into the model"
   ]
  },
  {
   "cell_type": "code",
   "execution_count": 512,
   "metadata": {
    "collapsed": false
   },
   "outputs": [
    {
     "name": "stdout",
     "output_type": "stream",
     "text": [
      "(2350, 646)\n",
      "(2350, 4684)\n"
     ]
    }
   ],
   "source": [
    "print df_test.shape\n",
    "print df_lyrics_popularity.shape"
   ]
  },
  {
   "cell_type": "code",
   "execution_count": 293,
   "metadata": {
    "collapsed": false
   },
   "outputs": [
    {
     "data": {
      "text/html": [
       "<div>\n",
       "<table border=\"1\" class=\"dataframe\">\n",
       "  <thead>\n",
       "    <tr style=\"text-align: right;\">\n",
       "      <th></th>\n",
       "      <th>popularity</th>\n",
       "      <th>aaah</th>\n",
       "      <th>aah</th>\n",
       "      <th>aan</th>\n",
       "      <th>ab</th>\n",
       "      <th>abandon</th>\n",
       "      <th>aber</th>\n",
       "      <th>abl</th>\n",
       "      <th>aboard</th>\n",
       "      <th>abov</th>\n",
       "      <th>...</th>\n",
       "      <th>zero</th>\n",
       "      <th>zijn</th>\n",
       "      <th>zo</th>\n",
       "      <th>zombi</th>\n",
       "      <th>zone</th>\n",
       "      <th>zoo</th>\n",
       "      <th>zu</th>\n",
       "      <th>zum</th>\n",
       "      <th>zur</th>\n",
       "      <th>zwei</th>\n",
       "    </tr>\n",
       "  </thead>\n",
       "  <tbody>\n",
       "    <tr>\n",
       "      <th>0</th>\n",
       "      <td>0</td>\n",
       "      <td>0</td>\n",
       "      <td>0</td>\n",
       "      <td>0</td>\n",
       "      <td>0</td>\n",
       "      <td>0</td>\n",
       "      <td>0</td>\n",
       "      <td>0</td>\n",
       "      <td>0</td>\n",
       "      <td>0</td>\n",
       "      <td>...</td>\n",
       "      <td>0</td>\n",
       "      <td>0</td>\n",
       "      <td>0</td>\n",
       "      <td>0</td>\n",
       "      <td>0</td>\n",
       "      <td>0</td>\n",
       "      <td>0</td>\n",
       "      <td>0</td>\n",
       "      <td>0</td>\n",
       "      <td>0</td>\n",
       "    </tr>\n",
       "  </tbody>\n",
       "</table>\n",
       "<p>1 rows × 4684 columns</p>\n",
       "</div>"
      ],
      "text/plain": [
       "   popularity  aaah  aah  aan  ab  abandon  aber  abl  aboard  abov  ...   \\\n",
       "0           0     0    0    0   0        0     0    0       0     0  ...    \n",
       "\n",
       "   zero  zijn  zo  zombi  zone  zoo  zu  zum  zur  zwei  \n",
       "0     0     0   0      0     0    0   0    0    0     0  \n",
       "\n",
       "[1 rows x 4684 columns]"
      ]
     },
     "execution_count": 293,
     "metadata": {},
     "output_type": "execute_result"
    }
   ],
   "source": [
    "df_lyrics_popularity.head(1)"
   ]
  },
  {
   "cell_type": "code",
   "execution_count": 513,
   "metadata": {
    "collapsed": true
   },
   "outputs": [],
   "source": [
    "df_test['popularity'] = df_lyrics_popularity['popularity']"
   ]
  },
  {
   "cell_type": "code",
   "execution_count": 514,
   "metadata": {
    "collapsed": false
   },
   "outputs": [
    {
     "data": {
      "text/plain": [
       "(2350, 647)"
      ]
     },
     "execution_count": 514,
     "metadata": {},
     "output_type": "execute_result"
    }
   ],
   "source": [
    "df_test.shape"
   ]
  },
  {
   "cell_type": "code",
   "execution_count": 515,
   "metadata": {
    "collapsed": false
   },
   "outputs": [
    {
     "data": {
      "text/html": [
       "<div>\n",
       "<table border=\"1\" class=\"dataframe\">\n",
       "  <thead>\n",
       "    <tr style=\"text-align: right;\">\n",
       "      <th></th>\n",
       "      <th>across</th>\n",
       "      <th>act</th>\n",
       "      <th>action</th>\n",
       "      <th>afraid</th>\n",
       "      <th>age</th>\n",
       "      <th>ago</th>\n",
       "      <th>ah</th>\n",
       "      <th>ahead</th>\n",
       "      <th>air</th>\n",
       "      <th>alma</th>\n",
       "      <th>...</th>\n",
       "      <th>wound</th>\n",
       "      <th>wrap</th>\n",
       "      <th>write</th>\n",
       "      <th>ye</th>\n",
       "      <th>yea</th>\n",
       "      <th>yellow</th>\n",
       "      <th>yesterday</th>\n",
       "      <th>yet</th>\n",
       "      <th>young</th>\n",
       "      <th>popularity</th>\n",
       "    </tr>\n",
       "  </thead>\n",
       "  <tbody>\n",
       "    <tr>\n",
       "      <th>0</th>\n",
       "      <td>0</td>\n",
       "      <td>0</td>\n",
       "      <td>0</td>\n",
       "      <td>0</td>\n",
       "      <td>1</td>\n",
       "      <td>0</td>\n",
       "      <td>0</td>\n",
       "      <td>0</td>\n",
       "      <td>0</td>\n",
       "      <td>0</td>\n",
       "      <td>...</td>\n",
       "      <td>0</td>\n",
       "      <td>0</td>\n",
       "      <td>0</td>\n",
       "      <td>0</td>\n",
       "      <td>0</td>\n",
       "      <td>0</td>\n",
       "      <td>0</td>\n",
       "      <td>0</td>\n",
       "      <td>0</td>\n",
       "      <td>0</td>\n",
       "    </tr>\n",
       "  </tbody>\n",
       "</table>\n",
       "<p>1 rows × 647 columns</p>\n",
       "</div>"
      ],
      "text/plain": [
       "   across  act  action  afraid  age  ago  ah  ahead  air  alma     ...      \\\n",
       "0       0    0       0       0    1    0   0      0    0     0     ...       \n",
       "\n",
       "   wound  wrap  write  ye  yea  yellow  yesterday  yet  young  popularity  \n",
       "0      0     0      0   0    0       0          0    0      0           0  \n",
       "\n",
       "[1 rows x 647 columns]"
      ]
     },
     "execution_count": 515,
     "metadata": {},
     "output_type": "execute_result"
    }
   ],
   "source": [
    "df_test.head(1)"
   ]
  },
  {
   "cell_type": "code",
   "execution_count": 516,
   "metadata": {
    "collapsed": true
   },
   "outputs": [],
   "source": [
    "###Move the target column to the front of the table\n",
    "cols = df_test.columns.tolist()\n",
    "cols = cols[-1:] + cols[:-1]\n",
    "df_test = df_test[cols]"
   ]
  },
  {
   "cell_type": "code",
   "execution_count": 517,
   "metadata": {
    "collapsed": false
   },
   "outputs": [
    {
     "data": {
      "text/plain": [
       "(2350, 647)"
      ]
     },
     "execution_count": 517,
     "metadata": {},
     "output_type": "execute_result"
    }
   ],
   "source": [
    "df_test.shape"
   ]
  },
  {
   "cell_type": "code",
   "execution_count": 518,
   "metadata": {
    "collapsed": false
   },
   "outputs": [
    {
     "data": {
      "text/html": [
       "<div>\n",
       "<table border=\"1\" class=\"dataframe\">\n",
       "  <thead>\n",
       "    <tr style=\"text-align: right;\">\n",
       "      <th></th>\n",
       "      <th>popularity</th>\n",
       "      <th>across</th>\n",
       "      <th>act</th>\n",
       "      <th>action</th>\n",
       "      <th>afraid</th>\n",
       "      <th>age</th>\n",
       "      <th>ago</th>\n",
       "      <th>ah</th>\n",
       "      <th>ahead</th>\n",
       "      <th>air</th>\n",
       "      <th>...</th>\n",
       "      <th>worth</th>\n",
       "      <th>wound</th>\n",
       "      <th>wrap</th>\n",
       "      <th>write</th>\n",
       "      <th>ye</th>\n",
       "      <th>yea</th>\n",
       "      <th>yellow</th>\n",
       "      <th>yesterday</th>\n",
       "      <th>yet</th>\n",
       "      <th>young</th>\n",
       "    </tr>\n",
       "  </thead>\n",
       "  <tbody>\n",
       "    <tr>\n",
       "      <th>0</th>\n",
       "      <td>0</td>\n",
       "      <td>0</td>\n",
       "      <td>0</td>\n",
       "      <td>0</td>\n",
       "      <td>0</td>\n",
       "      <td>1</td>\n",
       "      <td>0</td>\n",
       "      <td>0</td>\n",
       "      <td>0</td>\n",
       "      <td>0</td>\n",
       "      <td>...</td>\n",
       "      <td>0</td>\n",
       "      <td>0</td>\n",
       "      <td>0</td>\n",
       "      <td>0</td>\n",
       "      <td>0</td>\n",
       "      <td>0</td>\n",
       "      <td>0</td>\n",
       "      <td>0</td>\n",
       "      <td>0</td>\n",
       "      <td>0</td>\n",
       "    </tr>\n",
       "  </tbody>\n",
       "</table>\n",
       "<p>1 rows × 647 columns</p>\n",
       "</div>"
      ],
      "text/plain": [
       "   popularity  across  act  action  afraid  age  ago  ah  ahead  air  ...    \\\n",
       "0           0       0    0       0       0    1    0   0      0    0  ...     \n",
       "\n",
       "   worth  wound  wrap  write  ye  yea  yellow  yesterday  yet  young  \n",
       "0      0      0     0      0   0    0       0          0    0      0  \n",
       "\n",
       "[1 rows x 647 columns]"
      ]
     },
     "execution_count": 518,
     "metadata": {},
     "output_type": "execute_result"
    }
   ],
   "source": [
    "df_test.head(1)"
   ]
  },
  {
   "cell_type": "code",
   "execution_count": null,
   "metadata": {
    "collapsed": true
   },
   "outputs": [],
   "source": []
  },
  {
   "cell_type": "code",
   "execution_count": null,
   "metadata": {
    "collapsed": true
   },
   "outputs": [],
   "source": []
  },
  {
   "cell_type": "code",
   "execution_count": null,
   "metadata": {
    "collapsed": true
   },
   "outputs": [],
   "source": []
  },
  {
   "cell_type": "markdown",
   "metadata": {},
   "source": [
    "Modeling Lyric data for popularity with logistic regression and KNN (using a gridsearch)"
   ]
  },
  {
   "cell_type": "code",
   "execution_count": 540,
   "metadata": {
    "collapsed": false
   },
   "outputs": [],
   "source": [
    "###Start to model the data frame for familiarity based on a logistic regression\n",
    "y = df_test['popularity'].values\n",
    "X_tfidf = x_df_tfidf\n",
    "X_count = df_test.iloc[:,1:]"
   ]
  },
  {
   "cell_type": "code",
   "execution_count": 520,
   "metadata": {
    "collapsed": true
   },
   "outputs": [],
   "source": [
    "ss = StandardScaler()\n",
    "ridge_lr = LogisticRegressionCV(Cs=100, penalty='l2', cv=5)\n",
    "lasso_lr = LogisticRegressionCV(Cs=100, penalty='l1', solver='liblinear', cv=5)\n",
    "#lr = LogisticRegression()"
   ]
  },
  {
   "cell_type": "code",
   "execution_count": 541,
   "metadata": {
    "collapsed": false
   },
   "outputs": [],
   "source": [
    "Xn_lasso_tfidf = ss.fit_transform(X_tfidf)\n",
    "Xn_lasso_count = ss.fit_transform(X_count)\n",
    "Xn_ridge_tfidf = ss.fit_transform(X_tfidf)\n",
    "Xn_ridge_count = ss.fit_transform(X_count)"
   ]
  },
  {
   "cell_type": "code",
   "execution_count": 542,
   "metadata": {
    "collapsed": false
   },
   "outputs": [],
   "source": [
    "X_train_l_tfidf, X_test_l_tfidf, y_train_l_tfidf, y_test_l_tfidf = train_test_split(Xn_lasso_tfidf, y, test_size=0.33)\n",
    "X_train_l_count, X_test_l_count, y_train_l_count, y_test_l_count = train_test_split(Xn_lasso_count, y, test_size=0.33)\n",
    "X_train_r_tfidf, X_test_r_tfidf, y_train_r_tfidf, y_test_r_tfidf = train_test_split(Xn_ridge_tfidf, y, test_size=0.33)\n",
    "X_train_r_count, X_test_r_count, y_train_r_count, y_test_r_count = train_test_split(Xn_ridge_count, y, test_size=0.33)"
   ]
  },
  {
   "cell_type": "code",
   "execution_count": 543,
   "metadata": {
    "collapsed": false,
    "scrolled": true
   },
   "outputs": [
    {
     "data": {
      "text/plain": [
       "LogisticRegressionCV(Cs=100, class_weight=None, cv=5, dual=False,\n",
       "           fit_intercept=True, intercept_scaling=1.0, max_iter=100,\n",
       "           multi_class='ovr', n_jobs=1, penalty='l1', random_state=None,\n",
       "           refit=True, scoring=None, solver='liblinear', tol=0.0001,\n",
       "           verbose=0)"
      ]
     },
     "execution_count": 543,
     "metadata": {},
     "output_type": "execute_result"
    }
   ],
   "source": [
    "#Fit the logestic model based on the parameters - for familiarity\n",
    "lasso_lr.fit(X_train_l_tfidf, y_train_l_tfidf)"
   ]
  },
  {
   "cell_type": "code",
   "execution_count": 544,
   "metadata": {
    "collapsed": false
   },
   "outputs": [
    {
     "data": {
      "text/plain": [
       "LogisticRegressionCV(Cs=100, class_weight=None, cv=5, dual=False,\n",
       "           fit_intercept=True, intercept_scaling=1.0, max_iter=100,\n",
       "           multi_class='ovr', n_jobs=1, penalty='l1', random_state=None,\n",
       "           refit=True, scoring=None, solver='liblinear', tol=0.0001,\n",
       "           verbose=0)"
      ]
     },
     "execution_count": 544,
     "metadata": {},
     "output_type": "execute_result"
    }
   ],
   "source": [
    "lasso_lr.fit(X_train_l_count, y_train_l_count)"
   ]
  },
  {
   "cell_type": "code",
   "execution_count": null,
   "metadata": {
    "collapsed": true
   },
   "outputs": [],
   "source": []
  },
  {
   "cell_type": "code",
   "execution_count": 525,
   "metadata": {
    "collapsed": false
   },
   "outputs": [
    {
     "data": {
      "text/plain": [
       "array([[ 0.,  0.,  0.,  0.,  0.,  0.,  0.,  0.,  0.,  0.,  0.,  0.,  0.,\n",
       "         0.,  0.,  0.,  0.,  0.,  0.,  0.,  0.,  0.,  0.,  0.,  0.,  0.,\n",
       "         0.,  0.,  0.,  0.,  0.,  0.,  0.,  0.,  0.,  0.,  0.,  0.,  0.,\n",
       "         0.,  0.,  0.,  0.,  0.,  0.,  0.,  0.,  0.,  0.,  0.,  0.,  0.,\n",
       "         0.,  0.,  0.,  0.,  0.,  0.,  0.,  0.,  0.,  0.,  0.,  0.,  0.,\n",
       "         0.,  0.,  0.,  0.,  0.,  0.,  0.,  0.,  0.,  0.,  0.,  0.,  0.,\n",
       "         0.,  0.,  0.,  0.,  0.,  0.,  0.,  0.,  0.,  0.,  0.,  0.,  0.,\n",
       "         0.,  0.,  0.,  0.,  0.,  0.,  0.,  0.,  0.,  0.,  0.,  0.,  0.,\n",
       "         0.,  0.,  0.,  0.,  0.,  0.,  0.,  0.,  0.,  0.,  0.,  0.,  0.,\n",
       "         0.,  0.,  0.,  0.,  0.,  0.,  0.,  0.,  0.,  0.,  0.,  0.,  0.,\n",
       "         0.,  0.,  0.,  0.,  0.,  0.,  0.,  0.,  0.,  0.,  0.,  0.,  0.,\n",
       "         0.,  0.,  0.,  0.,  0.,  0.,  0.,  0.,  0.,  0.,  0.,  0.,  0.,\n",
       "         0.,  0.,  0.,  0.,  0.,  0.,  0.,  0.,  0.,  0.,  0.,  0.,  0.,\n",
       "         0.,  0.,  0.,  0.,  0.,  0.,  0.,  0.,  0.,  0.,  0.,  0.,  0.,\n",
       "         0.,  0.,  0.,  0.,  0.,  0.,  0.,  0.,  0.,  0.,  0.,  0.,  0.,\n",
       "         0.,  0.,  0.,  0.,  0.,  0.,  0.,  0.,  0.,  0.,  0.,  0.,  0.,\n",
       "         0.,  0.,  0.,  0.,  0.,  0.,  0.,  0.,  0.,  0.,  0.,  0.,  0.,\n",
       "         0.,  0.,  0.,  0.,  0.,  0.,  0.,  0.,  0.,  0.,  0.,  0.,  0.,\n",
       "         0.,  0.,  0.,  0.,  0.,  0.,  0.,  0.,  0.,  0.,  0.,  0.,  0.,\n",
       "         0.,  0.,  0.,  0.,  0.,  0.,  0.,  0.,  0.,  0.,  0.,  0.,  0.,\n",
       "         0.,  0.,  0.,  0.,  0.,  0.,  0.,  0.,  0.,  0.,  0.,  0.,  0.,\n",
       "         0.,  0.,  0.,  0.,  0.,  0.,  0.,  0.,  0.,  0.,  0.,  0.,  0.,\n",
       "         0.,  0.,  0.,  0.,  0.,  0.,  0.,  0.,  0.,  0.,  0.,  0.,  0.,\n",
       "         0.,  0.,  0.,  0.,  0.,  0.,  0.,  0.,  0.,  0.,  0.,  0.,  0.,\n",
       "         0.,  0.,  0.,  0.,  0.,  0.,  0.,  0.,  0.,  0.,  0.,  0.,  0.,\n",
       "         0.,  0.,  0.,  0.,  0.,  0.,  0.,  0.,  0.,  0.,  0.,  0.,  0.,\n",
       "         0.,  0.,  0.,  0.,  0.,  0.,  0.,  0.,  0.,  0.,  0.,  0.,  0.,\n",
       "         0.,  0.,  0.,  0.,  0.,  0.,  0.,  0.,  0.,  0.,  0.,  0.,  0.,\n",
       "         0.,  0.,  0.,  0.,  0.,  0.,  0.,  0.,  0.,  0.,  0.,  0.,  0.,\n",
       "         0.,  0.,  0.,  0.,  0.,  0.,  0.,  0.,  0.,  0.,  0.,  0.,  0.,\n",
       "         0.,  0.,  0.,  0.,  0.,  0.,  0.,  0.,  0.,  0.,  0.,  0.,  0.,\n",
       "         0.,  0.,  0.,  0.,  0.,  0.,  0.,  0.,  0.,  0.,  0.,  0.,  0.,\n",
       "         0.,  0.,  0.,  0.,  0.,  0.,  0.,  0.,  0.,  0.,  0.,  0.,  0.,\n",
       "         0.,  0.,  0.,  0.,  0.,  0.,  0.,  0.,  0.,  0.,  0.,  0.,  0.,\n",
       "         0.,  0.,  0.,  0.,  0.,  0.,  0.,  0.,  0.,  0.,  0.,  0.,  0.,\n",
       "         0.,  0.,  0.,  0.,  0.,  0.,  0.,  0.,  0.,  0.,  0.,  0.,  0.,\n",
       "         0.,  0.,  0.,  0.,  0.,  0.,  0.,  0.,  0.,  0.,  0.,  0.,  0.,\n",
       "         0.,  0.,  0.,  0.,  0.,  0.,  0.,  0.,  0.,  0.,  0.,  0.,  0.,\n",
       "         0.,  0.,  0.,  0.,  0.,  0.,  0.,  0.,  0.,  0.,  0.,  0.,  0.,\n",
       "         0.,  0.,  0.,  0.,  0.,  0.,  0.,  0.,  0.,  0.,  0.,  0.,  0.,\n",
       "         0.,  0.,  0.,  0.,  0.,  0.,  0.,  0.,  0.,  0.,  0.,  0.,  0.,\n",
       "         0.,  0.,  0.,  0.,  0.,  0.,  0.,  0.,  0.,  0.,  0.,  0.,  0.,\n",
       "         0.,  0.,  0.,  0.,  0.,  0.,  0.,  0.,  0.,  0.,  0.,  0.,  0.,\n",
       "         0.,  0.,  0.,  0.,  0.,  0.,  0.,  0.,  0.,  0.,  0.,  0.,  0.,\n",
       "         0.,  0.,  0.,  0.,  0.,  0.,  0.,  0.,  0.,  0.,  0.,  0.,  0.,\n",
       "         0.,  0.,  0.,  0.,  0.,  0.,  0.,  0.,  0.,  0.,  0.,  0.,  0.,\n",
       "         0.,  0.,  0.,  0.,  0.,  0.,  0.,  0.,  0.,  0.,  0.,  0.,  0.,\n",
       "         0.,  0.,  0.,  0.,  0.,  0.,  0.,  0.,  0.,  0.,  0.,  0.,  0.,\n",
       "         0.,  0.,  0.,  0.,  0.,  0.,  0.,  0.,  0.,  0.,  0.,  0.,  0.,\n",
       "         0.,  0.,  0.,  0.,  0.,  0.,  0.,  0.,  0.]])"
      ]
     },
     "execution_count": 525,
     "metadata": {},
     "output_type": "execute_result"
    }
   ],
   "source": [
    "lasso_lr.coef_"
   ]
  },
  {
   "cell_type": "code",
   "execution_count": 527,
   "metadata": {
    "collapsed": false
   },
   "outputs": [
    {
     "name": "stdout",
     "output_type": "stream",
     "text": [
      "0.868556701031\n",
      "0.868556701031\n"
     ]
    }
   ],
   "source": [
    "print 1-np.mean(y_test)\n",
    "print lasso_lr.score(X_test, y_test)"
   ]
  },
  {
   "cell_type": "code",
   "execution_count": 530,
   "metadata": {
    "collapsed": false
   },
   "outputs": [
    {
     "data": {
      "image/png": "[encoded data removed]",
      "text/plain": [
       "<matplotlib.figure.Figure at 0x30d7f0c10>"
      ]
     },
     "metadata": {
      "image/png": {
       "height": 484,
       "width": 627
      }
     },
     "output_type": "display_data"
    }
   ],
   "source": [
    "from sklearn.metrics import roc_curve, auc\n",
    "\n",
    "# Get out the predicted probabilities for the X observation matrix\n",
    "y_pp = lasso_lr.predict_proba(X_test)\n",
    "\n",
    "# roc_curve returns the false positive rate and true positive rates as the threshold changes\n",
    "# takes in the y and the predicted probabilities of the positive class from your model.\n",
    "fpr, tpr, _ = roc_curve(y_test, y_pp[:, 1])\n",
    "roc_auc = auc(fpr, tpr)\n",
    "\n",
    "plt.figure(figsize=[7,5])\n",
    "plt.plot(fpr, tpr, label='ROC curve (area = %0.2f)' % roc_auc, linewidth=4)\n",
    "plt.plot([0, 1], [0, 1], 'k--', linewidth=4)\n",
    "plt.xlim([0.0, 1.0])\n",
    "plt.ylim([0.0, 1.05])\n",
    "plt.xlabel('False Positive Rate', fontsize=16)\n",
    "plt.ylabel('True Positive Rate', fontsize=16)\n",
    "plt.title('Receiver operating characteristic curve', fontsize=20)\n",
    "plt.legend(loc=\"lower right\")\n",
    "plt.show()"
   ]
  },
  {
   "cell_type": "code",
   "execution_count": 316,
   "metadata": {
    "collapsed": false
   },
   "outputs": [],
   "source": [
    "coefs = pd.DataFrame({'coef':lrcv.coef_[0], 'abs_coef':np.abs(lrcv.coef_[0]),\n",
    "                      'variable':X.columns})\n",
    "coefs.sort_values('coef', ascending=False, inplace=True)"
   ]
  },
  {
   "cell_type": "code",
   "execution_count": 317,
   "metadata": {
    "collapsed": false
   },
   "outputs": [
    {
     "data": {
      "text/html": [
       "<div>\n",
       "<table border=\"1\" class=\"dataframe\">\n",
       "  <thead>\n",
       "    <tr style=\"text-align: right;\">\n",
       "      <th></th>\n",
       "      <th>abs_coef</th>\n",
       "      <th>coef</th>\n",
       "      <th>variable</th>\n",
       "    </tr>\n",
       "  </thead>\n",
       "  <tbody>\n",
       "    <tr>\n",
       "      <th>0</th>\n",
       "      <td>0.0</td>\n",
       "      <td>0.0</td>\n",
       "      <td>ab</td>\n",
       "    </tr>\n",
       "    <tr>\n",
       "      <th>1640</th>\n",
       "      <td>0.0</td>\n",
       "      <td>0.0</td>\n",
       "      <td>read</td>\n",
       "    </tr>\n",
       "    <tr>\n",
       "      <th>1633</th>\n",
       "      <td>0.0</td>\n",
       "      <td>0.0</td>\n",
       "      <td>rave</td>\n",
       "    </tr>\n",
       "    <tr>\n",
       "      <th>1634</th>\n",
       "      <td>0.0</td>\n",
       "      <td>0.0</td>\n",
       "      <td>raven</td>\n",
       "    </tr>\n",
       "    <tr>\n",
       "      <th>1635</th>\n",
       "      <td>0.0</td>\n",
       "      <td>0.0</td>\n",
       "      <td>raw</td>\n",
       "    </tr>\n",
       "  </tbody>\n",
       "</table>\n",
       "</div>"
      ],
      "text/plain": [
       "      abs_coef  coef variable\n",
       "0          0.0   0.0       ab\n",
       "1640       0.0   0.0     read\n",
       "1633       0.0   0.0     rave\n",
       "1634       0.0   0.0    raven\n",
       "1635       0.0   0.0      raw"
      ]
     },
     "execution_count": 317,
     "metadata": {},
     "output_type": "execute_result"
    }
   ],
   "source": [
    "coefs.head()"
   ]
  },
  {
   "cell_type": "code",
   "execution_count": 319,
   "metadata": {
    "collapsed": false
   },
   "outputs": [
    {
     "data": {
      "text/html": [
       "<div>\n",
       "<table border=\"1\" class=\"dataframe\">\n",
       "  <thead>\n",
       "    <tr style=\"text-align: right;\">\n",
       "      <th></th>\n",
       "      <th>abs_coef</th>\n",
       "      <th>coef</th>\n",
       "      <th>variable</th>\n",
       "    </tr>\n",
       "  </thead>\n",
       "  <tbody>\n",
       "    <tr>\n",
       "      <th>819</th>\n",
       "      <td>0.0</td>\n",
       "      <td>0.0</td>\n",
       "      <td>forest</td>\n",
       "    </tr>\n",
       "    <tr>\n",
       "      <th>820</th>\n",
       "      <td>0.0</td>\n",
       "      <td>0.0</td>\n",
       "      <td>forget</td>\n",
       "    </tr>\n",
       "    <tr>\n",
       "      <th>821</th>\n",
       "      <td>0.0</td>\n",
       "      <td>0.0</td>\n",
       "      <td>forgiven</td>\n",
       "    </tr>\n",
       "    <tr>\n",
       "      <th>822</th>\n",
       "      <td>0.0</td>\n",
       "      <td>0.0</td>\n",
       "      <td>forgot</td>\n",
       "    </tr>\n",
       "    <tr>\n",
       "      <th>2454</th>\n",
       "      <td>0.0</td>\n",
       "      <td>0.0</td>\n",
       "      <td>zoo</td>\n",
       "    </tr>\n",
       "  </tbody>\n",
       "</table>\n",
       "</div>"
      ],
      "text/plain": [
       "      abs_coef  coef  variable\n",
       "819        0.0   0.0    forest\n",
       "820        0.0   0.0    forget\n",
       "821        0.0   0.0  forgiven\n",
       "822        0.0   0.0    forgot\n",
       "2454       0.0   0.0       zoo"
      ]
     },
     "execution_count": 319,
     "metadata": {},
     "output_type": "execute_result"
    }
   ],
   "source": [
    "coefs.tail()"
   ]
  },
  {
   "cell_type": "code",
   "execution_count": null,
   "metadata": {
    "collapsed": true
   },
   "outputs": [],
   "source": []
  }
 ],
 "metadata": {
  "anaconda-cloud": {},
  "kernelspec": {
   "display_name": "Python [conda env:dsi]",
   "language": "python",
   "name": "conda-env-dsi-py"
  },
  "language_info": {
   "codemirror_mode": {
    "name": "ipython",
    "version": 2
   },
   "file_extension": ".py",
   "mimetype": "text/x-python",
   "name": "python",
   "nbconvert_exporter": "python",
   "pygments_lexer": "ipython2",
   "version": "2.7.12"
  }
 },
 "nbformat": 4,
 "nbformat_minor": 1
}
