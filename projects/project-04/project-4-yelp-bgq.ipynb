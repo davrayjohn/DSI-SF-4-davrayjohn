{
 "cells": [
  {
   "cell_type": "markdown",
   "metadata": {},
   "source": [
    "<img src=\"http://imgur.com/1ZcRyrc.png\" style=\"float: left; margin: 15px; height: 80px\">\n",
    "\n",
    "# Project 4\n",
    "\n",
    "###  Big Query, SQL, Classification\n",
    "\n",
    "---\n",
    "\n",
    "### The Data\n",
    "\n",
    "There are 5 individual tables that have the information, contained in a Google BigQuery database.  The setup info for BigQuery is located on our DSI wiki.  You will have to query with SQL, the dataset in order to complete this project.\n",
    "\n",
    "The tables, with cooresonding attributes that exist are:\n",
    "\n",
    "### businesses\n",
    "- business_id: unique business identifier\n",
    "- name: name of the business\n",
    "- review_count: number of reviews per business\n",
    "- city: city business resides in\n",
    "- stars: average rating\n",
    "- categories: categories the business falls into (can be one or multiple)\n",
    "- latitude\n",
    "- longitude\n",
    "- neighborhoods: neighborhoods business belongs to\n",
    "- variable: \"property\" of the business (a tag)\n",
    "- value: True/False for the property\n",
    "\n",
    "### reviews\n",
    "- user_id: unique user identifier\n",
    "- review_id: unique review identifier\n",
    "- votes.cool: how many thought the review was \"cool\"\n",
    "- business_id: unique business id the review is for\n",
    "- votes.funny: how many thought the review was funny\n",
    "- stars: rating given\n",
    "- date: date of review\n",
    "- votes.useful: how many thought the review was useful\n",
    "- ... 100 columns of counts of most common 2 word phrases that appear in reviews in this review\n",
    "\n",
    "### users\n",
    "- yelping_since: signup date\n",
    "- compliments.plain: # of compliments \"plain\"\n",
    "- review_count: # of reviews:\n",
    "- compliments.cute: total # of compliments \"cute\"\n",
    "- compliments.writer: # of compliments \"writer\"\n",
    "- compliments.note: # of compliments \"note\" (not sure what this is)\n",
    "- compliments.hot: # of compliments \"hot\" (?)\n",
    "- compliments.cool: # of compliments \"cool\"\n",
    "- compliments.profile: # of compliments \"profile\"\n",
    "- average_stars: average rating\n",
    "- compliments.more: # of compliments \"more\"\n",
    "- elite: years considered \"elite\"\n",
    "- name: user's name\n",
    "- user_id: unique user id\n",
    "- votes.cool: # of votes \"cool\"\n",
    "- compliments.list: # of compliments \"list\"\n",
    "- votes.funny: # of compliments \"funny\"\n",
    "- compliments.photos: # of compliments \"photos\"\n",
    "- compliments.funny: # of compliments \"funny\"\n",
    "- votes.useful: # of votes \"useful\"\n",
    "\n",
    "### checkins\n",
    "- business_id: unique business identifier\n",
    "- variable: day-time identifier of checkins (0-0 is Sunday 0:00 - 1:00am,  for example)\n",
    "- value: # of checkins at that time\n",
    "\n",
    "### tips\n",
    "- user_id: unique user identifier\n",
    "- business_id: unique business identifier\n",
    "- likes: likes that the tip has\n",
    "- date: date of tip\n",
    "- ... 100 columns of counts of most common 2 word phrases that appear in tips in this tip\n",
    "\n",
    "\n",
    "The reviews and tips datasets in particular have parsed \"NLP\" columns with counts of 2-word phrases in that review or tip (a \"tip\", it seems, is some kind of smaller review).\n",
    "\n",
    "The user dataset has a lot of columns of counts of different compliments and votes. We're not sure whether the compliments or votes are by the user or for the user.\n",
    "\n",
    "Full details about this dataset area located here:\n",
    "https://bigquery.cloud.google.com/dataset/bigquery-dsi-dave:yelp_arizona\n",
    "\n",
    "---\n",
    "\n",
    "\n",
    "If you look at the website, or the full data, you'll see I have removed pieces of the data and cut it down quite a bit. This is to simplify it for this project. Specifically, business are limited to be in these cities:\n",
    "\n",
    "- Phoenix\n",
    "- Surprise\n",
    "- Las Vegas\n",
    "- Waterloo\n",
    "\n",
    "Apparently there is a city called \"Surprise\" in Arizona. \n",
    "\n",
    "Businesses are also restricted to at least be in one of the following categories, because we thought the mix of them was funny:\n",
    "\n",
    "- Airports\n",
    "- Breakfast & Brunch\n",
    "- Bubble Tea\n",
    "- Burgers\n",
    "- Bars\n",
    "- Bakeries\n",
    "- Breweries\n",
    "- Cafes\n",
    "- Candy Stores\n",
    "- Comedy Clubs\n",
    "- Courthouses\n",
    "- Dance Clubs\n",
    "- Fast Food\n",
    "- Museums\n",
    "- Tattoo\n",
    "- Vape Shops\n",
    "- Yoga\n",
    "    \n",
    "---\n",
    "\n",
    "### Project requirements\n",
    "\n",
    "**You will be performing 4 different sections of analysis, like in the last project.**\n",
    "\n",
    "Remember that classification targets are categorical and regression targets are continuous variables."
   ]
  },
  {
   "cell_type": "markdown",
   "metadata": {},
   "source": [
    "<img src=\"http://imgur.com/l5NasQj.png\" style=\"float: left; margin: 25px 15px 0px 0px; height: 25px\">\n",
    "\n",
    "## 1. Load your dataset(s) / setup / configure GBQ connection\n",
    "\n",
    "---\n",
    "\n",
    "Information about this dataset is located here:\n",
    "\n",
    "\n",
    "**If you haven't done so, setup a project with the Google developer portal, following the directions here: [Getting Started with BigQuery](https://github.com/ga-students/DSI-SF-4/wiki/Getting-Started-with-BigQuery)**"
   ]
  },
  {
   "cell_type": "code",
   "execution_count": 934,
   "metadata": {
    "collapsed": true
   },
   "outputs": [],
   "source": [
    "import matplotlib.pyplot as plt\n",
    "import numpy as np\n",
    "import pandas as pd\n",
    "import seaborn as sns\n",
    "import scipy.stats as stats\n",
    "\n",
    "%matplotlib inline"
   ]
  },
  {
   "cell_type": "code",
   "execution_count": 935,
   "metadata": {
    "collapsed": false,
    "scrolled": false
   },
   "outputs": [
    {
     "name": "stdout",
     "output_type": "stream",
     "text": [
      "Requesting query... ok.\n",
      "Query running...\n",
      "Query done.\n",
      "Cache hit.\n",
      "\n",
      "Retrieving results...\n",
      "Got 12000 rows.\n",
      "\n",
      "Total time taken 3.64 s.\n",
      "Finished at 2016-12-20 09:49:11.\n",
      "Requesting query... ok.\n",
      "Query running...\n",
      "Query done.\n",
      "Cache hit.\n",
      "\n",
      "Retrieving results...\n",
      "Got 12000 rows.\n",
      "\n",
      "Total time taken 2.34 s.\n",
      "Finished at 2016-12-20 09:49:14.\n",
      "Requesting query... ok.\n",
      "Query running...\n",
      "Query done.\n",
      "Cache hit.\n",
      "\n",
      "Retrieving results...\n",
      "  Got page: 1; 27.0% done. Elapsed 7.49 s.\n",
      "  Got page: 2; 54.0% done. Elapsed 13.18 s.\n",
      "  Got page: 3; 81.0% done. Elapsed 18.65 s.\n",
      "  Got page: 4; 100.0% done. Elapsed 22.53 s.\n",
      "Got 12000 rows.\n",
      "\n",
      "Total time taken 26.21 s.\n",
      "Finished at 2016-12-20 09:49:40.\n",
      "Requesting query... ok.\n",
      "Query running...\n",
      "Query done.\n",
      "Cache hit.\n",
      "\n",
      "Retrieving results...\n",
      "  Got page: 1; 28.0% done. Elapsed 7.92 s.\n",
      "  Got page: 2; 56.0% done. Elapsed 12.85 s.\n",
      "  Got page: 3; 84.0% done. Elapsed 18.32 s.\n",
      "  Got page: 4; 100.0% done. Elapsed 21.33 s.\n",
      "Got 12000 rows.\n",
      "\n",
      "Total time taken 24.68 s.\n",
      "Finished at 2016-12-20 09:50:05.\n",
      "Requesting query... ok.\n",
      "Query running...\n",
      "Query done.\n",
      "Cache hit.\n",
      "\n",
      "Retrieving results...\n",
      "Got 12000 rows.\n",
      "\n",
      "Total time taken 5.37 s.\n",
      "Finished at 2016-12-20 09:50:10.\n"
     ]
    }
   ],
   "source": [
    "project_id = \"bigquery-dsi-davis\"\n",
    "\n",
    "sql_biz = \"\"\"\n",
    "SELECT * FROM [bigquery-dsi-dave:yelp_arizona.businesses] \n",
    "LIMIT 12000\n",
    "\"\"\"\n",
    "\n",
    "sql_checks = \"\"\"\n",
    "SELECT * FROM [bigquery-dsi-dave:yelp_arizona.checkins] \n",
    "LIMIT 12000\n",
    "\"\"\"\n",
    "\n",
    "sql_revs = \"\"\"\n",
    "SELECT * FROM [bigquery-dsi-dave:yelp_arizona.reviews] \n",
    "LIMIT 12000\n",
    "\"\"\"\n",
    "\n",
    "sql_tips = \"\"\"\n",
    "SELECT * FROM [bigquery-dsi-dave:yelp_arizona.tips] \n",
    "LIMIT 12000\n",
    "\"\"\"\n",
    "\n",
    "sql_users = \"\"\"\n",
    "SELECT * FROM [bigquery-dsi-dave:yelp_arizona.users] \n",
    "LIMIT 12000\n",
    "\"\"\"\n",
    "\n",
    "df_biz = pd.read_gbq(sql_biz, project_id=project_id)\n",
    "df_checks = pd.read_gbq(sql_checks, project_id=project_id)\n",
    "df_revs = pd.read_gbq(sql_revs, project_id=project_id)\n",
    "df_tips = pd.read_gbq(sql_tips, project_id=project_id)\n",
    "df_users = pd.read_gbq(sql_users, project_id=project_id)"
   ]
  },
  {
   "cell_type": "code",
   "execution_count": 936,
   "metadata": {
    "collapsed": false
   },
   "outputs": [
    {
     "name": "stdout",
     "output_type": "stream",
     "text": [
      "(12000, 11) (12000, 3) (12000, 108) (12000, 104) (12000, 21)\n"
     ]
    }
   ],
   "source": [
    "print df_biz.shape, df_checks.shape, df_revs.shape, df_tips.shape, df_users.shape"
   ]
  },
  {
   "cell_type": "code",
   "execution_count": 937,
   "metadata": {
    "collapsed": false
   },
   "outputs": [
    {
     "data": {
      "text/html": [
       "<div>\n",
       "<table border=\"1\" class=\"dataframe\">\n",
       "  <thead>\n",
       "    <tr style=\"text-align: right;\">\n",
       "      <th></th>\n",
       "      <th>user_id</th>\n",
       "      <th>review_id</th>\n",
       "      <th>votes_cool</th>\n",
       "      <th>business_id</th>\n",
       "      <th>votes_funny</th>\n",
       "      <th>stars</th>\n",
       "      <th>date</th>\n",
       "      <th>votes_useful</th>\n",
       "      <th>minutes_10</th>\n",
       "      <th>minutes_15</th>\n",
       "      <th>...</th>\n",
       "      <th>service_great</th>\n",
       "      <th>staff_friendly</th>\n",
       "      <th>super_friendly</th>\n",
       "      <th>sweet_potato</th>\n",
       "      <th>tasted_like</th>\n",
       "      <th>time_vegas</th>\n",
       "      <th>try_place</th>\n",
       "      <th>ve_seen</th>\n",
       "      <th>ve_tried</th>\n",
       "      <th>wait_staff</th>\n",
       "    </tr>\n",
       "  </thead>\n",
       "  <tbody>\n",
       "    <tr>\n",
       "      <th>0</th>\n",
       "      <td>fPHLPrymsyb6WSFFKoMrTQ</td>\n",
       "      <td>3vX3VkmLV1SGSFEwzJbCqg</td>\n",
       "      <td>1</td>\n",
       "      <td>t1sCvl0nSbWeRj0ZgsolRA</td>\n",
       "      <td>2</td>\n",
       "      <td>4</td>\n",
       "      <td>2010-12-07</td>\n",
       "      <td>1</td>\n",
       "      <td>0</td>\n",
       "      <td>0</td>\n",
       "      <td>...</td>\n",
       "      <td>0</td>\n",
       "      <td>0</td>\n",
       "      <td>0</td>\n",
       "      <td>0</td>\n",
       "      <td>0</td>\n",
       "      <td>0</td>\n",
       "      <td>0</td>\n",
       "      <td>0</td>\n",
       "      <td>0</td>\n",
       "      <td>0</td>\n",
       "    </tr>\n",
       "    <tr>\n",
       "      <th>1</th>\n",
       "      <td>tbItoBqYw5ANjrRVsyWCdA</td>\n",
       "      <td>6rV3DZKmIRcTVpKJbCZCBg</td>\n",
       "      <td>0</td>\n",
       "      <td>4bEjOyTaDG24SY5TxsaUNQ</td>\n",
       "      <td>0</td>\n",
       "      <td>4</td>\n",
       "      <td>2010-03-29</td>\n",
       "      <td>1</td>\n",
       "      <td>0</td>\n",
       "      <td>0</td>\n",
       "      <td>...</td>\n",
       "      <td>0</td>\n",
       "      <td>0</td>\n",
       "      <td>0</td>\n",
       "      <td>0</td>\n",
       "      <td>0</td>\n",
       "      <td>0</td>\n",
       "      <td>0</td>\n",
       "      <td>0</td>\n",
       "      <td>0</td>\n",
       "      <td>0</td>\n",
       "    </tr>\n",
       "    <tr>\n",
       "      <th>2</th>\n",
       "      <td>6eEfoYQRwlrLcsBVWxeCfg</td>\n",
       "      <td>rGxZ4Uq8ihaCHT28LziNMw</td>\n",
       "      <td>0</td>\n",
       "      <td>4bEjOyTaDG24SY5TxsaUNQ</td>\n",
       "      <td>1</td>\n",
       "      <td>4</td>\n",
       "      <td>2013-04-14</td>\n",
       "      <td>1</td>\n",
       "      <td>0</td>\n",
       "      <td>0</td>\n",
       "      <td>...</td>\n",
       "      <td>0</td>\n",
       "      <td>0</td>\n",
       "      <td>0</td>\n",
       "      <td>0</td>\n",
       "      <td>0</td>\n",
       "      <td>0</td>\n",
       "      <td>0</td>\n",
       "      <td>0</td>\n",
       "      <td>0</td>\n",
       "      <td>0</td>\n",
       "    </tr>\n",
       "    <tr>\n",
       "      <th>3</th>\n",
       "      <td>KQGdMxKtRtIVs1WGRkA1VQ</td>\n",
       "      <td>Puaz1nM7Jlq8GrY4DBt3-g</td>\n",
       "      <td>1</td>\n",
       "      <td>4bEjOyTaDG24SY5TxsaUNQ</td>\n",
       "      <td>1</td>\n",
       "      <td>4</td>\n",
       "      <td>2013-09-07</td>\n",
       "      <td>1</td>\n",
       "      <td>0</td>\n",
       "      <td>0</td>\n",
       "      <td>...</td>\n",
       "      <td>0</td>\n",
       "      <td>0</td>\n",
       "      <td>0</td>\n",
       "      <td>0</td>\n",
       "      <td>0</td>\n",
       "      <td>0</td>\n",
       "      <td>0</td>\n",
       "      <td>0</td>\n",
       "      <td>0</td>\n",
       "      <td>0</td>\n",
       "    </tr>\n",
       "    <tr>\n",
       "      <th>4</th>\n",
       "      <td>H1bnxc4KqxQ0RNtn8kyS1A</td>\n",
       "      <td>bg9TTcGaV992e1GUG32law</td>\n",
       "      <td>0</td>\n",
       "      <td>4bEjOyTaDG24SY5TxsaUNQ</td>\n",
       "      <td>0</td>\n",
       "      <td>4</td>\n",
       "      <td>2013-09-30</td>\n",
       "      <td>1</td>\n",
       "      <td>0</td>\n",
       "      <td>0</td>\n",
       "      <td>...</td>\n",
       "      <td>0</td>\n",
       "      <td>0</td>\n",
       "      <td>0</td>\n",
       "      <td>0</td>\n",
       "      <td>0</td>\n",
       "      <td>0</td>\n",
       "      <td>0</td>\n",
       "      <td>0</td>\n",
       "      <td>0</td>\n",
       "      <td>0</td>\n",
       "    </tr>\n",
       "  </tbody>\n",
       "</table>\n",
       "<p>5 rows × 108 columns</p>\n",
       "</div>"
      ],
      "text/plain": [
       "                  user_id               review_id  votes_cool  \\\n",
       "0  fPHLPrymsyb6WSFFKoMrTQ  3vX3VkmLV1SGSFEwzJbCqg           1   \n",
       "1  tbItoBqYw5ANjrRVsyWCdA  6rV3DZKmIRcTVpKJbCZCBg           0   \n",
       "2  6eEfoYQRwlrLcsBVWxeCfg  rGxZ4Uq8ihaCHT28LziNMw           0   \n",
       "3  KQGdMxKtRtIVs1WGRkA1VQ  Puaz1nM7Jlq8GrY4DBt3-g           1   \n",
       "4  H1bnxc4KqxQ0RNtn8kyS1A  bg9TTcGaV992e1GUG32law           0   \n",
       "\n",
       "              business_id  votes_funny stars        date  votes_useful  \\\n",
       "0  t1sCvl0nSbWeRj0ZgsolRA            2     4  2010-12-07             1   \n",
       "1  4bEjOyTaDG24SY5TxsaUNQ            0     4  2010-03-29             1   \n",
       "2  4bEjOyTaDG24SY5TxsaUNQ            1     4  2013-04-14             1   \n",
       "3  4bEjOyTaDG24SY5TxsaUNQ            1     4  2013-09-07             1   \n",
       "4  4bEjOyTaDG24SY5TxsaUNQ            0     4  2013-09-30             1   \n",
       "\n",
       "   minutes_10  minutes_15     ...      service_great staff_friendly  \\\n",
       "0           0           0     ...                  0              0   \n",
       "1           0           0     ...                  0              0   \n",
       "2           0           0     ...                  0              0   \n",
       "3           0           0     ...                  0              0   \n",
       "4           0           0     ...                  0              0   \n",
       "\n",
       "   super_friendly  sweet_potato  tasted_like  time_vegas  try_place  ve_seen  \\\n",
       "0               0             0            0           0          0        0   \n",
       "1               0             0            0           0          0        0   \n",
       "2               0             0            0           0          0        0   \n",
       "3               0             0            0           0          0        0   \n",
       "4               0             0            0           0          0        0   \n",
       "\n",
       "   ve_tried  wait_staff  \n",
       "0         0           0  \n",
       "1         0           0  \n",
       "2         0           0  \n",
       "3         0           0  \n",
       "4         0           0  \n",
       "\n",
       "[5 rows x 108 columns]"
      ]
     },
     "execution_count": 937,
     "metadata": {},
     "output_type": "execute_result"
    }
   ],
   "source": [
    "df_revs.head()"
   ]
  },
  {
   "cell_type": "markdown",
   "metadata": {},
   "source": [
    "<img src=\"http://imgur.com/l5NasQj.png\" style=\"float: left; margin: 25px 15px 0px 0px; height: 25px\">\n",
    "\n",
    "## 2. Constructing a \"profile\" for Las Vegas\n",
    "\n",
    "---\n",
    "\n",
    "Yelp is interested in building out what they are calling \"profiles\" for cities. They want you to start with just Las Vegas to see what a prototype of this would look like. Essentially, they want to know what makes Las Vegas distinct from the other four.\n",
    "\n",
    "Use the data you have to predict Las Vegas from the other variables you have. You should not be predicting the city from any kind of location data or other data perfectly associated with that city (or another city).\n",
    "\n",
    "You may use any classification algorithm you deem appropriate, or even multiple models. You should:\n",
    "\n",
    "1. Build at least one model predicting Las Vegas vs. the other cities.\n",
    "- Validate your model(s).\n",
    "- Interpret and visualize, in some way, the results.\n",
    "- Write up a \"profile\" for Las Vegas. This should be a writeup converting your findings from the model(s) into a human-readable description of the city.\n",
    "\n",
    "*Research location data to find the city targets.*"
   ]
  },
  {
   "cell_type": "code",
   "execution_count": 938,
   "metadata": {
    "collapsed": true
   },
   "outputs": [],
   "source": [
    "###From my results it looks like there are some determining coeficients that can predict the profile of Vegas\n",
    "###(minus the vegas specific ones). For example, if I was to start a restaurant in Vegas, I'd want a few things\n",
    "###that appear to be popular like \"Smoking\" and \"not great for kids\""
   ]
  },
  {
   "cell_type": "code",
   "execution_count": 939,
   "metadata": {
    "collapsed": false
   },
   "outputs": [],
   "source": [
    "#df_biz.head()\n",
    "#df_biz['neighborhoods'].unique()\n",
    "####remove location and city specific data\n",
    "df_biz.drop(['latitude','longitude','neighborhoods'], axis=1, inplace=True)"
   ]
  },
  {
   "cell_type": "code",
   "execution_count": 940,
   "metadata": {
    "collapsed": false
   },
   "outputs": [
    {
     "data": {
      "text/plain": [
       "(12000, 8)"
      ]
     },
     "execution_count": 940,
     "metadata": {},
     "output_type": "execute_result"
    }
   ],
   "source": [
    "df_biz.head()\n",
    "df_biz.shape"
   ]
  },
  {
   "cell_type": "code",
   "execution_count": 941,
   "metadata": {
    "collapsed": false
   },
   "outputs": [
    {
     "data": {
      "text/plain": [
       "open                                           330\n",
       "attributes.Accepts Credit Cards                316\n",
       "attributes.Price Range                         306\n",
       "attributes.Good For Groups                     272\n",
       "attributes.Parking.garage                      267\n",
       "attributes.Parking.street                      266\n",
       "attributes.Parking.valet                       266\n",
       "attributes.Parking.lot                         266\n",
       "attributes.Parking.validated                   266\n",
       "attributes.Outdoor Seating                     260\n",
       "attributes.Good for Kids                       244\n",
       "attributes.Alcohol                             242\n",
       "attributes.Has TV                              241\n",
       "attributes.Delivery                            232\n",
       "attributes.Take-out                            225\n",
       "attributes.Takes Reservations                  224\n",
       "attributes.Noise Level                         222\n",
       "attributes.Attire                              222\n",
       "attributes.Good For.brunch                     219\n",
       "attributes.Good For.dinner                     219\n",
       "attributes.Ambience.trendy                     219\n",
       "attributes.Ambience.upscale                    219\n",
       "attributes.Ambience.hipster                    219\n",
       "attributes.Ambience.casual                     218\n",
       "attributes.Good For.dessert                    218\n",
       "attributes.Good For.latenight                  218\n",
       "attributes.Ambience.romantic                   218\n",
       "attributes.Good For.breakfast                  218\n",
       "attributes.Ambience.classy                     218\n",
       "attributes.Ambience.touristy                   218\n",
       "                                              ... \n",
       "hours.Sunday.close                             163\n",
       "hours.Sunday.open                              163\n",
       "attributes.Wheelchair Accessible               154\n",
       "attributes.Drive-Thru                          104\n",
       "attributes.Happy Hour                           91\n",
       "attributes.Coat Check                           86\n",
       "attributes.Smoking                              85\n",
       "attributes.Good For Dancing                     80\n",
       "attributes.Music.dj                             71\n",
       "attributes.Music.jukebox                        49\n",
       "attributes.Music.live                           49\n",
       "attributes.Music.video                          45\n",
       "attributes.Dogs Allowed                         33\n",
       "attributes.Music.karaoke                        22\n",
       "attributes.Music.background_music               21\n",
       "attributes.BYOB/Corkage                         15\n",
       "attributes.BYOB                                 12\n",
       "attributes.Ages Allowed                          9\n",
       "attributes.By Appointment Only                   8\n",
       "attributes.Open 24 Hours                         6\n",
       "attributes.Corkage                               6\n",
       "attributes.Order at Counter                      6\n",
       "attributes.Dietary Restrictions.kosher           1\n",
       "attributes.Dietary Restrictions.vegetarian       1\n",
       "attributes.Dietary Restrictions.dairy-free       1\n",
       "attributes.Dietary Restrictions.gluten-free      1\n",
       "attributes.Dietary Restrictions.halal            1\n",
       "attributes.Dietary Restrictions.soy-free         1\n",
       "attributes.Accepts Insurance                     1\n",
       "attributes.Dietary Restrictions.vegan            1\n",
       "Name: variable, dtype: int64"
      ]
     },
     "execution_count": 941,
     "metadata": {},
     "output_type": "execute_result"
    }
   ],
   "source": [
    "df_biz['name'].unique()\n",
    "df_biz['city'].unique()\n",
    "df_biz['variable'].unique()\n",
    "sorted(df_biz['variable'].unique())\n",
    "df_biz['variable'].value_counts()"
   ]
  },
  {
   "cell_type": "code",
   "execution_count": 942,
   "metadata": {
    "collapsed": false,
    "scrolled": true
   },
   "outputs": [
    {
     "data": {
      "text/html": [
       "<div>\n",
       "<table border=\"1\" class=\"dataframe\">\n",
       "  <thead>\n",
       "    <tr style=\"text-align: right;\">\n",
       "      <th></th>\n",
       "      <th>business_id</th>\n",
       "      <th>name</th>\n",
       "      <th>review_count</th>\n",
       "      <th>city</th>\n",
       "      <th>stars</th>\n",
       "      <th>categories</th>\n",
       "      <th>variable</th>\n",
       "      <th>value</th>\n",
       "    </tr>\n",
       "  </thead>\n",
       "  <tbody>\n",
       "    <tr>\n",
       "      <th>0</th>\n",
       "      <td>--jFTZmywe7StuZ2hEjxyA</td>\n",
       "      <td>Subway</td>\n",
       "      <td>7</td>\n",
       "      <td>Las Vegas</td>\n",
       "      <td>3.5</td>\n",
       "      <td>['Fast Food', 'Sandwiches', 'Restaurants']</td>\n",
       "      <td>attributes.Takes Reservations</td>\n",
       "      <td>False</td>\n",
       "    </tr>\n",
       "    <tr>\n",
       "      <th>1</th>\n",
       "      <td>--jFTZmywe7StuZ2hEjxyA</td>\n",
       "      <td>Subway</td>\n",
       "      <td>7</td>\n",
       "      <td>Las Vegas</td>\n",
       "      <td>3.5</td>\n",
       "      <td>['Fast Food', 'Sandwiches', 'Restaurants']</td>\n",
       "      <td>attributes.Good For.dessert</td>\n",
       "      <td>False</td>\n",
       "    </tr>\n",
       "    <tr>\n",
       "      <th>2</th>\n",
       "      <td>--jFTZmywe7StuZ2hEjxyA</td>\n",
       "      <td>Subway</td>\n",
       "      <td>7</td>\n",
       "      <td>Las Vegas</td>\n",
       "      <td>3.5</td>\n",
       "      <td>['Fast Food', 'Sandwiches', 'Restaurants']</td>\n",
       "      <td>attributes.Take-out</td>\n",
       "      <td>True</td>\n",
       "    </tr>\n",
       "    <tr>\n",
       "      <th>3</th>\n",
       "      <td>--jFTZmywe7StuZ2hEjxyA</td>\n",
       "      <td>Subway</td>\n",
       "      <td>7</td>\n",
       "      <td>Las Vegas</td>\n",
       "      <td>3.5</td>\n",
       "      <td>['Fast Food', 'Sandwiches', 'Restaurants']</td>\n",
       "      <td>attributes.Has TV</td>\n",
       "      <td>False</td>\n",
       "    </tr>\n",
       "    <tr>\n",
       "      <th>4</th>\n",
       "      <td>--jFTZmywe7StuZ2hEjxyA</td>\n",
       "      <td>Subway</td>\n",
       "      <td>7</td>\n",
       "      <td>Las Vegas</td>\n",
       "      <td>3.5</td>\n",
       "      <td>['Fast Food', 'Sandwiches', 'Restaurants']</td>\n",
       "      <td>attributes.Good For.breakfast</td>\n",
       "      <td>True</td>\n",
       "    </tr>\n",
       "  </tbody>\n",
       "</table>\n",
       "</div>"
      ],
      "text/plain": [
       "              business_id    name  review_count       city  stars  \\\n",
       "0  --jFTZmywe7StuZ2hEjxyA  Subway             7  Las Vegas    3.5   \n",
       "1  --jFTZmywe7StuZ2hEjxyA  Subway             7  Las Vegas    3.5   \n",
       "2  --jFTZmywe7StuZ2hEjxyA  Subway             7  Las Vegas    3.5   \n",
       "3  --jFTZmywe7StuZ2hEjxyA  Subway             7  Las Vegas    3.5   \n",
       "4  --jFTZmywe7StuZ2hEjxyA  Subway             7  Las Vegas    3.5   \n",
       "\n",
       "                                   categories                       variable  \\\n",
       "0  ['Fast Food', 'Sandwiches', 'Restaurants']  attributes.Takes Reservations   \n",
       "1  ['Fast Food', 'Sandwiches', 'Restaurants']    attributes.Good For.dessert   \n",
       "2  ['Fast Food', 'Sandwiches', 'Restaurants']            attributes.Take-out   \n",
       "3  ['Fast Food', 'Sandwiches', 'Restaurants']              attributes.Has TV   \n",
       "4  ['Fast Food', 'Sandwiches', 'Restaurants']  attributes.Good For.breakfast   \n",
       "\n",
       "   value  \n",
       "0  False  \n",
       "1  False  \n",
       "2   True  \n",
       "3  False  \n",
       "4   True  "
      ]
     },
     "execution_count": 942,
     "metadata": {},
     "output_type": "execute_result"
    }
   ],
   "source": [
    "df_biz.head()"
   ]
  },
  {
   "cell_type": "code",
   "execution_count": 943,
   "metadata": {
    "collapsed": false
   },
   "outputs": [],
   "source": [
    "index_biz = ['business_id','name','review_count','city','stars']\n",
    "\n",
    "df_biz_pivot = pd.pivot_table(df_biz, values=['value'], columns=['variable'], index=index_biz)\n",
    "df_biz_pivot.head()\n",
    "df_biz_pivot = df_biz_pivot['value'].reset_index()"
   ]
  },
  {
   "cell_type": "code",
   "execution_count": 944,
   "metadata": {
    "collapsed": false
   },
   "outputs": [],
   "source": [
    "# def boolean_change(df):\n",
    "#     for x in df:\n",
    "#         if x == \"True\":\n",
    "#             return 1\n",
    "#         elif x ==\"False\":\n",
    "#             return 0\n",
    "        \n",
    "\n",
    "# temp_list = ['variable','business_id','name', 'review_count','city','stars']\n",
    "# for col in df_biz_pivot.columns:\n",
    "#     if col not in temp_list:\n",
    "#         df_biz_pivot.col = df_biz_pivot.col.map(boolean_change)"
   ]
  },
  {
   "cell_type": "code",
   "execution_count": null,
   "metadata": {
    "collapsed": true
   },
   "outputs": [],
   "source": []
  },
  {
   "cell_type": "code",
   "execution_count": 945,
   "metadata": {
    "collapsed": true
   },
   "outputs": [],
   "source": [
    "##Tips data - Has extra review or \"tips\" information that can be combined with the \n",
    "##business data to give more details"
   ]
  },
  {
   "cell_type": "code",
   "execution_count": 946,
   "metadata": {
    "collapsed": false
   },
   "outputs": [
    {
     "data": {
      "text/plain": [
       "array([0, 1])"
      ]
     },
     "execution_count": 946,
     "metadata": {},
     "output_type": "execute_result"
    }
   ],
   "source": [
    "##Categorical columns are represented in binary (0,1)\n",
    "df_tips['hours_24'].unique()\n",
    "df_tips['amazing_food'].unique()"
   ]
  },
  {
   "cell_type": "code",
   "execution_count": 947,
   "metadata": {
    "collapsed": false
   },
   "outputs": [],
   "source": [
    "##Want to join the business and tips data set on the business id,\n",
    "##so I can remove the unecessary columns and format the information\n",
    "##according to 'business_id'\n",
    "tips_delete = ['user_id', 'likes', 'date']\n",
    "df_tips_biz = df_tips.drop(tips_delete, axis=1)\n",
    "df_tips_biz = df_tips_biz.groupby('business_id').agg(np.sum).reset_index()"
   ]
  },
  {
   "cell_type": "code",
   "execution_count": 948,
   "metadata": {
    "collapsed": false
   },
   "outputs": [],
   "source": [
    "##Add indicator to the end of each label for clarity once the data is combined\n",
    "def update_columns(col_names, label):\n",
    "    new_names = []\n",
    "    new_names.append(col_names[0])\n",
    "    for name in col_names[1:]:\n",
    "        name = label + name\n",
    "        new_names.append(name)\n",
    "    return new_names\n",
    "\n",
    "df_tips_biz.columns = update_columns(df_tips_biz.columns, 'tips_')"
   ]
  },
  {
   "cell_type": "code",
   "execution_count": 949,
   "metadata": {
    "collapsed": false
   },
   "outputs": [],
   "source": [
    "##Review Data - repeating the same process as above that I did for the tips data set\n",
    "##so I can group more relevant information by 'business_id' and then combine it with the\n",
    "##business data set\n",
    "revs_delete = ['user_id', 'review_id', 'votes_cool', 'votes_funny', 'stars', 'date', 'votes_useful']\n",
    "df_revs_biz = df_revs.drop(revs_delete, axis=1)\n",
    "df_revs_biz = df_revs_biz.groupby('business_id').agg(np.sum).reset_index()\n",
    "df_revs_biz.columns = update_columns(df_revs_biz.columns, 'revs_')"
   ]
  },
  {
   "cell_type": "code",
   "execution_count": 950,
   "metadata": {
    "collapsed": false
   },
   "outputs": [
    {
     "name": "stdout",
     "output_type": "stream",
     "text": [
      "(330, 83) (2339, 100) (484, 101)\n",
      "(2484, 182)\n",
      "(2584, 282)\n",
      "(2539, 200)\n"
     ]
    }
   ],
   "source": [
    "##3 Tables to merge - \"df_revs_biz\", \"df_tips_biz\", \"df_biz_pivot\"\n",
    "print df_biz_pivot.shape, df_revs_biz.shape, df_tips_biz.shape\n",
    "df_biz_comb = pd.merge(df_biz_pivot, df_revs_biz, how='outer', on='business_id')\n",
    "print df_biz_comb.shape\n",
    "df_biz_comb = pd.merge(df_biz_comb, df_tips_biz, how='outer', on='business_id')\n",
    "print df_biz_comb.shape\n",
    "df_tips_revs_comb = pd.merge(df_revs_biz, df_tips_biz, how='outer', on='business_id')\n",
    "print df_tips_revs_comb.shape"
   ]
  },
  {
   "cell_type": "code",
   "execution_count": 951,
   "metadata": {
    "collapsed": false
   },
   "outputs": [],
   "source": [
    "###I have more columns than rows, so I have to many variables that will create too much\n",
    "###So I will reduce the number of columns in my data set and only look at one data set for\n",
    "###for right now.\n",
    "\n",
    "# df_tips_revs_comb = pd.merge(df_revs_biz, df_tips_biz, how='outer', on='business_id')\n",
    "# df_tips_revs_comb.shape\n",
    "\n",
    "###Actually found I was merging the tables incorrectly, so changed it to 'outer' rather than 'inner' and now\n",
    "###I have much more data than previously"
   ]
  },
  {
   "cell_type": "code",
   "execution_count": 952,
   "metadata": {
    "collapsed": false
   },
   "outputs": [],
   "source": [
    "df_biz_comb['city'] = df_biz_comb['city'].map(lambda x: 1 if x == 'Las Vegas' else 0)\n",
    "df_biz_comb = df_biz_comb.drop(['business_id', 'name', 'review_count'], axis=1)"
   ]
  },
  {
   "cell_type": "code",
   "execution_count": 953,
   "metadata": {
    "collapsed": false
   },
   "outputs": [],
   "source": [
    "for x in df_biz_comb.columns:\n",
    "    if 'attributes' in x:\n",
    "        df_biz_comb[x] = df_biz_comb[x].map(lambda x: 1 if x == True else 0)"
   ]
  },
  {
   "cell_type": "code",
   "execution_count": 954,
   "metadata": {
    "collapsed": false
   },
   "outputs": [],
   "source": [
    "df_biz_comb.columns = [x.strip().replace(' ','_').replace('.','_').replace('-','_').replace('/','_') for x in df_biz_comb.columns]"
   ]
  },
  {
   "cell_type": "code",
   "execution_count": 955,
   "metadata": {
    "collapsed": false
   },
   "outputs": [],
   "source": [
    "hours_list = []\n",
    "for x in df_biz_comb.columns:\n",
    "    if 'hours' in x:\n",
    "        hours_list.append(x)"
   ]
  },
  {
   "cell_type": "code",
   "execution_count": 956,
   "metadata": {
    "collapsed": false
   },
   "outputs": [
    {
     "name": "stdout",
     "output_type": "stream",
     "text": [
      "city ~ stars + attributes_Accepts_Credit_Cards + attributes_Accepts_Insurance + attributes_Ages_Allowed + attributes_Alcohol + attributes_Ambience_casual + attributes_Ambience_classy + attributes_Ambience_divey + attributes_Ambience_hipster + attributes_Ambience_intimate + attributes_Ambience_romantic + attributes_Ambience_touristy + attributes_Ambience_trendy + attributes_Ambience_upscale + attributes_Attire + attributes_BYOB + attributes_BYOB_Corkage + attributes_By_Appointment_Only + attributes_Caters + attributes_Coat_Check + attributes_Corkage + attributes_Delivery + attributes_Dietary_Restrictions_dairy_free + attributes_Dietary_Restrictions_gluten_free + attributes_Dietary_Restrictions_halal + attributes_Dietary_Restrictions_kosher + attributes_Dietary_Restrictions_soy_free + attributes_Dietary_Restrictions_vegan + attributes_Dietary_Restrictions_vegetarian + attributes_Dogs_Allowed + attributes_Drive_Thru + attributes_Good_For_Dancing + attributes_Good_For_Groups + attributes_Good_For_breakfast + attributes_Good_For_brunch + attributes_Good_For_dessert + attributes_Good_For_dinner + attributes_Good_For_latenight + attributes_Good_For_lunch + attributes_Good_for_Kids + attributes_Happy_Hour + attributes_Has_TV + attributes_Music_background_music + attributes_Music_dj + attributes_Music_jukebox + attributes_Music_karaoke + attributes_Music_live + attributes_Music_video + attributes_Noise_Level + attributes_Open_24_Hours + attributes_Order_at_Counter + attributes_Outdoor_Seating + attributes_Parking_garage + attributes_Parking_lot + attributes_Parking_street + attributes_Parking_valet + attributes_Parking_validated + attributes_Price_Range + attributes_Smoking + attributes_Take_out + attributes_Takes_Reservations + attributes_Waiter_Service + attributes_Wheelchair_Accessible + attributes_Wi_Fi + open + revs_minutes_10 + revs_minutes_15 + revs_minutes_20 + revs_bar_food + revs_beer_selection + revs_best_ve + revs_bloody_mary + revs_bottle_service + revs_chicken_waffles + revs_customer_service + revs_dance_floor + revs_decided_try + revs_definitely_come + revs_definitely_recommend + revs_didn_want + revs_don_know + revs_don_like + revs_don_think + revs_don_want + revs_eggs_benedict + revs_fast_food + revs_feel_like + revs_felt_like + revs_fish_chips + revs_food_amazing + revs_food_came + revs_food_delicious + revs_food_good + revs_food_great + revs_food_just + revs_food_service + revs_french_fries + revs_french_toast + revs_friday_night + revs_fried_chicken + revs_friendly_staff + revs_good_food + revs_good_place + revs_good_service + revs_good_thing + revs_good_time + revs_great_atmosphere + revs_great_experience + revs_great_food + revs_great_place + revs_great_service + revs_great_time + revs_happy_hour + revs_hash_browns + revs_highly_recommend + revs_hip_hop + revs_ice_cream + revs_just_like + revs_just_ok + revs_just_right + revs_las_vegas + revs_late_night + revs_like_place + revs_little_bit + revs_long_time + revs_looked_like + revs_looks_like + revs_love_place + revs_mac_cheese + revs_make_sure + revs_mashed_potatoes + revs_medium_rare + revs_minutes_later + revs_new_york + revs_onion_rings + revs_place_good + revs_place_great + revs_place_just + revs_potato_fries + revs_pretty_good + revs_quality_food + revs_really_enjoyed + revs_really_good + revs_really_like + revs_really_nice + revs_recommend_place + revs_red_velvet + revs_right_away + revs_saturday_night + revs_second_time + revs_service_excellent + revs_service_food + revs_service_friendly + revs_service_good + revs_service_great + revs_staff_friendly + revs_super_friendly + revs_sweet_potato + revs_tasted_like + revs_time_vegas + revs_try_place + revs_ve_seen + revs_ve_tried + revs_wait_staff + tips_amazing_food + tips_animal_style + tips_awesome_food + tips_awesome_place + tips_awesome_service + tips_beef_hash + tips_beer_selection + tips_best_breakfast + tips_best_burger + tips_best_burgers + tips_best_place + tips_bloody_mary + tips_bottle_service + tips_carne_asada + tips_cheese_fries + tips_chicken_waffles + tips_come_early + tips_cool_place + tips_corned_beef + tips_customer_service + tips_delicious_food + tips_don_come + tips_don_forget + tips_eggs_benedict + tips_excellent_food + tips_excellent_service + tips_fast_food + tips_fast_service + tips_favorite_place + tips_feel_like + tips_fish_chips + tips_food_amazing + tips_food_awesome + tips_food_drinks + tips_food_good + tips_food_great + tips_food_service + tips_free_wifi + tips_french_toast + tips_fried_chicken + tips_friendly_service + tips_friendly_staff + tips_gluten_free + tips_good_food + tips_good_place + tips_good_service + tips_great_atmosphere + tips_great_beer + tips_great_breakfast + tips_great_burgers + tips_great_customer + tips_great_drinks + tips_great_food + tips_great_happy + tips_great_place + tips_great_prices + tips_great_service + tips_great_spot + tips_great_staff + tips_grilled_cheese + tips_guest_list + tips_happy_birthday + tips_happy_hour + tips_highly_recommend + tips_ice_cream + tips_las_vegas + tips_late_night + tips_live_music + tips_long_wait + tips_love_food + tips_love_love + tips_love_place + tips_mac_cheese + tips_make_sure + tips_new_favorite + tips_nice_place + tips_nom_nom + tips_onion_rings + tips_open_24 + tips_place_awesome + tips_place_eat + tips_place_good + tips_place_great + tips_potato_fries + tips_pretty_good + tips_prime_rib + tips_really_good + tips_red_velvet + tips_service_food + tips_service_good + tips_service_great + tips_slow_service + tips_staff_friendly + tips_staff_great + tips_steak_eggs + tips_super_friendly + tips_sweet_potato + tips_velvet_pancakes + tips_worth_wait -1\n"
     ]
    }
   ],
   "source": [
    "remove_list = ['city'] + hours_list\n",
    "formula = 'city ~ ' + ' + '.join([x for x in df_biz_comb.columns if x not in remove_list]) + ' -1'\n",
    "print formula"
   ]
  },
  {
   "cell_type": "code",
   "execution_count": 957,
   "metadata": {
    "collapsed": false
   },
   "outputs": [],
   "source": [
    "import patsy\n",
    "y,X = patsy.dmatrices(formula, data=df_biz_comb, return_type='dataframe')"
   ]
  },
  {
   "cell_type": "code",
   "execution_count": 958,
   "metadata": {
    "collapsed": false
   },
   "outputs": [],
   "source": [
    "from sklearn.preprocessing import StandardScaler\n",
    "y = np.ravel(y)\n",
    "#Standardize the data becuase it's not all binary\n",
    "ss = StandardScaler()\n",
    "Xn = ss.fit_transform(X)"
   ]
  },
  {
   "cell_type": "code",
   "execution_count": 959,
   "metadata": {
    "collapsed": false,
    "scrolled": false
   },
   "outputs": [
    {
     "name": "stdout",
     "output_type": "stream",
     "text": [
      "Fitting 5 folds for each of 400 candidates, totalling 2000 fits\n"
     ]
    },
    {
     "name": "stderr",
     "output_type": "stream",
     "text": [
      "[Parallel(n_jobs=1)]: Done 2000 out of 2000 | elapsed:   16.5s finished\n"
     ]
    },
    {
     "data": {
      "text/plain": [
       "GridSearchCV(cv=5, error_score='raise',\n",
       "       estimator=LogisticRegression(C=1.0, class_weight=None, dual=False, fit_intercept=True,\n",
       "          intercept_scaling=1, max_iter=100, multi_class='ovr', n_jobs=1,\n",
       "          penalty='l2', random_state=None, solver='liblinear', tol=0.0001,\n",
       "          verbose=0, warm_start=False),\n",
       "       fit_params={}, iid=True, n_jobs=1,\n",
       "       param_grid={'penalty': ['l1', 'l2'], 'C': array([  1.00000e+00,   1.05956e+00, ...,   9.43788e+04,   1.00000e+05]), 'solver': ['liblinear']},\n",
       "       pre_dispatch='2*n_jobs', refit=True, scoring=None, verbose=1)"
      ]
     },
     "execution_count": 959,
     "metadata": {},
     "output_type": "execute_result"
    }
   ],
   "source": [
    "from sklearn.linear_model import SGDClassifier, LogisticRegression, LogisticRegressionCV\n",
    "from sklearn.grid_search import GridSearchCV\n",
    "\n",
    "#Ridge works best going through logspace to find alphas\n",
    "\n",
    "lr_params = {\n",
    "    'penalty':['l1','l2'],\n",
    "    'solver':['liblinear'],\n",
    "    'C':np.logspace(0, 5, 200),\n",
    "\n",
    "}\n",
    "\n",
    "vegas_lr_gs = GridSearchCV(LogisticRegression(), lr_params, cv=5, verbose=1)\n",
    "vegas_lr_gs.fit(Xn, y)"
   ]
  },
  {
   "cell_type": "code",
   "execution_count": 960,
   "metadata": {
    "collapsed": false,
    "scrolled": true
   },
   "outputs": [
    {
     "name": "stdout",
     "output_type": "stream",
     "text": [
      "0.809523809524\n",
      "LogisticRegression(C=1.0, class_weight=None, dual=False, fit_intercept=True,\n",
      "          intercept_scaling=1, max_iter=100, multi_class='ovr', n_jobs=1,\n",
      "          penalty='l1', random_state=None, solver='liblinear', tol=0.0001,\n",
      "          verbose=0, warm_start=False)\n",
      "0.142857142857\n",
      "{'penalty': 'l1', 'C': 1.0, 'solver': 'liblinear'}\n"
     ]
    }
   ],
   "source": [
    "print vegas_lr_gs.best_score_\n",
    "print vegas_lr_gs.best_estimator_\n",
    "print np.mean(y)\n",
    "print vegas_lr_gs.best_params_"
   ]
  },
  {
   "cell_type": "code",
   "execution_count": 961,
   "metadata": {
    "collapsed": false
   },
   "outputs": [
    {
     "name": "stdout",
     "output_type": "stream",
     "text": [
      "[ 0.84615385  0.76923077  0.73076923  0.83333333  0.875     ]\n",
      "0.810897435897\n"
     ]
    }
   ],
   "source": [
    "vegas_model = vegas_lr_gs.best_estimator_\n",
    "\n",
    "from sklearn.cross_validation import cross_val_score\n",
    "model_scores = cross_val_score(vegas_model, Xn, y, cv=5)\n",
    "print model_scores\n",
    "print np.mean(model_scores)"
   ]
  },
  {
   "cell_type": "code",
   "execution_count": 962,
   "metadata": {
    "collapsed": false
   },
   "outputs": [
    {
     "data": {
      "text/plain": [
       "LogisticRegression(C=1.0, class_weight=None, dual=False, fit_intercept=True,\n",
       "          intercept_scaling=1, max_iter=100, multi_class='ovr', n_jobs=1,\n",
       "          penalty='l1', random_state=None, solver='liblinear', tol=0.0001,\n",
       "          verbose=0, warm_start=False)"
      ]
     },
     "execution_count": 962,
     "metadata": {},
     "output_type": "execute_result"
    }
   ],
   "source": [
    "vegas_model.fit(Xn, y)"
   ]
  },
  {
   "cell_type": "code",
   "execution_count": 963,
   "metadata": {
    "collapsed": false
   },
   "outputs": [
    {
     "data": {
      "text/html": [
       "<div>\n",
       "<table border=\"1\" class=\"dataframe\">\n",
       "  <thead>\n",
       "    <tr style=\"text-align: right;\">\n",
       "      <th></th>\n",
       "      <th>abs_coef</th>\n",
       "      <th>coef</th>\n",
       "      <th>variable</th>\n",
       "    </tr>\n",
       "  </thead>\n",
       "  <tbody>\n",
       "    <tr>\n",
       "      <th>60</th>\n",
       "      <td>1.008172</td>\n",
       "      <td>1.008172</td>\n",
       "      <td>attributes_Smoking</td>\n",
       "    </tr>\n",
       "    <tr>\n",
       "      <th>241</th>\n",
       "      <td>0.886919</td>\n",
       "      <td>0.886919</td>\n",
       "      <td>tips_nom_nom</td>\n",
       "    </tr>\n",
       "    <tr>\n",
       "      <th>54</th>\n",
       "      <td>0.836906</td>\n",
       "      <td>0.836906</td>\n",
       "      <td>attributes_Parking_garage</td>\n",
       "    </tr>\n",
       "    <tr>\n",
       "      <th>41</th>\n",
       "      <td>0.504566</td>\n",
       "      <td>-0.504566</td>\n",
       "      <td>attributes_Good_for_Kids</td>\n",
       "    </tr>\n",
       "    <tr>\n",
       "      <th>174</th>\n",
       "      <td>0.454962</td>\n",
       "      <td>-0.454962</td>\n",
       "      <td>tips_best_burgers</td>\n",
       "    </tr>\n",
       "    <tr>\n",
       "      <th>108</th>\n",
       "      <td>0.447782</td>\n",
       "      <td>0.447782</td>\n",
       "      <td>revs_great_experience</td>\n",
       "    </tr>\n",
       "    <tr>\n",
       "      <th>214</th>\n",
       "      <td>0.410797</td>\n",
       "      <td>-0.410797</td>\n",
       "      <td>tips_great_burgers</td>\n",
       "    </tr>\n",
       "    <tr>\n",
       "      <th>121</th>\n",
       "      <td>0.410182</td>\n",
       "      <td>0.410182</td>\n",
       "      <td>revs_las_vegas</td>\n",
       "    </tr>\n",
       "    <tr>\n",
       "      <th>7</th>\n",
       "      <td>0.397341</td>\n",
       "      <td>0.397341</td>\n",
       "      <td>attributes_Ambience_casual</td>\n",
       "    </tr>\n",
       "    <tr>\n",
       "      <th>243</th>\n",
       "      <td>0.393074</td>\n",
       "      <td>0.393074</td>\n",
       "      <td>tips_open_24</td>\n",
       "    </tr>\n",
       "    <tr>\n",
       "      <th>215</th>\n",
       "      <td>0.392662</td>\n",
       "      <td>0.392662</td>\n",
       "      <td>tips_great_customer</td>\n",
       "    </tr>\n",
       "    <tr>\n",
       "      <th>56</th>\n",
       "      <td>0.361638</td>\n",
       "      <td>-0.361638</td>\n",
       "      <td>attributes_Parking_street</td>\n",
       "    </tr>\n",
       "    <tr>\n",
       "      <th>135</th>\n",
       "      <td>0.329065</td>\n",
       "      <td>0.329065</td>\n",
       "      <td>revs_onion_rings</td>\n",
       "    </tr>\n",
       "    <tr>\n",
       "      <th>12</th>\n",
       "      <td>0.328883</td>\n",
       "      <td>0.328883</td>\n",
       "      <td>attributes_Ambience_romantic</td>\n",
       "    </tr>\n",
       "    <tr>\n",
       "      <th>76</th>\n",
       "      <td>0.324884</td>\n",
       "      <td>-0.324884</td>\n",
       "      <td>revs_dance_floor</td>\n",
       "    </tr>\n",
       "    <tr>\n",
       "      <th>36</th>\n",
       "      <td>0.306331</td>\n",
       "      <td>0.306331</td>\n",
       "      <td>attributes_Good_For_brunch</td>\n",
       "    </tr>\n",
       "    <tr>\n",
       "      <th>93</th>\n",
       "      <td>0.293542</td>\n",
       "      <td>-0.293542</td>\n",
       "      <td>revs_food_good</td>\n",
       "    </tr>\n",
       "    <tr>\n",
       "      <th>153</th>\n",
       "      <td>0.271129</td>\n",
       "      <td>0.271129</td>\n",
       "      <td>revs_service_friendly</td>\n",
       "    </tr>\n",
       "    <tr>\n",
       "      <th>59</th>\n",
       "      <td>0.259259</td>\n",
       "      <td>0.259259</td>\n",
       "      <td>attributes_Price_Range</td>\n",
       "    </tr>\n",
       "    <tr>\n",
       "      <th>20</th>\n",
       "      <td>0.210272</td>\n",
       "      <td>-0.210272</td>\n",
       "      <td>attributes_Caters</td>\n",
       "    </tr>\n",
       "  </tbody>\n",
       "</table>\n",
       "</div>"
      ],
      "text/plain": [
       "     abs_coef      coef                      variable\n",
       "60   1.008172  1.008172            attributes_Smoking\n",
       "241  0.886919  0.886919                  tips_nom_nom\n",
       "54   0.836906  0.836906     attributes_Parking_garage\n",
       "41   0.504566 -0.504566      attributes_Good_for_Kids\n",
       "174  0.454962 -0.454962             tips_best_burgers\n",
       "108  0.447782  0.447782         revs_great_experience\n",
       "214  0.410797 -0.410797            tips_great_burgers\n",
       "121  0.410182  0.410182                revs_las_vegas\n",
       "7    0.397341  0.397341    attributes_Ambience_casual\n",
       "243  0.393074  0.393074                  tips_open_24\n",
       "215  0.392662  0.392662           tips_great_customer\n",
       "56   0.361638 -0.361638     attributes_Parking_street\n",
       "135  0.329065  0.329065              revs_onion_rings\n",
       "12   0.328883  0.328883  attributes_Ambience_romantic\n",
       "76   0.324884 -0.324884              revs_dance_floor\n",
       "36   0.306331  0.306331    attributes_Good_For_brunch\n",
       "93   0.293542 -0.293542                revs_food_good\n",
       "153  0.271129  0.271129         revs_service_friendly\n",
       "59   0.259259  0.259259        attributes_Price_Range\n",
       "20   0.210272 -0.210272             attributes_Caters"
      ]
     },
     "execution_count": 963,
     "metadata": {},
     "output_type": "execute_result"
    }
   ],
   "source": [
    "coefs = pd.DataFrame({'coef':vegas_model.coef_[0], 'abs_coef':np.abs(vegas_model.coef_[0]),\n",
    "                      'variable':X.columns})\n",
    "coefs.sort_values('abs_coef', ascending=False, inplace=True)\n",
    "coefs.head(20)"
   ]
  },
  {
   "cell_type": "markdown",
   "metadata": {},
   "source": [
    "<img src=\"http://imgur.com/l5NasQj.png\" style=\"float: left; margin: 25px 15px 0px 0px; height: 25px\">\n",
    "\n",
    "## 3. Different categories of ratings\n",
    "\n",
    "---\n",
    "\n",
    "Yelp is finally ready to admit that their rating system sucks. No one cares about the ratings, they just use the site to find out what's nearby. The ratings are simply too unreliable for people. \n",
    "\n",
    "Yelp hypothesizes that this is, in fact, because different people tend to give their ratings based on different things. They believe that perhaps some people always base their ratings on quality of food, others on service, and perhaps other categories as well. \n",
    "\n",
    "1. Do some users tend to talk about service more than others in reviews/tips? Divide up the tips/reviews into more \"service-focused\" ones and those less concerned with service.\n",
    "2. Create two new ratings for businesses: ratings from just the service-focused reviews and ratings from the non-service reviews.\n",
    "3. Construct a regression model for each of the two ratings. They should use the same predictor variables (of your choice). \n",
    "4. Validate the performance of the models.\n",
    "5. Do the models coefficients differ at all? What does this tell you about the hypothesis that there are in fact two different kinds of ratings?"
   ]
  },
  {
   "cell_type": "code",
   "execution_count": null,
   "metadata": {
    "collapsed": true
   },
   "outputs": [],
   "source": [
    "###Looking at my outputs, it does appear that service is inversily correlated against the non-service\n",
    "###descriptions. This means that it's important to have good service beccause higher \"like\" ratings are more\n",
    "###influenced by higher service ratings"
   ]
  },
  {
   "cell_type": "code",
   "execution_count": 964,
   "metadata": {
    "collapsed": false
   },
   "outputs": [],
   "source": [
    "#df_revs, df_tips"
   ]
  },
  {
   "cell_type": "code",
   "execution_count": 965,
   "metadata": {
    "collapsed": false
   },
   "outputs": [],
   "source": [
    "def service_check(df_col):\n",
    "    service_list = []\n",
    "    for x in df_col:\n",
    "        if 'service' in x or 'staff' in x or 'people' in x:\n",
    "            service_list.append(x)\n",
    "    return service_list"
   ]
  },
  {
   "cell_type": "code",
   "execution_count": 966,
   "metadata": {
    "collapsed": false,
    "scrolled": true
   },
   "outputs": [],
   "source": [
    "df_tips_prob_two = df_tips\n",
    "tips_delete = ['date']\n",
    "df_tips_prob_two = df_tips_prob_two.drop(tips_delete, axis=1)"
   ]
  },
  {
   "cell_type": "code",
   "execution_count": 967,
   "metadata": {
    "collapsed": false
   },
   "outputs": [
    {
     "data": {
      "text/plain": [
       "(12000, 103)"
      ]
     },
     "execution_count": 967,
     "metadata": {},
     "output_type": "execute_result"
    }
   ],
   "source": [
    "df_tips_prob_two.shape"
   ]
  },
  {
   "cell_type": "code",
   "execution_count": 968,
   "metadata": {
    "collapsed": false,
    "scrolled": true
   },
   "outputs": [
    {
     "data": {
      "text/plain": [
       "array([3, 1, 0, 2, 5, 4, 6])"
      ]
     },
     "execution_count": 968,
     "metadata": {},
     "output_type": "execute_result"
    }
   ],
   "source": [
    "tips_columns = df_tips_prob_two.columns[3:]\n",
    "df_tips_prob_two['total_tips'] = df_tips_prob_two[tips_columns].sum(axis=1)\n",
    "df_tips_prob_two['total_tips'].unique()"
   ]
  },
  {
   "cell_type": "code",
   "execution_count": 969,
   "metadata": {
    "collapsed": false
   },
   "outputs": [
    {
     "data": {
      "text/plain": [
       "(12000, 104)"
      ]
     },
     "execution_count": 969,
     "metadata": {},
     "output_type": "execute_result"
    }
   ],
   "source": [
    "df_tips_prob_two.shape"
   ]
  },
  {
   "cell_type": "code",
   "execution_count": 970,
   "metadata": {
    "collapsed": false
   },
   "outputs": [
    {
     "data": {
      "text/plain": [
       "array([1, 0, 2, 3])"
      ]
     },
     "execution_count": 970,
     "metadata": {},
     "output_type": "execute_result"
    }
   ],
   "source": [
    "tips_service_list = service_check(df_tips_prob_two.columns)\n",
    "df_tips_prob_two['service_counted'] = df_tips_prob_two[tips_service_list].sum(axis=1)\n",
    "df_tips_prob_two['service_counted'].unique()"
   ]
  },
  {
   "cell_type": "code",
   "execution_count": 971,
   "metadata": {
    "collapsed": false
   },
   "outputs": [
    {
     "data": {
      "text/plain": [
       "(12000, 105)"
      ]
     },
     "execution_count": 971,
     "metadata": {},
     "output_type": "execute_result"
    }
   ],
   "source": [
    "df_tips_prob_two.shape"
   ]
  },
  {
   "cell_type": "code",
   "execution_count": 972,
   "metadata": {
    "collapsed": false
   },
   "outputs": [],
   "source": [
    "###No common predictor variable between the two tables so going to use the \"tips\" table and use the likes as my\n",
    "###target variable. Assuming I can find the average for each business, the business that have more likes are probably\n",
    "###realated to helpful hints (i.e. good service or bad service)\n",
    "\n",
    "###Using likes didn't work becuase not enough data is available to predict on, so I'm going to make\n",
    "###a new column that just looks at the total number of comments/likes\n",
    "df_tips_prob_two['service_check'] = df_tips_prob_two['service_counted'].map(lambda x: 1 if x > 0 else 0)\n",
    "\n",
    "df_service = df_tips_prob_two[df_tips_prob_two['service_check'] == 1]\n",
    "df_non_service = df_tips_prob_two[df_tips_prob_two['service_check'] == 0]\n",
    "\n",
    "###find what the average business id likes is with and without service tips\n",
    "# avg_df_service = df_service.groupby('business_id')['service_counted'].mean().reset_index()\n",
    "# avg_df_non_service = df_non_service.groupby('business_id')['service_counted'].mean().reset_index()"
   ]
  },
  {
   "cell_type": "code",
   "execution_count": 973,
   "metadata": {
    "collapsed": false
   },
   "outputs": [
    {
     "data": {
      "text/plain": [
       "(12000, 106)"
      ]
     },
     "execution_count": 973,
     "metadata": {},
     "output_type": "execute_result"
    }
   ],
   "source": [
    "df_tips_prob_two.shape"
   ]
  },
  {
   "cell_type": "code",
   "execution_count": 974,
   "metadata": {
    "collapsed": false
   },
   "outputs": [
    {
     "name": "stdout",
     "output_type": "stream",
     "text": [
      "(12000, 106) (647, 106) (11353, 106)\n"
     ]
    }
   ],
   "source": [
    "print df_tips_prob_two.shape, df_service.shape, df_non_service.shape"
   ]
  },
  {
   "cell_type": "code",
   "execution_count": 975,
   "metadata": {
    "collapsed": false,
    "scrolled": true
   },
   "outputs": [
    {
     "name": "stderr",
     "output_type": "stream",
     "text": [
      "........................................................................................................................................................................................................................................................................................................................................................................................................................................................................................................................................................................................................................................................................................................................................................................................................................................................................................................................................................................................................................................................................................................................................................................................................................................................................................................................................................................................................................................................................................................................................................................................................................................................................................................................................................................................................................................................................................................................................................................................................................................................................................................................................................................................................................................................................................................................................................................................................................................................................................................................................................................................................................................................................................................................................................................................................................................................................................................................................................................................................................................................................................................................................................................................................................................................................................................................................................................................................................................................................................................................................................................................................................................................................................................................................................................................................................................................................................................................................................................................................................................................................................................................................................................................................................................................................................................................................................................................................................................................................................................................................................................................................................................................................................................................................................................................................................................................................................................................................................................................................................................................................................................................................................................................................................................................................................................................................................................................................................................................................................................................................................................................................................................................................................................................................................................................................................................................................................................................................................................................................................................................................................................................................................................................................................................................................................................................................................................................................................................................................................................................................................................................................................................................................................................................................................................................................................................................................................................................................................................................................................................................................................................................................................................................................................................................................................................................................................................................................................................................................................................................................................................................................................................................................................................................................................................................................................................................................................................................................................................................................................................................................................................................................................................................................................................................................................................................................................................................................................................................................................................................................................................................................................................................................................................................................................................................................................................................................................................................................................................................................................................................................................................................................................................................................................................................................................................................................................................................................................................................................................................................................................................................................................................................................................................................................................................................................................................................................................................................................................................................................................................................................................................................................................................................................................................................................................................................................................................................................................................................................................................................................................................................................................................................................................................................................................................................................................................................................................................................................................................................................................................................................................................................................................................................................................................................................................................................................................................................................................................................................................................................................................................................................................................................................................................................................................................................................................................................................................................................................................................................................................................................................................................................................................................................................................................................................................................................................................................................................................................................................................................................................................................................................................................................................................................................................................................................................................................................................................................................................................................................................................................................................................................................................................................................................................................................................................................................................................................................................................................................................................................................................................................................................................................................................................................................................................................................................................................................................................................................................................................................................................................................................................................................................................................................................................................................................................................................................................................................................................................................................................................................................................................................................................................................................................................................................................................................................................................................................................................................................................................................................................................................................................................................................................................................................................................................................................................................................................................................................................................................................................................................................................................................................................................................................................................................................................................................................................................................................................................................................................................................................................................................................................................................................................................................................................................................................................................................................................................................................................................................................................................................................................................................................................................................................................................................................................................................................................................................................................................................................................................................................................................................................................................................................................................................................................................................................................................................................................................................................................................................................................................................................................................................................................................................................................................................................................................................................................................................................................................................................................................................................................................................................................................................................................................................................................................................................................................................................................................................................................................................................................................................................................................................................................................................................................................................................................................................................................................................................................................................................................................................................................................................................................................................................................................................................................................................................................................................................................................................................................................................................................................................................................................................................................................................................................................................................................................................................................................................................................................................................................................................................................................................................................................................................................................................................................................................................................................................................................................................................................................................................................................................................................................................................................................................................................................................................................................................................................................................................................................................................................................................................................................................................................................................................................................................................................................................................................................................................................................................................................................................................................................................................................................................................................................................................................................................................................................................................................................................................................................................................................................................................................................................................................................................................................................................................................................................................................................................................................................................................................................................................................................................................................................................................................................................................................................................................................................................................................................................................................................................................................................................................................................................................................................................................................................................................................................................................................................................................................................................................................................................................................................................................................................................................................................................................................................................................................................................................................................................................................................................................................................................................................................................................................................................................................................................................................................................................................................................................................................................................................................................................................................................................................................................................................................................................................................................................................................................................................................................................................................................................................................................................................................................................................................................................................................................................................................................................................................................................................................................................................................................................................................................................................................................................................................................................................................................................................................................................................................................................................................................................................................................................................................................................................................................................................................................................................................................................................................................................................................................................................................................................................................................................................................................................................................................................................................................................................................................................................................................................................................................................................................................................................................................................................................................................................................................................................................................................................................................................................................................................................................................................................................................................................................................................................................................................................................................................................................................................................................................................................................................................................................................................................................................................................................................................................................................................................................................................................................................................................................................................................................................................................................................................................................................................................................................................................................................................................................................................................................................................................................................................................................................................................................................................................................................................................................................................................................................................................................................................................................................................................................................................................................................................................................................................................................................................................................................................................................................................................................................................................................................................................................................................................................................................................................................................................................................................................................................................................................................................................................................................................................................................................................................................................................................................................................................................................................................................................................................................................................................................................................................................................................................................................................................................................................................................................................................................................................................................................................................................................................................................................................................................................................................................................................................................................................................................................................................................................................................................................................................................................................................................................................................................................................................................................................................................................................................................................................................................................................................................................................................................................................................................................................................................................................................................................................................................................................................................................................................................................................................................................................................................................................................................................................................................................................................................................................................................................................................................................................................................................................................................................................................................................................................................................................................................................................................................................................................................................................................................................................................................................................................................................................................................................................................................................................................................................................................................................................................................................................................................................................................................................................................................................................................................................................................................................................................................................................................................................................................................................................................................................................................................................................................................................................................................................................................................................................................................................................................................................................................................................................................................................................................................................................................................................................................................................................................................................................................................................................................................................................................................................................................................................................................................................................................................................................................................................................................................................................................................................................................................................................................................................................................................................................................................................................................................................................................................................................................................................................................................................................................................................................................................................................................................................................................................................................................................................................................................................................................................................................................................................................................................................................................................................................................................................................................................................................................................................................................................................................................................................................................................................................................................................................................................................................................................................................................................................................................................................................................................................................................................................................................................................................................................................................................................................................................................................................................................................................................................................................................................................................................................................................................................................................................................................................................................................................................................................................................................................................................................................................................................................................................................................................................................................................................................................................................................................................................................................................................................................................................................................................................................................................................................................................................................................................................................................................................................................................................................................................................................................................................................................................................................................................................................................................................................................................................................................................................................................................................................................................................................................................................................................................................................................................................................................................................................................................................................................................................................................................................................................................................................................................................................................................................................................................................................................................................................................................................................................................................................................................................................................................................................................................................................................................................................................................................................................................................................................................................................................................................................................................................................................................................................................................................................................................................................................................................................................................................................................................................................................................................................................................................................................................................................................................................................................................................................................................................................................................................................................................................................................................................................................................................................................................................................................................................................................................................................................................................................................................................................................................................................................................................................................................................................................................................................................................................................................................................................................................................................................................................................................................................................................................................................................................................................................................................................................................................................................................................................................................................................................................................................................................................................................................................................................................................................................................................................................................................................................................................................................................................................................................................................................................................................................................................................................................................................................................................................................................................................................................................................................................................................................................................................................................................................................................................................................................................................................................................................................................................................................................................................................................................................................................................................................................................................................................................................................................................................................................................................................................................................................................................................................................................................................................................................................................................................................................................................................................................................................................................................................................................................................................................................................................................................................................................................................................................................................................................................................................................................................................................................................................................................................................................................................................................................................................................................................................................................................................................................................................................................................................................................................................................................................................................................................................................................................................................................................................................................................................................................................................................................................................................................................................................................................................................................................................................................................................................................................................................................................................................................................................................................................................................................................................................................................................................................................................................................................................................................................................................................................................................................................................................................................................................................................................................................................................................................................................................................................................................................................................................................................................................................................................................................................................................................................................................................................................................................................................................................................................................................................................................................................................................................................................................................................................................................................................................................................................................................................................................................................................................................................................................................................................................................................................................................................................................................................................................................................................................................................................................................................................................................................................................................................................................................................................................................................................................................................................................................................................................................................................................................................................................................................................................................................................................................................................................................................................................................................................................................................................................................................................................................................................................................................................................................................................................................................................................................................................................................................................................................................................................................................................................................................................................................................................................................................................................................................................................................................................................................................................................................................................................................................................................................................................................................................................................................................................................................................................................................................................................................................................................................................................................................................................................................................................................................................................................................................................................................................................................................................................................................................................................................................................................................................................................................................................................................................................................................................................................................................................................................................................................................................................................................................................................................................................................................................................................................................................................................................................................................................................................................................................................................................................................................................................................................................................................................................................................................................................................................................................................................................................................................................................................................................................................................................................................................................................................................................................................................................................................................................................................................................................................................................................................................................................................................................................................................................................................................................................................................................................................................................................................................................................................................................................................................................................................................................................................................................................................................................................................................................................................................................................................................................................................................................................................................................................................................................................................................................................................................................................................................................................................................................................................................................................................................................................................................................................................................................................................................................................................................................................................................................................................................................................................................................................................................................................................................................................................................................................................................................................................................................................................................................................................................................................................................................................................................................................................................................................................................................................................................................................................................................................................................................................................................................................................................................................................................................................................................................................................................................................................................................................................................................................................................................................................................................................................................................................................................................................................................................................................................................................................................................................................................................................................................................................................................................................................................................................................................................................................................................................................................................................................................................................................................................................................................................................................................................................................................................................................................................................................................................................................................................................................................................................................................................................................................................................................................................................................................................................................................................................................................................................................................................................................................................................................................................................................................................................................................................................................................................................................................................................................................................................................................................................................................................................................................................................................................................................................................................................................................................................................................................................................................................................................................................................................................................................................................................................................................................................................................................................................................................................................................................................................................................................................................................................................................................................................................................................................................................................................................................................................................................................................................................................................................................................................................................................................................................................................................................................................................................................................................................................................................................................................................................................................................................................................................................................................................................................................................................................................................................................................................................................................................................................................................................................................................................................................................................................................................................................................................................................................................................................................................................................................................................................................................................................................................................................................................................................................................................................................................................................................................................................................................................................................................................................................................................................................................................................................................................................................................................................................................................................................................................................................................................................................................................................................................................................................................................................................................................................................................................................................................................................................................................................................................................................................................................................................................................................................................................................................................................................................................................................................................................................................................................................................................................................................................................................................................................................................................................................................................................................................................................................................................................................................................................................................................................................................................................................................................................................................................................................................................................................................................................................................................................................................................................................................................................................................................................................................................................................................................................................................................................................................................................................................................................................................................................................................................................................................................................................................................................................................................................................................................................................................................................................................................................................................................................................................................................................................................................................................................................................................................................................................................................................................................................................................................................................................................................................................................................................................................................................................................................................................................................................................................................................................................................................................................................................................................................................................................................................................................................................................................................................................................................................................................................................................................................................................................................................................................................................................................................................................................................................................................................................................................................................................................................................................................................................................................................................................................................................................................................................................................................................................................................................................................................................................................................................................................................................................................................................................................................................................................................................................................................................................................................................................................................................................................................................................................................................................................................................................................................................................................................................................................................................................................................................................................................................................................................................................................................................................................................................................................................................................................................................................................................................................................................................................................................................................................................................................................................................................................................................................................................................................................................................................................................................................................................................................................................................................................................................................................................................................................................................................................................................................................................................................................................................................................................................................................................................................................................................................................................................................................................................................................................................................................................................................................................................................................................................................................................................................................................................................................................................................................................................................................................................................................................................................................................................................................................................................................................................................................................................................................................................................................................................................................................................................................................................................................................................................................................................................................................................................................................................................................................................................................................................................................................................................................................................................................................................................................................................................................................................................................................................................................................................................................................................................................................................................................................................................................................................................................................................................................................................................................................................................................................................................................................................................................................................................................................................................................................................................................................................................[Parallel(n_jobs=1)]: Done 250 out of 250 | elapsed:   19.1s finished\n"
     ]
    },
    {
     "data": {
      "text/plain": [
       "ElasticNetCV(alphas=None, copy_X=True, cv=5, eps=0.001, fit_intercept=True,\n",
       "       l1_ratio=array([ 0.01   ,  0.0302 ,  0.05041,  0.07061,  0.09082,  0.11102,\n",
       "        0.13122,  0.15143,  0.17163,  0.19184,  0.21204,  0.23224,\n",
       "        0.25245,  0.27265,  0.29286,  0.31306,  0.33327,  0.35347,\n",
       "        0.37367,  0.39388,  0.41408,  0.43429,  0.45449,  0.47469,\n",
       "        0.4949 ,  0.515...3837,\n",
       "        0.85857,  0.87878,  0.89898,  0.91918,  0.93939,  0.95959,\n",
       "        0.9798 ,  1.     ]),\n",
       "       max_iter=1000, n_alphas=300, n_jobs=1, normalize=False,\n",
       "       positive=False, precompute='auto', random_state=None,\n",
       "       selection='cyclic', tol=0.0001, verbose=1)"
      ]
     },
     "execution_count": 975,
     "metadata": {},
     "output_type": "execute_result"
    }
   ],
   "source": [
    "#Pick predictor's and matrix for both types of table\n",
    "col_not_used = ['service_check', 'service_counted', 'total_tips', 'user_id', 'business_id']\n",
    "\n",
    "y_service = df_service['total_tips']\n",
    "X_service = df_service[[x for x in df_service.columns if x not in col_not_used]]\n",
    "\n",
    "y_non_service = df_non_service['total_tips']\n",
    "X_non_service = df_non_service[[x for x in df_non_service.columns if x not in col_not_used]]\n",
    "\n",
    "\n",
    "ss = StandardScaler()\n",
    "Xn_service = ss.fit_transform(X_service)\n",
    "Xn_non_service = ss.fit_transform(X_non_service)\n",
    "\n",
    "#Look at the elastic net to find the best fit\n",
    "from sklearn.linear_model import Ridge, Lasso, ElasticNet, LinearRegression, RidgeCV, LassoCV, ElasticNetCV\n",
    "from sklearn.cross_validation import cross_val_score\n",
    "\n",
    "l1_ratios = np.linspace(0.01, 1.0, 50)\n",
    "optimal_enet = ElasticNetCV(l1_ratio=l1_ratios, n_alphas=300, cv=5,\n",
    "                            verbose=1)\n",
    "optimal_enet.fit(Xn_service, y_service)"
   ]
  },
  {
   "cell_type": "code",
   "execution_count": 976,
   "metadata": {
    "collapsed": false
   },
   "outputs": [
    {
     "name": "stdout",
     "output_type": "stream",
     "text": [
      "0.000348277472763\n",
      "1.0\n"
     ]
    }
   ],
   "source": [
    "print optimal_enet.alpha_\n",
    "print optimal_enet.l1_ratio_\n",
    "### So going to go with lasso"
   ]
  },
  {
   "cell_type": "code",
   "execution_count": 977,
   "metadata": {
    "collapsed": false
   },
   "outputs": [
    {
     "name": "stderr",
     "output_type": "stream",
     "text": [
      "................................................................................................................................................................................................................................................................................................................................................................................................................................................................................................................................................................................................................................................................................................................................................................................................................................................................................................................................................................................................................................................................................................................................................................................................................................................................................................................................................................................................................................................................................................................................................................................................................................................................................................................................................................................................................................................................................................................................................................................................................................................................................................................................................................................................................................................................................................................................................................................................................................................................................................................................................................................................................................................................................................................................................................................................................................................................................................................................................................................................................................................................................................................................................................................................................................................................................................................................................................................................................................................................................................................................................................................................................................................................................................................................................................................................................................................................................................................................................................................................................................................................................................................................................................................................................................................................................................................................................................................................................................................................................................................................................................................................................................................................................................................................................................................................................................................................................................................................................................................................................................................................................................................................................................................................................................................................................................................................................................................................................................................................................................................................................................................................................................................................................................................................................................................................................................................................................................................................................................................................................................................................................................................................................................................................................................................................................................................................................................................................................................................................................................................................................................................................................................................................................................................................................................................................................................................................................................................................................................................................................................................................................................................................................................................................................................................................................................................................................................................................................................................................................................................................................................................................................................................................................................................................................................................................................................................................................................................................................................................................................................................................................................................................................................................................................................................................................................................................................................................................................................................................................................................................................................................................................................................................................................................................................................................................................................................................................................................................................................................................................................................................................................................................................................................................................................................................................................................................................................................................................................................................................................................................................................................................................................................................................................................................................................................................................................................................................................................................................................................................................................................................................................................................................................................................................................................................................................................................................................................................................[Parallel(n_jobs=1)]: Done  10 out of  10 | elapsed:    2.6s finished\n"
     ]
    },
    {
     "data": {
      "text/plain": [
       "Lasso(alpha=0.0003482774727627444, copy_X=True, fit_intercept=True,\n",
       "   max_iter=1000, normalize=False, positive=False, precompute=False,\n",
       "   random_state=None, selection='cyclic', tol=0.0001, warm_start=False)"
      ]
     },
     "execution_count": 977,
     "metadata": {},
     "output_type": "execute_result"
    }
   ],
   "source": [
    "###Service model - Lasso Fit\n",
    "lcv_service = LassoCV(n_alphas=1000, cv=10, verbose=1)\n",
    "lcv_service.fit(Xn_service, y_service)\n",
    "lasso_service = Lasso(alpha=lcv_service.alpha_)\n",
    "lasso_service.fit(Xn_service, y_service)"
   ]
  },
  {
   "cell_type": "code",
   "execution_count": 978,
   "metadata": {
    "collapsed": false
   },
   "outputs": [
    {
     "name": "stdout",
     "output_type": "stream",
     "text": [
      "[ 0.95375608  0.96790529  0.95373471  0.94129621  0.89163651]\n",
      "0.941665761\n"
     ]
    }
   ],
   "source": [
    "service_scores = cross_val_score(lasso_service, Xn_service, y_service, cv=5)\n",
    "print service_scores\n",
    "print np.mean(service_scores)"
   ]
  },
  {
   "cell_type": "code",
   "execution_count": 979,
   "metadata": {
    "collapsed": false
   },
   "outputs": [
    {
     "name": "stderr",
     "output_type": "stream",
     "text": [
      "................................................................................................................................................................................................................................................................................................................................................................................................................................................................................................................................................................................................................................................................................................................................................................................................................................................................................................................................................................................................................................................................................................................................................................................................................................................................................................................................................................................................................................................................................................................................................................................................................................................................................................................................................................................................................................................................................................................................................................................................................................................................................................................................................................................................................................................................................................................................................................................................................................................................................................................................................................................................................................................................................................................................................................................................................................................................................................................................................................................................................................................................................................................................................................................................................................................................................................................................................................................................................................................................................................................................................................................................................................................................................................................................................................................................................................................................................................................................................................................................................................................................................................................................................................................................................................................................................................................................................................................................................................................................................................................................................................................................................................................................................................................................................................................................................................................................................................................................................................................................................................................................................................................................................................................................................................................................................................................................................................................................................................................................................................................................................................................................................................................................................................................................................................................................................................................................................................................................................................................................................................................................................................................................................................................................................................................................................................................................................................................................................................................................................................................................................................................................................................................................................................................................................................................................................................................................................................................................................................................................................................................................................................................................................................................................................................................................................................................................................................................................................................................................................................................................................................................................................................................................................................................................................................................................................................................................................................................................................................................................................................................................................................................................................................................................................................................................................................................................................................................................................................................................................................................................................................................................................................................................................................................................................................................................................................................................................................................................................................................................................................................................................................................................................................................................................................................................................................................................................................................................................................................................................................................................................................................................................................................................................................................................................................................................................................................................................................................................................................................................................................................................................................................................................................................................................................................................................................................................................................................................................[Parallel(n_jobs=1)]: Done  10 out of  10 | elapsed:    4.2s finished\n"
     ]
    },
    {
     "data": {
      "text/plain": [
       "Lasso(alpha=0.00013548138537890534, copy_X=True, fit_intercept=True,\n",
       "   max_iter=1000, normalize=False, positive=False, precompute=False,\n",
       "   random_state=None, selection='cyclic', tol=0.0001, warm_start=False)"
      ]
     },
     "execution_count": 979,
     "metadata": {},
     "output_type": "execute_result"
    }
   ],
   "source": [
    "###Non-Service model - Lasso Fit\n",
    "lcv_non_service = LassoCV(n_alphas=1000, cv=10, verbose=1)\n",
    "lcv_non_service.fit(Xn_non_service, y_non_service)\n",
    "lasso_non_service = Lasso(alpha=lcv_non_service.alpha_)\n",
    "lasso_non_service.fit(Xn_non_service, y_non_service)"
   ]
  },
  {
   "cell_type": "code",
   "execution_count": 980,
   "metadata": {
    "collapsed": false
   },
   "outputs": [
    {
     "name": "stdout",
     "output_type": "stream",
     "text": [
      "[ 0.99998212  0.99999177  0.99999271  0.99998752  0.99799255]\n",
      "0.9995893342\n"
     ]
    }
   ],
   "source": [
    "non_service_scores = cross_val_score(lasso_non_service, Xn_non_service, y_non_service, cv=5)\n",
    "print non_service_scores\n",
    "print np.mean(non_service_scores)"
   ]
  },
  {
   "cell_type": "code",
   "execution_count": 981,
   "metadata": {
    "collapsed": false
   },
   "outputs": [
    {
     "data": {
      "text/html": [
       "<div>\n",
       "<table border=\"1\" class=\"dataframe\">\n",
       "  <thead>\n",
       "    <tr style=\"text-align: right;\">\n",
       "      <th></th>\n",
       "      <th>abs_service_coef</th>\n",
       "      <th>service_coef</th>\n",
       "      <th>variable</th>\n",
       "    </tr>\n",
       "  </thead>\n",
       "  <tbody>\n",
       "    <tr>\n",
       "      <th>58</th>\n",
       "      <td>0.433482</td>\n",
       "      <td>0.433482</td>\n",
       "      <td>great_service</td>\n",
       "    </tr>\n",
       "    <tr>\n",
       "      <th>54</th>\n",
       "      <td>0.312531</td>\n",
       "      <td>0.312531</td>\n",
       "      <td>great_food</td>\n",
       "    </tr>\n",
       "    <tr>\n",
       "      <th>38</th>\n",
       "      <td>0.308022</td>\n",
       "      <td>0.308022</td>\n",
       "      <td>food_service</td>\n",
       "    </tr>\n",
       "    <tr>\n",
       "      <th>43</th>\n",
       "      <td>0.298346</td>\n",
       "      <td>0.298346</td>\n",
       "      <td>friendly_staff</td>\n",
       "    </tr>\n",
       "    <tr>\n",
       "      <th>47</th>\n",
       "      <td>0.290686</td>\n",
       "      <td>0.290686</td>\n",
       "      <td>good_service</td>\n",
       "    </tr>\n",
       "    <tr>\n",
       "      <th>21</th>\n",
       "      <td>0.279338</td>\n",
       "      <td>0.279338</td>\n",
       "      <td>customer_service</td>\n",
       "    </tr>\n",
       "    <tr>\n",
       "      <th>37</th>\n",
       "      <td>0.271264</td>\n",
       "      <td>0.271264</td>\n",
       "      <td>food_great</td>\n",
       "    </tr>\n",
       "    <tr>\n",
       "      <th>45</th>\n",
       "      <td>0.254351</td>\n",
       "      <td>0.254351</td>\n",
       "      <td>good_food</td>\n",
       "    </tr>\n",
       "    <tr>\n",
       "      <th>92</th>\n",
       "      <td>0.251450</td>\n",
       "      <td>0.251450</td>\n",
       "      <td>service_great</td>\n",
       "    </tr>\n",
       "    <tr>\n",
       "      <th>90</th>\n",
       "      <td>0.232338</td>\n",
       "      <td>0.232338</td>\n",
       "      <td>service_food</td>\n",
       "    </tr>\n",
       "  </tbody>\n",
       "</table>\n",
       "</div>"
      ],
      "text/plain": [
       "    abs_service_coef  service_coef          variable\n",
       "58          0.433482      0.433482     great_service\n",
       "54          0.312531      0.312531        great_food\n",
       "38          0.308022      0.308022      food_service\n",
       "43          0.298346      0.298346    friendly_staff\n",
       "47          0.290686      0.290686      good_service\n",
       "21          0.279338      0.279338  customer_service\n",
       "37          0.271264      0.271264        food_great\n",
       "45          0.254351      0.254351         good_food\n",
       "92          0.251450      0.251450     service_great\n",
       "90          0.232338      0.232338      service_food"
      ]
     },
     "execution_count": 981,
     "metadata": {},
     "output_type": "execute_result"
    }
   ],
   "source": [
    "service_coefs = pd.DataFrame({'variable':X_service.columns, \n",
    "                      'service_coef':lasso_service.coef_, \n",
    "                      'abs_service_coef':np.abs(lasso_service.coef_),\n",
    "                      })\n",
    "service_coefs.sort_values(by='service_coef', ascending=False).head(10)"
   ]
  },
  {
   "cell_type": "code",
   "execution_count": 982,
   "metadata": {
    "collapsed": false
   },
   "outputs": [
    {
     "data": {
      "text/html": [
       "<div>\n",
       "<table border=\"1\" class=\"dataframe\">\n",
       "  <thead>\n",
       "    <tr style=\"text-align: right;\">\n",
       "      <th></th>\n",
       "      <th>abs_non_service_coef</th>\n",
       "      <th>non_service_coef</th>\n",
       "      <th>variable</th>\n",
       "    </tr>\n",
       "  </thead>\n",
       "  <tbody>\n",
       "    <tr>\n",
       "      <th>54</th>\n",
       "      <td>0.110642</td>\n",
       "      <td>0.110642</td>\n",
       "      <td>great_food</td>\n",
       "    </tr>\n",
       "    <tr>\n",
       "      <th>73</th>\n",
       "      <td>0.103392</td>\n",
       "      <td>0.103392</td>\n",
       "      <td>love_place</td>\n",
       "    </tr>\n",
       "    <tr>\n",
       "      <th>56</th>\n",
       "      <td>0.087575</td>\n",
       "      <td>0.087575</td>\n",
       "      <td>great_place</td>\n",
       "    </tr>\n",
       "    <tr>\n",
       "      <th>45</th>\n",
       "      <td>0.085103</td>\n",
       "      <td>0.085103</td>\n",
       "      <td>good_food</td>\n",
       "    </tr>\n",
       "    <tr>\n",
       "      <th>37</th>\n",
       "      <td>0.082037</td>\n",
       "      <td>0.082037</td>\n",
       "      <td>food_great</td>\n",
       "    </tr>\n",
       "    <tr>\n",
       "      <th>67</th>\n",
       "      <td>0.075910</td>\n",
       "      <td>0.075910</td>\n",
       "      <td>las_vegas</td>\n",
       "    </tr>\n",
       "    <tr>\n",
       "      <th>40</th>\n",
       "      <td>0.071179</td>\n",
       "      <td>0.071179</td>\n",
       "      <td>french_toast</td>\n",
       "    </tr>\n",
       "    <tr>\n",
       "      <th>72</th>\n",
       "      <td>0.069410</td>\n",
       "      <td>0.069410</td>\n",
       "      <td>love_love</td>\n",
       "    </tr>\n",
       "    <tr>\n",
       "      <th>75</th>\n",
       "      <td>0.069282</td>\n",
       "      <td>0.069282</td>\n",
       "      <td>make_sure</td>\n",
       "    </tr>\n",
       "    <tr>\n",
       "      <th>9</th>\n",
       "      <td>0.066073</td>\n",
       "      <td>0.066073</td>\n",
       "      <td>best_breakfast</td>\n",
       "    </tr>\n",
       "  </tbody>\n",
       "</table>\n",
       "</div>"
      ],
      "text/plain": [
       "    abs_non_service_coef  non_service_coef        variable\n",
       "54              0.110642          0.110642      great_food\n",
       "73              0.103392          0.103392      love_place\n",
       "56              0.087575          0.087575     great_place\n",
       "45              0.085103          0.085103       good_food\n",
       "37              0.082037          0.082037      food_great\n",
       "67              0.075910          0.075910       las_vegas\n",
       "40              0.071179          0.071179    french_toast\n",
       "72              0.069410          0.069410       love_love\n",
       "75              0.069282          0.069282       make_sure\n",
       "9               0.066073          0.066073  best_breakfast"
      ]
     },
     "execution_count": 982,
     "metadata": {},
     "output_type": "execute_result"
    }
   ],
   "source": [
    "non_service_coefs = pd.DataFrame({'variable':X_service.columns, \n",
    "                      'non_service_coef':lasso_non_service.coef_,\n",
    "                      'abs_non_service_coef':np.abs(lasso_non_service.coef_)\n",
    "                      })\n",
    "non_service_coefs.sort_values(by='non_service_coef', ascending=False).head(10)"
   ]
  },
  {
   "cell_type": "code",
   "execution_count": 983,
   "metadata": {
    "collapsed": false
   },
   "outputs": [
    {
     "data": {
      "text/html": [
       "<div>\n",
       "<table border=\"1\" class=\"dataframe\">\n",
       "  <thead>\n",
       "    <tr style=\"text-align: right;\">\n",
       "      <th></th>\n",
       "      <th>abs_non_service_coef</th>\n",
       "      <th>abs_service_coef</th>\n",
       "      <th>non_service_coef</th>\n",
       "      <th>service_coef</th>\n",
       "      <th>variable</th>\n",
       "    </tr>\n",
       "  </thead>\n",
       "  <tbody>\n",
       "    <tr>\n",
       "      <th>58</th>\n",
       "      <td>0.000000</td>\n",
       "      <td>0.433482</td>\n",
       "      <td>0.000000</td>\n",
       "      <td>0.433482</td>\n",
       "      <td>great_service</td>\n",
       "    </tr>\n",
       "    <tr>\n",
       "      <th>54</th>\n",
       "      <td>0.110642</td>\n",
       "      <td>0.312531</td>\n",
       "      <td>0.110642</td>\n",
       "      <td>0.312531</td>\n",
       "      <td>great_food</td>\n",
       "    </tr>\n",
       "    <tr>\n",
       "      <th>38</th>\n",
       "      <td>0.000000</td>\n",
       "      <td>0.308022</td>\n",
       "      <td>0.000000</td>\n",
       "      <td>0.308022</td>\n",
       "      <td>food_service</td>\n",
       "    </tr>\n",
       "    <tr>\n",
       "      <th>43</th>\n",
       "      <td>0.000000</td>\n",
       "      <td>0.298346</td>\n",
       "      <td>0.000000</td>\n",
       "      <td>0.298346</td>\n",
       "      <td>friendly_staff</td>\n",
       "    </tr>\n",
       "    <tr>\n",
       "      <th>47</th>\n",
       "      <td>0.000000</td>\n",
       "      <td>0.290686</td>\n",
       "      <td>0.000000</td>\n",
       "      <td>0.290686</td>\n",
       "      <td>good_service</td>\n",
       "    </tr>\n",
       "    <tr>\n",
       "      <th>21</th>\n",
       "      <td>0.000000</td>\n",
       "      <td>0.279338</td>\n",
       "      <td>0.000000</td>\n",
       "      <td>0.279338</td>\n",
       "      <td>customer_service</td>\n",
       "    </tr>\n",
       "    <tr>\n",
       "      <th>37</th>\n",
       "      <td>0.082037</td>\n",
       "      <td>0.271264</td>\n",
       "      <td>0.082037</td>\n",
       "      <td>0.271264</td>\n",
       "      <td>food_great</td>\n",
       "    </tr>\n",
       "    <tr>\n",
       "      <th>45</th>\n",
       "      <td>0.085103</td>\n",
       "      <td>0.254351</td>\n",
       "      <td>0.085103</td>\n",
       "      <td>0.254351</td>\n",
       "      <td>good_food</td>\n",
       "    </tr>\n",
       "    <tr>\n",
       "      <th>92</th>\n",
       "      <td>0.000000</td>\n",
       "      <td>0.251450</td>\n",
       "      <td>0.000000</td>\n",
       "      <td>0.251450</td>\n",
       "      <td>service_great</td>\n",
       "    </tr>\n",
       "    <tr>\n",
       "      <th>90</th>\n",
       "      <td>0.000000</td>\n",
       "      <td>0.232338</td>\n",
       "      <td>0.000000</td>\n",
       "      <td>0.232338</td>\n",
       "      <td>service_food</td>\n",
       "    </tr>\n",
       "  </tbody>\n",
       "</table>\n",
       "</div>"
      ],
      "text/plain": [
       "    abs_non_service_coef  abs_service_coef  non_service_coef  service_coef  \\\n",
       "58              0.000000          0.433482          0.000000      0.433482   \n",
       "54              0.110642          0.312531          0.110642      0.312531   \n",
       "38              0.000000          0.308022          0.000000      0.308022   \n",
       "43              0.000000          0.298346          0.000000      0.298346   \n",
       "47              0.000000          0.290686          0.000000      0.290686   \n",
       "21              0.000000          0.279338          0.000000      0.279338   \n",
       "37              0.082037          0.271264          0.082037      0.271264   \n",
       "45              0.085103          0.254351          0.085103      0.254351   \n",
       "92              0.000000          0.251450          0.000000      0.251450   \n",
       "90              0.000000          0.232338          0.000000      0.232338   \n",
       "\n",
       "            variable  \n",
       "58     great_service  \n",
       "54        great_food  \n",
       "38      food_service  \n",
       "43    friendly_staff  \n",
       "47      good_service  \n",
       "21  customer_service  \n",
       "37        food_great  \n",
       "45         good_food  \n",
       "92     service_great  \n",
       "90      service_food  "
      ]
     },
     "execution_count": 983,
     "metadata": {},
     "output_type": "execute_result"
    }
   ],
   "source": [
    "total_coefs = pd.DataFrame({'variable':X_service.columns, \n",
    "                      'service_coef':lasso_service.coef_, \n",
    "                      'abs_service_coef':np.abs(lasso_service.coef_),\n",
    "                      'non_service_coef':lasso_non_service.coef_,\n",
    "                      'abs_non_service_coef':np.abs(lasso_non_service.coef_)\n",
    "                      })\n",
    "total_coefs.sort_values(by='abs_service_coef', ascending=False).head(10)"
   ]
  },
  {
   "cell_type": "markdown",
   "metadata": {},
   "source": [
    "<img src=\"http://imgur.com/l5NasQj.png\" style=\"float: left; margin: 25px 15px 0px 0px; height: 25px\">\n",
    "\n",
    "## 4. Identifying \"elite\" users\n",
    "\n",
    "---\n",
    "\n",
    "Yelp, though having their own formula for determining whether a user is elite or not, is interested in delving deeper into what differentiates an elite user from a normal user at a broader level.\n",
    "\n",
    "Use a classification model to predict whether a user is elite or not. Note that users can be elite in some years and not in others.\n",
    "\n",
    "1. What things predict well whether a user is elite or not?\n",
    "- Validate the model.\n",
    "- If you were to remove the \"counts\" metrics for users (reviews, votes, compliments), what distinguishes an elite user, if anything? Validate the model and compare it to the one with the count variables.\n",
    "- Think of a way to visually represent your results in a compelling way.\n",
    "- Give a brief write-up of your findings.\n"
   ]
  },
  {
   "cell_type": "code",
   "execution_count": null,
   "metadata": {
    "collapsed": true
   },
   "outputs": [],
   "source": [
    "###Unfortunately my classification models took a little too much time and I couldn't define the specific coefficients\n",
    "###that defined an \"elite\" user. With more time, I would look the number of reviews a user wrote, look a the number of\n",
    "###comments they make, or how high their average \"like\" and \"stars\" ratings for business would be. My assumption is that\n",
    "###they could be viewed as elite by the amount of activity they had. I would then plot an ROC curve to see how\n",
    "###accurate my predictions are against their actual \"elite\" status (if I had a little more time to finish...)"
   ]
  },
  {
   "cell_type": "code",
   "execution_count": 984,
   "metadata": {
    "collapsed": false
   },
   "outputs": [
    {
     "data": {
      "text/html": [
       "<div>\n",
       "<table border=\"1\" class=\"dataframe\">\n",
       "  <thead>\n",
       "    <tr style=\"text-align: right;\">\n",
       "      <th></th>\n",
       "      <th>yelping_since</th>\n",
       "      <th>compliments_plain</th>\n",
       "      <th>review_count</th>\n",
       "      <th>compliments_cute</th>\n",
       "      <th>compliments_writer</th>\n",
       "      <th>fans</th>\n",
       "      <th>compliments_note</th>\n",
       "      <th>compliments_hot</th>\n",
       "      <th>compliments_cool</th>\n",
       "      <th>compliments_profile</th>\n",
       "      <th>...</th>\n",
       "      <th>compliments_more</th>\n",
       "      <th>elite</th>\n",
       "      <th>name</th>\n",
       "      <th>user_id</th>\n",
       "      <th>votes_cool</th>\n",
       "      <th>compliments_list</th>\n",
       "      <th>votes_funny</th>\n",
       "      <th>compliments_photos</th>\n",
       "      <th>compliments_funny</th>\n",
       "      <th>votes_useful</th>\n",
       "    </tr>\n",
       "  </thead>\n",
       "  <tbody>\n",
       "    <tr>\n",
       "      <th>0</th>\n",
       "      <td>2004-10</td>\n",
       "      <td>NaN</td>\n",
       "      <td>6</td>\n",
       "      <td>NaN</td>\n",
       "      <td>NaN</td>\n",
       "      <td>0</td>\n",
       "      <td>NaN</td>\n",
       "      <td>NaN</td>\n",
       "      <td>NaN</td>\n",
       "      <td>NaN</td>\n",
       "      <td>...</td>\n",
       "      <td>NaN</td>\n",
       "      <td>[]</td>\n",
       "      <td>Brandon</td>\n",
       "      <td>GwnFpsaEaLZfVh844EM0Jg</td>\n",
       "      <td>1</td>\n",
       "      <td>None</td>\n",
       "      <td>0</td>\n",
       "      <td>None</td>\n",
       "      <td>NaN</td>\n",
       "      <td>7</td>\n",
       "    </tr>\n",
       "    <tr>\n",
       "      <th>1</th>\n",
       "      <td>2004-10</td>\n",
       "      <td>1.0</td>\n",
       "      <td>5</td>\n",
       "      <td>NaN</td>\n",
       "      <td>1.0</td>\n",
       "      <td>1</td>\n",
       "      <td>NaN</td>\n",
       "      <td>NaN</td>\n",
       "      <td>NaN</td>\n",
       "      <td>NaN</td>\n",
       "      <td>...</td>\n",
       "      <td>NaN</td>\n",
       "      <td>[]</td>\n",
       "      <td>Teel</td>\n",
       "      <td>5KwFISX_GfnFUQ0VvaIE1A</td>\n",
       "      <td>1</td>\n",
       "      <td>None</td>\n",
       "      <td>2</td>\n",
       "      <td>None</td>\n",
       "      <td>NaN</td>\n",
       "      <td>16</td>\n",
       "    </tr>\n",
       "    <tr>\n",
       "      <th>2</th>\n",
       "      <td>2004-10</td>\n",
       "      <td>1.0</td>\n",
       "      <td>94</td>\n",
       "      <td>NaN</td>\n",
       "      <td>1.0</td>\n",
       "      <td>1</td>\n",
       "      <td>1.0</td>\n",
       "      <td>NaN</td>\n",
       "      <td>NaN</td>\n",
       "      <td>NaN</td>\n",
       "      <td>...</td>\n",
       "      <td>1.0</td>\n",
       "      <td>[]</td>\n",
       "      <td>Larry</td>\n",
       "      <td>82d-mm3hB2UelHwrptvcMw</td>\n",
       "      <td>8</td>\n",
       "      <td>None</td>\n",
       "      <td>4</td>\n",
       "      <td>None</td>\n",
       "      <td>NaN</td>\n",
       "      <td>17</td>\n",
       "    </tr>\n",
       "    <tr>\n",
       "      <th>3</th>\n",
       "      <td>2004-10</td>\n",
       "      <td>2.0</td>\n",
       "      <td>66</td>\n",
       "      <td>2.0</td>\n",
       "      <td>2.0</td>\n",
       "      <td>4</td>\n",
       "      <td>1.0</td>\n",
       "      <td>1.0</td>\n",
       "      <td>1.0</td>\n",
       "      <td>NaN</td>\n",
       "      <td>...</td>\n",
       "      <td>1.0</td>\n",
       "      <td>[2005]</td>\n",
       "      <td>Katherine</td>\n",
       "      <td>SIBCL7HBkrP4llolm4SC2A</td>\n",
       "      <td>13</td>\n",
       "      <td>None</td>\n",
       "      <td>11</td>\n",
       "      <td>None</td>\n",
       "      <td>NaN</td>\n",
       "      <td>34</td>\n",
       "    </tr>\n",
       "    <tr>\n",
       "      <th>4</th>\n",
       "      <td>2004-10</td>\n",
       "      <td>89.0</td>\n",
       "      <td>442</td>\n",
       "      <td>23.0</td>\n",
       "      <td>24.0</td>\n",
       "      <td>100</td>\n",
       "      <td>83.0</td>\n",
       "      <td>101.0</td>\n",
       "      <td>145.0</td>\n",
       "      <td>9.0</td>\n",
       "      <td>...</td>\n",
       "      <td>19.0</td>\n",
       "      <td>[2005, 2006, 2007, 2008, 2009, 2010, 2011, 201...</td>\n",
       "      <td>Michael</td>\n",
       "      <td>4U9kSBLuBDU391x6bxU-YA</td>\n",
       "      <td>732</td>\n",
       "      <td>4.0</td>\n",
       "      <td>908</td>\n",
       "      <td>24.0</td>\n",
       "      <td>120.0</td>\n",
       "      <td>1483</td>\n",
       "    </tr>\n",
       "  </tbody>\n",
       "</table>\n",
       "<p>5 rows × 21 columns</p>\n",
       "</div>"
      ],
      "text/plain": [
       "  yelping_since  compliments_plain  review_count  compliments_cute  \\\n",
       "0       2004-10                NaN             6               NaN   \n",
       "1       2004-10                1.0             5               NaN   \n",
       "2       2004-10                1.0            94               NaN   \n",
       "3       2004-10                2.0            66               2.0   \n",
       "4       2004-10               89.0           442              23.0   \n",
       "\n",
       "   compliments_writer  fans  compliments_note  compliments_hot  \\\n",
       "0                 NaN     0               NaN              NaN   \n",
       "1                 1.0     1               NaN              NaN   \n",
       "2                 1.0     1               1.0              NaN   \n",
       "3                 2.0     4               1.0              1.0   \n",
       "4                24.0   100              83.0            101.0   \n",
       "\n",
       "   compliments_cool  compliments_profile      ...       compliments_more  \\\n",
       "0               NaN                  NaN      ...                    NaN   \n",
       "1               NaN                  NaN      ...                    NaN   \n",
       "2               NaN                  NaN      ...                    1.0   \n",
       "3               1.0                  NaN      ...                    1.0   \n",
       "4             145.0                  9.0      ...                   19.0   \n",
       "\n",
       "                                               elite       name  \\\n",
       "0                                                 []    Brandon   \n",
       "1                                                 []       Teel   \n",
       "2                                                 []      Larry   \n",
       "3                                             [2005]  Katherine   \n",
       "4  [2005, 2006, 2007, 2008, 2009, 2010, 2011, 201...    Michael   \n",
       "\n",
       "                  user_id votes_cool  compliments_list votes_funny  \\\n",
       "0  GwnFpsaEaLZfVh844EM0Jg          1              None           0   \n",
       "1  5KwFISX_GfnFUQ0VvaIE1A          1              None           2   \n",
       "2  82d-mm3hB2UelHwrptvcMw          8              None           4   \n",
       "3  SIBCL7HBkrP4llolm4SC2A         13              None          11   \n",
       "4  4U9kSBLuBDU391x6bxU-YA        732               4.0         908   \n",
       "\n",
       "   compliments_photos compliments_funny  votes_useful  \n",
       "0                None               NaN             7  \n",
       "1                None               NaN            16  \n",
       "2                None               NaN            17  \n",
       "3                None               NaN            34  \n",
       "4                24.0             120.0          1483  \n",
       "\n",
       "[5 rows x 21 columns]"
      ]
     },
     "execution_count": 984,
     "metadata": {},
     "output_type": "execute_result"
    }
   ],
   "source": [
    "df_users.head()"
   ]
  },
  {
   "cell_type": "code",
   "execution_count": 985,
   "metadata": {
    "collapsed": false
   },
   "outputs": [
    {
     "data": {
      "text/html": [
       "<div>\n",
       "<table border=\"1\" class=\"dataframe\">\n",
       "  <thead>\n",
       "    <tr style=\"text-align: right;\">\n",
       "      <th></th>\n",
       "      <th>yelping_since</th>\n",
       "      <th>compliments_plain</th>\n",
       "      <th>review_count</th>\n",
       "      <th>compliments_cute</th>\n",
       "      <th>compliments_writer</th>\n",
       "      <th>fans</th>\n",
       "      <th>compliments_note</th>\n",
       "      <th>compliments_hot</th>\n",
       "      <th>compliments_cool</th>\n",
       "      <th>compliments_profile</th>\n",
       "      <th>...</th>\n",
       "      <th>compliments_more</th>\n",
       "      <th>elite</th>\n",
       "      <th>name</th>\n",
       "      <th>user_id</th>\n",
       "      <th>votes_cool</th>\n",
       "      <th>compliments_list</th>\n",
       "      <th>votes_funny</th>\n",
       "      <th>compliments_photos</th>\n",
       "      <th>compliments_funny</th>\n",
       "      <th>votes_useful</th>\n",
       "    </tr>\n",
       "  </thead>\n",
       "  <tbody>\n",
       "    <tr>\n",
       "      <th>0</th>\n",
       "      <td>2004-10</td>\n",
       "      <td>NaN</td>\n",
       "      <td>6</td>\n",
       "      <td>NaN</td>\n",
       "      <td>NaN</td>\n",
       "      <td>0</td>\n",
       "      <td>NaN</td>\n",
       "      <td>NaN</td>\n",
       "      <td>NaN</td>\n",
       "      <td>NaN</td>\n",
       "      <td>...</td>\n",
       "      <td>NaN</td>\n",
       "      <td>[]</td>\n",
       "      <td>Brandon</td>\n",
       "      <td>GwnFpsaEaLZfVh844EM0Jg</td>\n",
       "      <td>1</td>\n",
       "      <td>None</td>\n",
       "      <td>0</td>\n",
       "      <td>None</td>\n",
       "      <td>NaN</td>\n",
       "      <td>7</td>\n",
       "    </tr>\n",
       "    <tr>\n",
       "      <th>1</th>\n",
       "      <td>2004-10</td>\n",
       "      <td>1.0</td>\n",
       "      <td>5</td>\n",
       "      <td>NaN</td>\n",
       "      <td>1.0</td>\n",
       "      <td>1</td>\n",
       "      <td>NaN</td>\n",
       "      <td>NaN</td>\n",
       "      <td>NaN</td>\n",
       "      <td>NaN</td>\n",
       "      <td>...</td>\n",
       "      <td>NaN</td>\n",
       "      <td>[]</td>\n",
       "      <td>Teel</td>\n",
       "      <td>5KwFISX_GfnFUQ0VvaIE1A</td>\n",
       "      <td>1</td>\n",
       "      <td>None</td>\n",
       "      <td>2</td>\n",
       "      <td>None</td>\n",
       "      <td>NaN</td>\n",
       "      <td>16</td>\n",
       "    </tr>\n",
       "    <tr>\n",
       "      <th>2</th>\n",
       "      <td>2004-10</td>\n",
       "      <td>1.0</td>\n",
       "      <td>94</td>\n",
       "      <td>NaN</td>\n",
       "      <td>1.0</td>\n",
       "      <td>1</td>\n",
       "      <td>1.0</td>\n",
       "      <td>NaN</td>\n",
       "      <td>NaN</td>\n",
       "      <td>NaN</td>\n",
       "      <td>...</td>\n",
       "      <td>1.0</td>\n",
       "      <td>[]</td>\n",
       "      <td>Larry</td>\n",
       "      <td>82d-mm3hB2UelHwrptvcMw</td>\n",
       "      <td>8</td>\n",
       "      <td>None</td>\n",
       "      <td>4</td>\n",
       "      <td>None</td>\n",
       "      <td>NaN</td>\n",
       "      <td>17</td>\n",
       "    </tr>\n",
       "    <tr>\n",
       "      <th>3</th>\n",
       "      <td>2004-10</td>\n",
       "      <td>2.0</td>\n",
       "      <td>66</td>\n",
       "      <td>2.0</td>\n",
       "      <td>2.0</td>\n",
       "      <td>4</td>\n",
       "      <td>1.0</td>\n",
       "      <td>1.0</td>\n",
       "      <td>1.0</td>\n",
       "      <td>NaN</td>\n",
       "      <td>...</td>\n",
       "      <td>1.0</td>\n",
       "      <td>[2005]</td>\n",
       "      <td>Katherine</td>\n",
       "      <td>SIBCL7HBkrP4llolm4SC2A</td>\n",
       "      <td>13</td>\n",
       "      <td>None</td>\n",
       "      <td>11</td>\n",
       "      <td>None</td>\n",
       "      <td>NaN</td>\n",
       "      <td>34</td>\n",
       "    </tr>\n",
       "    <tr>\n",
       "      <th>4</th>\n",
       "      <td>2004-10</td>\n",
       "      <td>89.0</td>\n",
       "      <td>442</td>\n",
       "      <td>23.0</td>\n",
       "      <td>24.0</td>\n",
       "      <td>100</td>\n",
       "      <td>83.0</td>\n",
       "      <td>101.0</td>\n",
       "      <td>145.0</td>\n",
       "      <td>9.0</td>\n",
       "      <td>...</td>\n",
       "      <td>19.0</td>\n",
       "      <td>[2005, 2006, 2007, 2008, 2009, 2010, 2011, 201...</td>\n",
       "      <td>Michael</td>\n",
       "      <td>4U9kSBLuBDU391x6bxU-YA</td>\n",
       "      <td>732</td>\n",
       "      <td>4.0</td>\n",
       "      <td>908</td>\n",
       "      <td>24.0</td>\n",
       "      <td>120.0</td>\n",
       "      <td>1483</td>\n",
       "    </tr>\n",
       "  </tbody>\n",
       "</table>\n",
       "<p>5 rows × 21 columns</p>\n",
       "</div>"
      ],
      "text/plain": [
       "  yelping_since  compliments_plain  review_count  compliments_cute  \\\n",
       "0       2004-10                NaN             6               NaN   \n",
       "1       2004-10                1.0             5               NaN   \n",
       "2       2004-10                1.0            94               NaN   \n",
       "3       2004-10                2.0            66               2.0   \n",
       "4       2004-10               89.0           442              23.0   \n",
       "\n",
       "   compliments_writer  fans  compliments_note  compliments_hot  \\\n",
       "0                 NaN     0               NaN              NaN   \n",
       "1                 1.0     1               NaN              NaN   \n",
       "2                 1.0     1               1.0              NaN   \n",
       "3                 2.0     4               1.0              1.0   \n",
       "4                24.0   100              83.0            101.0   \n",
       "\n",
       "   compliments_cool  compliments_profile      ...       compliments_more  \\\n",
       "0               NaN                  NaN      ...                    NaN   \n",
       "1               NaN                  NaN      ...                    NaN   \n",
       "2               NaN                  NaN      ...                    1.0   \n",
       "3               1.0                  NaN      ...                    1.0   \n",
       "4             145.0                  9.0      ...                   19.0   \n",
       "\n",
       "                                               elite       name  \\\n",
       "0                                                 []    Brandon   \n",
       "1                                                 []       Teel   \n",
       "2                                                 []      Larry   \n",
       "3                                             [2005]  Katherine   \n",
       "4  [2005, 2006, 2007, 2008, 2009, 2010, 2011, 201...    Michael   \n",
       "\n",
       "                  user_id votes_cool  compliments_list votes_funny  \\\n",
       "0  GwnFpsaEaLZfVh844EM0Jg          1              None           0   \n",
       "1  5KwFISX_GfnFUQ0VvaIE1A          1              None           2   \n",
       "2  82d-mm3hB2UelHwrptvcMw          8              None           4   \n",
       "3  SIBCL7HBkrP4llolm4SC2A         13              None          11   \n",
       "4  4U9kSBLuBDU391x6bxU-YA        732               4.0         908   \n",
       "\n",
       "   compliments_photos compliments_funny  votes_useful  \n",
       "0                None               NaN             7  \n",
       "1                None               NaN            16  \n",
       "2                None               NaN            17  \n",
       "3                None               NaN            34  \n",
       "4                24.0             120.0          1483  \n",
       "\n",
       "[5 rows x 21 columns]"
      ]
     },
     "execution_count": 985,
     "metadata": {},
     "output_type": "execute_result"
    }
   ],
   "source": [
    "#df_users.head()\n",
    "df_users_elite = df_users\n",
    "df_users_elite.head()"
   ]
  },
  {
   "cell_type": "code",
   "execution_count": 986,
   "metadata": {
    "collapsed": false,
    "scrolled": true
   },
   "outputs": [
    {
     "data": {
      "text/plain": [
       "array([u'[]', u'[]', u'[]', ..., u'[2010, 2011, 2012, 2013, 2014, 2015]',\n",
       "       u'[2009, 2011, 2012, 2013, 2014, 2015]',\n",
       "       u'[2009, 2010, 2011, 2012, 2013, 2014]'], dtype=object)"
      ]
     },
     "execution_count": 986,
     "metadata": {},
     "output_type": "execute_result"
    }
   ],
   "source": [
    "df_users_elite['elite'].values"
   ]
  },
  {
   "cell_type": "code",
   "execution_count": 987,
   "metadata": {
    "collapsed": true
   },
   "outputs": [],
   "source": [
    "#df_users_elite.drop(['elite_status','temp_elite'], axis=1, inplace=True)\n",
    "#df_users_elite.drop('temp_elite_len', axis=1, inplace=True)\n",
    "#df_users_elite.drop('temp_elite', axis=1, inplace=True)"
   ]
  },
  {
   "cell_type": "code",
   "execution_count": 988,
   "metadata": {
    "collapsed": false
   },
   "outputs": [],
   "source": [
    "#df_users_elite.head()"
   ]
  },
  {
   "cell_type": "code",
   "execution_count": 989,
   "metadata": {
    "collapsed": false
   },
   "outputs": [],
   "source": [
    "# def check(value):\n",
    "#     temp_list = []\n",
    "#     for x in value:\n",
    "#         if x == 0:\n",
    "#             y = 1\n",
    "#             temp_list.append(y)\n",
    "#     return temp_list\n",
    "\n",
    "\n",
    "# df_users_elite['temp_elite'] = df_users_elite['elite'].map(check)    "
   ]
  },
  {
   "cell_type": "code",
   "execution_count": 990,
   "metadata": {
    "collapsed": false
   },
   "outputs": [],
   "source": [
    "#df_users_elite['temp_elite'] = df_users_elite['elite'].map(lambda x: eval(x))"
   ]
  },
  {
   "cell_type": "code",
   "execution_count": 991,
   "metadata": {
    "collapsed": false
   },
   "outputs": [],
   "source": [
    "#df_users_elite['temp_elite_len'] = df_users_elite['temp_elite'].map(lambda x: len(x))"
   ]
  },
  {
   "cell_type": "code",
   "execution_count": 992,
   "metadata": {
    "collapsed": false
   },
   "outputs": [],
   "source": [
    "def elite_check(value):\n",
    "    value_temp = eval(value)\n",
    "    value_final = len(value_temp)\n",
    "    if value_final > 0:\n",
    "        return 1\n",
    "    else:\n",
    "        return 0\n",
    "\n",
    "df_users_elite['elite_status'] = df_users_elite['elite'].map(elite_check)"
   ]
  },
  {
   "cell_type": "code",
   "execution_count": 993,
   "metadata": {
    "collapsed": false
   },
   "outputs": [
    {
     "data": {
      "text/plain": [
       "['elite', 'elite_status']"
      ]
     },
     "execution_count": 993,
     "metadata": {},
     "output_type": "execute_result"
    }
   ],
   "source": [
    "###Find the predictors that help define \"elite\" that aren't based on year\n",
    "def elite_col_check(df_col):\n",
    "    service_list = []\n",
    "    for x in df_col:\n",
    "        if 'elite' in x or 'year' in x:\n",
    "            service_list.append(x)\n",
    "    return service_list\n",
    "\n",
    "elite_col_check(df_users_elite.columns)"
   ]
  },
  {
   "cell_type": "code",
   "execution_count": 994,
   "metadata": {
    "collapsed": false
   },
   "outputs": [
    {
     "data": {
      "text/html": [
       "<div>\n",
       "<table border=\"1\" class=\"dataframe\">\n",
       "  <thead>\n",
       "    <tr style=\"text-align: right;\">\n",
       "      <th></th>\n",
       "      <th>yelping_since</th>\n",
       "      <th>compliments_plain</th>\n",
       "      <th>review_count</th>\n",
       "      <th>compliments_cute</th>\n",
       "      <th>compliments_writer</th>\n",
       "      <th>fans</th>\n",
       "      <th>compliments_note</th>\n",
       "      <th>compliments_hot</th>\n",
       "      <th>compliments_cool</th>\n",
       "      <th>compliments_profile</th>\n",
       "      <th>...</th>\n",
       "      <th>elite</th>\n",
       "      <th>name</th>\n",
       "      <th>user_id</th>\n",
       "      <th>votes_cool</th>\n",
       "      <th>compliments_list</th>\n",
       "      <th>votes_funny</th>\n",
       "      <th>compliments_photos</th>\n",
       "      <th>compliments_funny</th>\n",
       "      <th>votes_useful</th>\n",
       "      <th>elite_status</th>\n",
       "    </tr>\n",
       "  </thead>\n",
       "  <tbody>\n",
       "    <tr>\n",
       "      <th>0</th>\n",
       "      <td>2004-10</td>\n",
       "      <td>NaN</td>\n",
       "      <td>6</td>\n",
       "      <td>NaN</td>\n",
       "      <td>NaN</td>\n",
       "      <td>0</td>\n",
       "      <td>NaN</td>\n",
       "      <td>NaN</td>\n",
       "      <td>NaN</td>\n",
       "      <td>NaN</td>\n",
       "      <td>...</td>\n",
       "      <td>[]</td>\n",
       "      <td>Brandon</td>\n",
       "      <td>GwnFpsaEaLZfVh844EM0Jg</td>\n",
       "      <td>1</td>\n",
       "      <td>None</td>\n",
       "      <td>0</td>\n",
       "      <td>None</td>\n",
       "      <td>NaN</td>\n",
       "      <td>7</td>\n",
       "      <td>0</td>\n",
       "    </tr>\n",
       "    <tr>\n",
       "      <th>1</th>\n",
       "      <td>2004-10</td>\n",
       "      <td>1.0</td>\n",
       "      <td>5</td>\n",
       "      <td>NaN</td>\n",
       "      <td>1.0</td>\n",
       "      <td>1</td>\n",
       "      <td>NaN</td>\n",
       "      <td>NaN</td>\n",
       "      <td>NaN</td>\n",
       "      <td>NaN</td>\n",
       "      <td>...</td>\n",
       "      <td>[]</td>\n",
       "      <td>Teel</td>\n",
       "      <td>5KwFISX_GfnFUQ0VvaIE1A</td>\n",
       "      <td>1</td>\n",
       "      <td>None</td>\n",
       "      <td>2</td>\n",
       "      <td>None</td>\n",
       "      <td>NaN</td>\n",
       "      <td>16</td>\n",
       "      <td>0</td>\n",
       "    </tr>\n",
       "    <tr>\n",
       "      <th>2</th>\n",
       "      <td>2004-10</td>\n",
       "      <td>1.0</td>\n",
       "      <td>94</td>\n",
       "      <td>NaN</td>\n",
       "      <td>1.0</td>\n",
       "      <td>1</td>\n",
       "      <td>1.0</td>\n",
       "      <td>NaN</td>\n",
       "      <td>NaN</td>\n",
       "      <td>NaN</td>\n",
       "      <td>...</td>\n",
       "      <td>[]</td>\n",
       "      <td>Larry</td>\n",
       "      <td>82d-mm3hB2UelHwrptvcMw</td>\n",
       "      <td>8</td>\n",
       "      <td>None</td>\n",
       "      <td>4</td>\n",
       "      <td>None</td>\n",
       "      <td>NaN</td>\n",
       "      <td>17</td>\n",
       "      <td>0</td>\n",
       "    </tr>\n",
       "    <tr>\n",
       "      <th>3</th>\n",
       "      <td>2004-10</td>\n",
       "      <td>2.0</td>\n",
       "      <td>66</td>\n",
       "      <td>2.0</td>\n",
       "      <td>2.0</td>\n",
       "      <td>4</td>\n",
       "      <td>1.0</td>\n",
       "      <td>1.0</td>\n",
       "      <td>1.0</td>\n",
       "      <td>NaN</td>\n",
       "      <td>...</td>\n",
       "      <td>[2005]</td>\n",
       "      <td>Katherine</td>\n",
       "      <td>SIBCL7HBkrP4llolm4SC2A</td>\n",
       "      <td>13</td>\n",
       "      <td>None</td>\n",
       "      <td>11</td>\n",
       "      <td>None</td>\n",
       "      <td>NaN</td>\n",
       "      <td>34</td>\n",
       "      <td>1</td>\n",
       "    </tr>\n",
       "    <tr>\n",
       "      <th>4</th>\n",
       "      <td>2004-10</td>\n",
       "      <td>89.0</td>\n",
       "      <td>442</td>\n",
       "      <td>23.0</td>\n",
       "      <td>24.0</td>\n",
       "      <td>100</td>\n",
       "      <td>83.0</td>\n",
       "      <td>101.0</td>\n",
       "      <td>145.0</td>\n",
       "      <td>9.0</td>\n",
       "      <td>...</td>\n",
       "      <td>[2005, 2006, 2007, 2008, 2009, 2010, 2011, 201...</td>\n",
       "      <td>Michael</td>\n",
       "      <td>4U9kSBLuBDU391x6bxU-YA</td>\n",
       "      <td>732</td>\n",
       "      <td>4.0</td>\n",
       "      <td>908</td>\n",
       "      <td>24.0</td>\n",
       "      <td>120.0</td>\n",
       "      <td>1483</td>\n",
       "      <td>1</td>\n",
       "    </tr>\n",
       "  </tbody>\n",
       "</table>\n",
       "<p>5 rows × 22 columns</p>\n",
       "</div>"
      ],
      "text/plain": [
       "  yelping_since  compliments_plain  review_count  compliments_cute  \\\n",
       "0       2004-10                NaN             6               NaN   \n",
       "1       2004-10                1.0             5               NaN   \n",
       "2       2004-10                1.0            94               NaN   \n",
       "3       2004-10                2.0            66               2.0   \n",
       "4       2004-10               89.0           442              23.0   \n",
       "\n",
       "   compliments_writer  fans  compliments_note  compliments_hot  \\\n",
       "0                 NaN     0               NaN              NaN   \n",
       "1                 1.0     1               NaN              NaN   \n",
       "2                 1.0     1               1.0              NaN   \n",
       "3                 2.0     4               1.0              1.0   \n",
       "4                24.0   100              83.0            101.0   \n",
       "\n",
       "   compliments_cool  compliments_profile      ...       \\\n",
       "0               NaN                  NaN      ...        \n",
       "1               NaN                  NaN      ...        \n",
       "2               NaN                  NaN      ...        \n",
       "3               1.0                  NaN      ...        \n",
       "4             145.0                  9.0      ...        \n",
       "\n",
       "                                               elite       name  \\\n",
       "0                                                 []    Brandon   \n",
       "1                                                 []       Teel   \n",
       "2                                                 []      Larry   \n",
       "3                                             [2005]  Katherine   \n",
       "4  [2005, 2006, 2007, 2008, 2009, 2010, 2011, 201...    Michael   \n",
       "\n",
       "                  user_id votes_cool compliments_list  votes_funny  \\\n",
       "0  GwnFpsaEaLZfVh844EM0Jg          1             None            0   \n",
       "1  5KwFISX_GfnFUQ0VvaIE1A          1             None            2   \n",
       "2  82d-mm3hB2UelHwrptvcMw          8             None            4   \n",
       "3  SIBCL7HBkrP4llolm4SC2A         13             None           11   \n",
       "4  4U9kSBLuBDU391x6bxU-YA        732              4.0          908   \n",
       "\n",
       "  compliments_photos  compliments_funny votes_useful  elite_status  \n",
       "0               None                NaN            7             0  \n",
       "1               None                NaN           16             0  \n",
       "2               None                NaN           17             0  \n",
       "3               None                NaN           34             1  \n",
       "4               24.0              120.0         1483             1  \n",
       "\n",
       "[5 rows x 22 columns]"
      ]
     },
     "execution_count": 994,
     "metadata": {},
     "output_type": "execute_result"
    }
   ],
   "source": [
    "df_users_elite.head()"
   ]
  },
  {
   "cell_type": "code",
   "execution_count": 995,
   "metadata": {
    "collapsed": false
   },
   "outputs": [
    {
     "name": "stdout",
     "output_type": "stream",
     "text": [
      "0.938786279683\n"
     ]
    }
   ],
   "source": [
    "###Will take out any non-numeric values now for the predictions\n",
    "elite_list = ['yelping_since', 'elite', 'name', 'user_id', 'elite_status']\n",
    "formula = 'elite_status ~ ' + ' + '.join([x for x in df_users_elite.columns if x not in elite_list]) + ' - 1'\n",
    "#print formula\n",
    "\n",
    "y, X = patsy.dmatrices(formula, data=df_users_elite, return_type='dataframe')\n",
    "\n",
    "y = np.ravel(y)\n",
    "ss = StandardScaler()\n",
    "Xn = ss.fit_transform(X)\n",
    "\n",
    "print np.mean(y)"
   ]
  },
  {
   "cell_type": "code",
   "execution_count": 996,
   "metadata": {
    "collapsed": false
   },
   "outputs": [],
   "source": [
    "# from sklearn.neighbors import KNeighborsClassifier\n",
    "# params = {\n",
    "#     'n_neighbors':range(1,101),\n",
    "#     'weights':['uniform','distance']\n",
    "# }\n",
    "\n",
    "# knn = KNeighborsClassifier()\n",
    "\n",
    "# knn_gs = GridSearchCV(knn, params, cv=5, verbose=1)\n",
    "# knn_gs.fit(Xn, y)"
   ]
  },
  {
   "cell_type": "code",
   "execution_count": 997,
   "metadata": {
    "collapsed": false
   },
   "outputs": [],
   "source": [
    "# print knn_gs.best_params_\n",
    "# best_knn = knn_gs.best_estimator_"
   ]
  },
  {
   "cell_type": "code",
   "execution_count": 998,
   "metadata": {
    "collapsed": false
   },
   "outputs": [],
   "source": [
    "# best_knn.fit(Xn, y)\n",
    "# scores = cross_val_score(best_knn, Xn, y, cv=5)\n",
    "# print scores\n",
    "# print np.mean(scores)"
   ]
  },
  {
   "cell_type": "code",
   "execution_count": 999,
   "metadata": {
    "collapsed": false
   },
   "outputs": [],
   "source": [
    "# ###Logistic Fit\n",
    "# from sklearn.svm import SVC\n",
    "\n",
    "# svc_params = {\n",
    "#     'C':np.logspace(1e-4, 1e1, 20),\n",
    "#     'kernel':['linear','rbf']\n",
    "# }\n",
    "\n",
    "# svc_gs = GridSearchCV(SVC(), svc_params, cv=5, verbose=1)\n",
    "# svc_gs.fit(Xn, y)"
   ]
  },
  {
   "cell_type": "code",
   "execution_count": 1000,
   "metadata": {
    "collapsed": true
   },
   "outputs": [],
   "source": [
    "# best_svc = svc_gs.best_estimator_\n",
    "# print svc_gs.best_params_\n",
    "# print svc_gs.best_score_"
   ]
  },
  {
   "cell_type": "code",
   "execution_count": 1001,
   "metadata": {
    "collapsed": true
   },
   "outputs": [],
   "source": [
    "# from sklearn.linear_model import LogisticRegression\n",
    "\n",
    "# lr_params = {\n",
    "#     'penalty':['l1','l2']\n",
    "#     'C':np.linspace(1e-4,1e2, 40)\n",
    "# }\n",
    "\n",
    "# lr_gs = GridSearchCV(LogisticRegression(), lr_params, cv=5, verbose=1)\n",
    "# lr_gs.fit(Xn, y)"
   ]
  },
  {
   "cell_type": "code",
   "execution_count": 1002,
   "metadata": {
    "collapsed": true
   },
   "outputs": [],
   "source": [
    "# best_lr = lr_gs.best_estimator_\n",
    "# print lr_gs.best_params_\n",
    "# print lr_gs.best_score_"
   ]
  },
  {
   "cell_type": "code",
   "execution_count": 1003,
   "metadata": {
    "collapsed": false
   },
   "outputs": [],
   "source": [
    "# coefs = pd.DataFrame({'coef':best_knn.coef_, 'abs_coef':np.abs(best_knn.coef_),\n",
    "#                       'variable':X.columns})\n",
    "# coefs.sort_values('abs_coef', ascending=False, inplace=True)\n",
    "# coefs.head(20)"
   ]
  },
  {
   "cell_type": "markdown",
   "metadata": {},
   "source": [
    "<img src=\"http://imgur.com/GCAf1UX.png\" style=\"float: left; margin: 25px 15px 0px 0px; height: 25px\">\n",
    "\n",
    "## 5. Find something interesting on your own\n",
    "\n",
    "---\n",
    "\n",
    "You want to impress your superiors at Yelp by doing some investigation into the data on your own. You want to do classification, but you're not sure on what.\n",
    "\n",
    "1. Create a hypothesis or hypotheses about the data based on whatever you are interested in, as long as it is predicting a category of some kind (classification).\n",
    "2. Explore the data visually (ideally related to this hypothesis).\n",
    "3. Build one or more classification models to predict your target variable. **Your modeling should include gridsearching to find optimal model parameters.**\n",
    "4. Evaluate the performance of your model. Explain why your model may have chosen those specific parameters during the gridsearch process.\n",
    "5. Write up what the model tells you. Does it validate or invalidate your hypothesis? Write this up as if for a non-technical audience."
   ]
  },
  {
   "cell_type": "code",
   "execution_count": null,
   "metadata": {
    "collapsed": true
   },
   "outputs": [],
   "source": []
  },
  {
   "cell_type": "markdown",
   "metadata": {},
   "source": [
    "<img src=\"http://imgur.com/GCAf1UX.png\" style=\"float: left; margin: 25px 15px 0px 0px; height: 25px\">\n",
    "\n",
    "## 6. ROC and Precision-recall\n",
    "\n",
    "---\n",
    "\n",
    "Some categories have fewer overall businesses than others. Choose two categories of businesses to predict, one that makes your proportion of target classes as even as possible, and another that has very few businesses and thus makes the target varible imbalanced.\n",
    "\n",
    "1. Create two classification models predicting these categories. Optimize the models and choose variables as you see fit.\n",
    "- Make confusion matrices for your models. Describe the confusion matrices and explain what they tell you about your models' performance.\n",
    "- Make ROC curves for both models. What do the ROC curves describe and what do they tell you about your model?\n",
    "- Make Precision-Recall curves for the models. What do they describe? How do they compare to the ROC curves?\n",
    "- Explain when Precision-Recall may be preferable to ROC. Is that the case in either of your models?"
   ]
  },
  {
   "cell_type": "code",
   "execution_count": null,
   "metadata": {
    "collapsed": true
   },
   "outputs": [],
   "source": []
  }
 ],
 "metadata": {
  "anaconda-cloud": {},
  "kernelspec": {
   "display_name": "Python [conda env:dsi]",
   "language": "python",
   "name": "conda-env-dsi-py"
  },
  "language_info": {
   "codemirror_mode": {
    "name": "ipython",
    "version": 2
   },
   "file_extension": ".py",
   "mimetype": "text/x-python",
   "name": "python",
   "nbconvert_exporter": "python",
   "pygments_lexer": "ipython2",
   "version": "2.7.12"
  }
 },
 "nbformat": 4,
 "nbformat_minor": 0
}
